{
  "nbformat": 4,
  "nbformat_minor": 0,
  "metadata": {
    "colab": {
      "name": "Factors Affecting Employee Attrition.ipynb",
      "provenance": [],
      "authorship_tag": "ABX9TyOI109fyvDkjVawicSzQcqN",
      "include_colab_link": true
    },
    "kernelspec": {
      "name": "python3",
      "display_name": "Python 3"
    }
  },
  "cells": [
    {
      "cell_type": "markdown",
      "metadata": {
        "id": "view-in-github",
        "colab_type": "text"
      },
      "source": [
        "<a href=\"https://colab.research.google.com/github/Nai5lf/Projects/blob/main/Factors_Affecting_Employee_Attrition.ipynb\" target=\"_parent\"><img src=\"https://colab.research.google.com/assets/colab-badge.svg\" alt=\"Open In Colab\"/></a>"
      ]
    },
    {
      "cell_type": "markdown",
      "metadata": {
        "id": "NhxBW6_0HZxS"
      },
      "source": [
        "## **1. Introduction.**\n",
        "\n",
        "Although employees strive and work hard to build their careers, it is only a few who stay for a significant duration (for example five to ten years or more) with their employers. This of course has its effect on both employees and employers. There is the cost, time and effort lost on both sides for example to either look for a new job on one hand or to hire a new member of staff on the other. The aim of this study is to help identify the aspects that affect attrition rates and therefore can contribute to creating strategies to decrease attrition. We would like to analyze the data available to find the factors that affect attrition rates."
      ]
    },
    {
      "cell_type": "markdown",
      "metadata": {
        "id": "isfiAaMTdC_1"
      },
      "source": [
        "## **2. Hypothesis**\n",
        "**Ho(1):** There is no significant relationship between how far employees live from work and their attrition.\n",
        "\n",
        "**Ha(1):** There is significant relationship between how far employees live from work and their attrition.\n",
        "\n",
        "**Ho(2):** There is no significant relationship between employees monthly salaries and their attrition.\n",
        "\n",
        "**Ha(2):** There is significant relationship between employees monthly salaries and their attrition."
      ]
    },
    {
      "cell_type": "markdown",
      "metadata": {
        "id": "9RG3sGwixlYA"
      },
      "source": [
        "## **3. Data**\n",
        "The dataset we are going to use includes data on employee satisfaction, income, demographics and 32 other variables. The data comes from [Kaggle](https://https://www.kaggle.com/pavansubhasht/ibm-hr-analytics-attrition-dataset) and contains 1,470 observations and 35 variables."
      ]
    },
    {
      "cell_type": "code",
      "metadata": {
        "id": "LalRHsvTJeAo"
      },
      "source": [
        "import math\n",
        "import pandas as pd\n",
        "import numpy as np\n",
        "from scipy import stats\n",
        "import matplotlib.pyplot as plt\n",
        "import seaborn as sns \n",
        "sns.set()\n",
        "import warnings\n",
        "warnings.filterwarnings(\"ignore\")\n",
        "\n",
        "# creating a dataframe\n",
        "hr_eap = pd.read_csv(\"https://raw.githubusercontent.com/naiel-khalaf/Think-data/master/WA_Fn-UseC_-HR-Employee-Attrition%20(1).csv\")"
      ],
      "execution_count": null,
      "outputs": []
    },
    {
      "cell_type": "code",
      "metadata": {
        "id": "3teNbnK9QY9E",
        "colab": {
          "base_uri": "https://localhost:8080/",
          "height": 971
        },
        "outputId": "5045f271-280d-4c3a-812f-5fc2d7516183"
      },
      "source": [
        "# lowercase column headers\n",
        "hr_eap.columns = hr_eap.columns.str.lower()\n",
        "\n",
        "# 3.Data - observations & variables\n",
        "hr_eap.info()\n",
        "hr_eap.head()"
      ],
      "execution_count": null,
      "outputs": [
        {
          "output_type": "stream",
          "text": [
            "<class 'pandas.core.frame.DataFrame'>\n",
            "RangeIndex: 1470 entries, 0 to 1469\n",
            "Data columns (total 35 columns):\n",
            "age                         1470 non-null int64\n",
            "attrition                   1470 non-null object\n",
            "businesstravel              1470 non-null object\n",
            "dailyrate                   1470 non-null int64\n",
            "department                  1470 non-null object\n",
            "distancefromhome            1470 non-null int64\n",
            "education                   1470 non-null int64\n",
            "educationfield              1470 non-null object\n",
            "employeecount               1470 non-null int64\n",
            "employeenumber              1470 non-null int64\n",
            "environmentsatisfaction     1470 non-null int64\n",
            "gender                      1470 non-null object\n",
            "hourlyrate                  1470 non-null int64\n",
            "jobinvolvement              1470 non-null int64\n",
            "joblevel                    1470 non-null int64\n",
            "jobrole                     1470 non-null object\n",
            "jobsatisfaction             1470 non-null int64\n",
            "maritalstatus               1470 non-null object\n",
            "monthlyincome               1470 non-null int64\n",
            "monthlyrate                 1470 non-null int64\n",
            "numcompaniesworked          1470 non-null int64\n",
            "over18                      1470 non-null object\n",
            "overtime                    1470 non-null object\n",
            "percentsalaryhike           1470 non-null int64\n",
            "performancerating           1470 non-null int64\n",
            "relationshipsatisfaction    1470 non-null int64\n",
            "standardhours               1470 non-null int64\n",
            "stockoptionlevel            1470 non-null int64\n",
            "totalworkingyears           1470 non-null int64\n",
            "trainingtimeslastyear       1470 non-null int64\n",
            "worklifebalance             1470 non-null int64\n",
            "yearsatcompany              1470 non-null int64\n",
            "yearsincurrentrole          1470 non-null int64\n",
            "yearssincelastpromotion     1470 non-null int64\n",
            "yearswithcurrmanager        1470 non-null int64\n",
            "dtypes: int64(26), object(9)\n",
            "memory usage: 402.1+ KB\n"
          ],
          "name": "stdout"
        },
        {
          "output_type": "execute_result",
          "data": {
            "text/html": [
              "<div>\n",
              "<style scoped>\n",
              "    .dataframe tbody tr th:only-of-type {\n",
              "        vertical-align: middle;\n",
              "    }\n",
              "\n",
              "    .dataframe tbody tr th {\n",
              "        vertical-align: top;\n",
              "    }\n",
              "\n",
              "    .dataframe thead th {\n",
              "        text-align: right;\n",
              "    }\n",
              "</style>\n",
              "<table border=\"1\" class=\"dataframe\">\n",
              "  <thead>\n",
              "    <tr style=\"text-align: right;\">\n",
              "      <th></th>\n",
              "      <th>age</th>\n",
              "      <th>attrition</th>\n",
              "      <th>businesstravel</th>\n",
              "      <th>dailyrate</th>\n",
              "      <th>department</th>\n",
              "      <th>distancefromhome</th>\n",
              "      <th>education</th>\n",
              "      <th>educationfield</th>\n",
              "      <th>employeecount</th>\n",
              "      <th>employeenumber</th>\n",
              "      <th>environmentsatisfaction</th>\n",
              "      <th>gender</th>\n",
              "      <th>hourlyrate</th>\n",
              "      <th>jobinvolvement</th>\n",
              "      <th>joblevel</th>\n",
              "      <th>jobrole</th>\n",
              "      <th>jobsatisfaction</th>\n",
              "      <th>maritalstatus</th>\n",
              "      <th>monthlyincome</th>\n",
              "      <th>monthlyrate</th>\n",
              "      <th>numcompaniesworked</th>\n",
              "      <th>over18</th>\n",
              "      <th>overtime</th>\n",
              "      <th>percentsalaryhike</th>\n",
              "      <th>performancerating</th>\n",
              "      <th>relationshipsatisfaction</th>\n",
              "      <th>standardhours</th>\n",
              "      <th>stockoptionlevel</th>\n",
              "      <th>totalworkingyears</th>\n",
              "      <th>trainingtimeslastyear</th>\n",
              "      <th>worklifebalance</th>\n",
              "      <th>yearsatcompany</th>\n",
              "      <th>yearsincurrentrole</th>\n",
              "      <th>yearssincelastpromotion</th>\n",
              "      <th>yearswithcurrmanager</th>\n",
              "    </tr>\n",
              "  </thead>\n",
              "  <tbody>\n",
              "    <tr>\n",
              "      <th>0</th>\n",
              "      <td>41</td>\n",
              "      <td>Yes</td>\n",
              "      <td>Travel_Rarely</td>\n",
              "      <td>1102</td>\n",
              "      <td>Sales</td>\n",
              "      <td>1</td>\n",
              "      <td>2</td>\n",
              "      <td>Life Sciences</td>\n",
              "      <td>1</td>\n",
              "      <td>1</td>\n",
              "      <td>2</td>\n",
              "      <td>Female</td>\n",
              "      <td>94</td>\n",
              "      <td>3</td>\n",
              "      <td>2</td>\n",
              "      <td>Sales Executive</td>\n",
              "      <td>4</td>\n",
              "      <td>Single</td>\n",
              "      <td>5993</td>\n",
              "      <td>19479</td>\n",
              "      <td>8</td>\n",
              "      <td>Y</td>\n",
              "      <td>Yes</td>\n",
              "      <td>11</td>\n",
              "      <td>3</td>\n",
              "      <td>1</td>\n",
              "      <td>80</td>\n",
              "      <td>0</td>\n",
              "      <td>8</td>\n",
              "      <td>0</td>\n",
              "      <td>1</td>\n",
              "      <td>6</td>\n",
              "      <td>4</td>\n",
              "      <td>0</td>\n",
              "      <td>5</td>\n",
              "    </tr>\n",
              "    <tr>\n",
              "      <th>1</th>\n",
              "      <td>49</td>\n",
              "      <td>No</td>\n",
              "      <td>Travel_Frequently</td>\n",
              "      <td>279</td>\n",
              "      <td>Research &amp; Development</td>\n",
              "      <td>8</td>\n",
              "      <td>1</td>\n",
              "      <td>Life Sciences</td>\n",
              "      <td>1</td>\n",
              "      <td>2</td>\n",
              "      <td>3</td>\n",
              "      <td>Male</td>\n",
              "      <td>61</td>\n",
              "      <td>2</td>\n",
              "      <td>2</td>\n",
              "      <td>Research Scientist</td>\n",
              "      <td>2</td>\n",
              "      <td>Married</td>\n",
              "      <td>5130</td>\n",
              "      <td>24907</td>\n",
              "      <td>1</td>\n",
              "      <td>Y</td>\n",
              "      <td>No</td>\n",
              "      <td>23</td>\n",
              "      <td>4</td>\n",
              "      <td>4</td>\n",
              "      <td>80</td>\n",
              "      <td>1</td>\n",
              "      <td>10</td>\n",
              "      <td>3</td>\n",
              "      <td>3</td>\n",
              "      <td>10</td>\n",
              "      <td>7</td>\n",
              "      <td>1</td>\n",
              "      <td>7</td>\n",
              "    </tr>\n",
              "    <tr>\n",
              "      <th>2</th>\n",
              "      <td>37</td>\n",
              "      <td>Yes</td>\n",
              "      <td>Travel_Rarely</td>\n",
              "      <td>1373</td>\n",
              "      <td>Research &amp; Development</td>\n",
              "      <td>2</td>\n",
              "      <td>2</td>\n",
              "      <td>Other</td>\n",
              "      <td>1</td>\n",
              "      <td>4</td>\n",
              "      <td>4</td>\n",
              "      <td>Male</td>\n",
              "      <td>92</td>\n",
              "      <td>2</td>\n",
              "      <td>1</td>\n",
              "      <td>Laboratory Technician</td>\n",
              "      <td>3</td>\n",
              "      <td>Single</td>\n",
              "      <td>2090</td>\n",
              "      <td>2396</td>\n",
              "      <td>6</td>\n",
              "      <td>Y</td>\n",
              "      <td>Yes</td>\n",
              "      <td>15</td>\n",
              "      <td>3</td>\n",
              "      <td>2</td>\n",
              "      <td>80</td>\n",
              "      <td>0</td>\n",
              "      <td>7</td>\n",
              "      <td>3</td>\n",
              "      <td>3</td>\n",
              "      <td>0</td>\n",
              "      <td>0</td>\n",
              "      <td>0</td>\n",
              "      <td>0</td>\n",
              "    </tr>\n",
              "    <tr>\n",
              "      <th>3</th>\n",
              "      <td>33</td>\n",
              "      <td>No</td>\n",
              "      <td>Travel_Frequently</td>\n",
              "      <td>1392</td>\n",
              "      <td>Research &amp; Development</td>\n",
              "      <td>3</td>\n",
              "      <td>4</td>\n",
              "      <td>Life Sciences</td>\n",
              "      <td>1</td>\n",
              "      <td>5</td>\n",
              "      <td>4</td>\n",
              "      <td>Female</td>\n",
              "      <td>56</td>\n",
              "      <td>3</td>\n",
              "      <td>1</td>\n",
              "      <td>Research Scientist</td>\n",
              "      <td>3</td>\n",
              "      <td>Married</td>\n",
              "      <td>2909</td>\n",
              "      <td>23159</td>\n",
              "      <td>1</td>\n",
              "      <td>Y</td>\n",
              "      <td>Yes</td>\n",
              "      <td>11</td>\n",
              "      <td>3</td>\n",
              "      <td>3</td>\n",
              "      <td>80</td>\n",
              "      <td>0</td>\n",
              "      <td>8</td>\n",
              "      <td>3</td>\n",
              "      <td>3</td>\n",
              "      <td>8</td>\n",
              "      <td>7</td>\n",
              "      <td>3</td>\n",
              "      <td>0</td>\n",
              "    </tr>\n",
              "    <tr>\n",
              "      <th>4</th>\n",
              "      <td>27</td>\n",
              "      <td>No</td>\n",
              "      <td>Travel_Rarely</td>\n",
              "      <td>591</td>\n",
              "      <td>Research &amp; Development</td>\n",
              "      <td>2</td>\n",
              "      <td>1</td>\n",
              "      <td>Medical</td>\n",
              "      <td>1</td>\n",
              "      <td>7</td>\n",
              "      <td>1</td>\n",
              "      <td>Male</td>\n",
              "      <td>40</td>\n",
              "      <td>3</td>\n",
              "      <td>1</td>\n",
              "      <td>Laboratory Technician</td>\n",
              "      <td>2</td>\n",
              "      <td>Married</td>\n",
              "      <td>3468</td>\n",
              "      <td>16632</td>\n",
              "      <td>9</td>\n",
              "      <td>Y</td>\n",
              "      <td>No</td>\n",
              "      <td>12</td>\n",
              "      <td>3</td>\n",
              "      <td>4</td>\n",
              "      <td>80</td>\n",
              "      <td>1</td>\n",
              "      <td>6</td>\n",
              "      <td>3</td>\n",
              "      <td>3</td>\n",
              "      <td>2</td>\n",
              "      <td>2</td>\n",
              "      <td>2</td>\n",
              "      <td>2</td>\n",
              "    </tr>\n",
              "  </tbody>\n",
              "</table>\n",
              "</div>"
            ],
            "text/plain": [
              "   age attrition  ... yearssincelastpromotion  yearswithcurrmanager\n",
              "0   41       Yes  ...                       0                     5\n",
              "1   49        No  ...                       1                     7\n",
              "2   37       Yes  ...                       0                     0\n",
              "3   33        No  ...                       3                     0\n",
              "4   27        No  ...                       2                     2\n",
              "\n",
              "[5 rows x 35 columns]"
            ]
          },
          "metadata": {
            "tags": []
          },
          "execution_count": 2
        }
      ]
    },
    {
      "cell_type": "markdown",
      "metadata": {
        "id": "1VBKCvGLr8pe"
      },
      "source": [
        "## **4. Methods**\n",
        "For this analysis we will create a dataframe that will contain all information on the company's employees. The best approach for ease of analysis would be to split the dataframe into two, the first is for employees that were attrited and the second is for those who were not. Following that we would check each of the \"distancefromhome\" and \"monthlyincome\" for normality.\n",
        "\n",
        "If their distributions appear to be normally distributed based on their histogram, skewness and kurtosis or Shapiro-Wilk test, the next step would be an independent t-test between them and the attrition, with a 95% confidence interval.\n",
        "\n",
        "If the distributions appear to be not normally distributed, then I will run a non-parametric test to determine if there are statistically significant differences between them and based on the p-value we can decide if we can or cannot reject the null hypothesis.\n"
      ]
    },
    {
      "cell_type": "code",
      "metadata": {
        "id": "Pkw4INIQQqZR",
        "colab": {
          "base_uri": "https://localhost:8080/",
          "height": 531
        },
        "outputId": "5e98f42f-d379-481b-812e-de0a9f406b25"
      },
      "source": [
        "# convert the the values for attrition from 'yes' & 'No' to '1' & '0'\n",
        "hr_eap['attrition'].loc[hr_eap['attrition'] == 'Yes'] = 1 \n",
        "hr_eap['attrition'].loc[hr_eap['attrition'] == 'No'] = 0\n",
        "\n",
        "hr_eap.head(10)"
      ],
      "execution_count": null,
      "outputs": [
        {
          "output_type": "execute_result",
          "data": {
            "text/html": [
              "<div>\n",
              "<style scoped>\n",
              "    .dataframe tbody tr th:only-of-type {\n",
              "        vertical-align: middle;\n",
              "    }\n",
              "\n",
              "    .dataframe tbody tr th {\n",
              "        vertical-align: top;\n",
              "    }\n",
              "\n",
              "    .dataframe thead th {\n",
              "        text-align: right;\n",
              "    }\n",
              "</style>\n",
              "<table border=\"1\" class=\"dataframe\">\n",
              "  <thead>\n",
              "    <tr style=\"text-align: right;\">\n",
              "      <th></th>\n",
              "      <th>age</th>\n",
              "      <th>attrition</th>\n",
              "      <th>businesstravel</th>\n",
              "      <th>dailyrate</th>\n",
              "      <th>department</th>\n",
              "      <th>distancefromhome</th>\n",
              "      <th>education</th>\n",
              "      <th>educationfield</th>\n",
              "      <th>employeecount</th>\n",
              "      <th>employeenumber</th>\n",
              "      <th>environmentsatisfaction</th>\n",
              "      <th>gender</th>\n",
              "      <th>hourlyrate</th>\n",
              "      <th>jobinvolvement</th>\n",
              "      <th>joblevel</th>\n",
              "      <th>jobrole</th>\n",
              "      <th>jobsatisfaction</th>\n",
              "      <th>maritalstatus</th>\n",
              "      <th>monthlyincome</th>\n",
              "      <th>monthlyrate</th>\n",
              "      <th>numcompaniesworked</th>\n",
              "      <th>over18</th>\n",
              "      <th>overtime</th>\n",
              "      <th>percentsalaryhike</th>\n",
              "      <th>performancerating</th>\n",
              "      <th>relationshipsatisfaction</th>\n",
              "      <th>standardhours</th>\n",
              "      <th>stockoptionlevel</th>\n",
              "      <th>totalworkingyears</th>\n",
              "      <th>trainingtimeslastyear</th>\n",
              "      <th>worklifebalance</th>\n",
              "      <th>yearsatcompany</th>\n",
              "      <th>yearsincurrentrole</th>\n",
              "      <th>yearssincelastpromotion</th>\n",
              "      <th>yearswithcurrmanager</th>\n",
              "    </tr>\n",
              "  </thead>\n",
              "  <tbody>\n",
              "    <tr>\n",
              "      <th>0</th>\n",
              "      <td>41</td>\n",
              "      <td>1</td>\n",
              "      <td>Travel_Rarely</td>\n",
              "      <td>1102</td>\n",
              "      <td>Sales</td>\n",
              "      <td>1</td>\n",
              "      <td>2</td>\n",
              "      <td>Life Sciences</td>\n",
              "      <td>1</td>\n",
              "      <td>1</td>\n",
              "      <td>2</td>\n",
              "      <td>Female</td>\n",
              "      <td>94</td>\n",
              "      <td>3</td>\n",
              "      <td>2</td>\n",
              "      <td>Sales Executive</td>\n",
              "      <td>4</td>\n",
              "      <td>Single</td>\n",
              "      <td>5993</td>\n",
              "      <td>19479</td>\n",
              "      <td>8</td>\n",
              "      <td>Y</td>\n",
              "      <td>Yes</td>\n",
              "      <td>11</td>\n",
              "      <td>3</td>\n",
              "      <td>1</td>\n",
              "      <td>80</td>\n",
              "      <td>0</td>\n",
              "      <td>8</td>\n",
              "      <td>0</td>\n",
              "      <td>1</td>\n",
              "      <td>6</td>\n",
              "      <td>4</td>\n",
              "      <td>0</td>\n",
              "      <td>5</td>\n",
              "    </tr>\n",
              "    <tr>\n",
              "      <th>1</th>\n",
              "      <td>49</td>\n",
              "      <td>0</td>\n",
              "      <td>Travel_Frequently</td>\n",
              "      <td>279</td>\n",
              "      <td>Research &amp; Development</td>\n",
              "      <td>8</td>\n",
              "      <td>1</td>\n",
              "      <td>Life Sciences</td>\n",
              "      <td>1</td>\n",
              "      <td>2</td>\n",
              "      <td>3</td>\n",
              "      <td>Male</td>\n",
              "      <td>61</td>\n",
              "      <td>2</td>\n",
              "      <td>2</td>\n",
              "      <td>Research Scientist</td>\n",
              "      <td>2</td>\n",
              "      <td>Married</td>\n",
              "      <td>5130</td>\n",
              "      <td>24907</td>\n",
              "      <td>1</td>\n",
              "      <td>Y</td>\n",
              "      <td>No</td>\n",
              "      <td>23</td>\n",
              "      <td>4</td>\n",
              "      <td>4</td>\n",
              "      <td>80</td>\n",
              "      <td>1</td>\n",
              "      <td>10</td>\n",
              "      <td>3</td>\n",
              "      <td>3</td>\n",
              "      <td>10</td>\n",
              "      <td>7</td>\n",
              "      <td>1</td>\n",
              "      <td>7</td>\n",
              "    </tr>\n",
              "    <tr>\n",
              "      <th>2</th>\n",
              "      <td>37</td>\n",
              "      <td>1</td>\n",
              "      <td>Travel_Rarely</td>\n",
              "      <td>1373</td>\n",
              "      <td>Research &amp; Development</td>\n",
              "      <td>2</td>\n",
              "      <td>2</td>\n",
              "      <td>Other</td>\n",
              "      <td>1</td>\n",
              "      <td>4</td>\n",
              "      <td>4</td>\n",
              "      <td>Male</td>\n",
              "      <td>92</td>\n",
              "      <td>2</td>\n",
              "      <td>1</td>\n",
              "      <td>Laboratory Technician</td>\n",
              "      <td>3</td>\n",
              "      <td>Single</td>\n",
              "      <td>2090</td>\n",
              "      <td>2396</td>\n",
              "      <td>6</td>\n",
              "      <td>Y</td>\n",
              "      <td>Yes</td>\n",
              "      <td>15</td>\n",
              "      <td>3</td>\n",
              "      <td>2</td>\n",
              "      <td>80</td>\n",
              "      <td>0</td>\n",
              "      <td>7</td>\n",
              "      <td>3</td>\n",
              "      <td>3</td>\n",
              "      <td>0</td>\n",
              "      <td>0</td>\n",
              "      <td>0</td>\n",
              "      <td>0</td>\n",
              "    </tr>\n",
              "    <tr>\n",
              "      <th>3</th>\n",
              "      <td>33</td>\n",
              "      <td>0</td>\n",
              "      <td>Travel_Frequently</td>\n",
              "      <td>1392</td>\n",
              "      <td>Research &amp; Development</td>\n",
              "      <td>3</td>\n",
              "      <td>4</td>\n",
              "      <td>Life Sciences</td>\n",
              "      <td>1</td>\n",
              "      <td>5</td>\n",
              "      <td>4</td>\n",
              "      <td>Female</td>\n",
              "      <td>56</td>\n",
              "      <td>3</td>\n",
              "      <td>1</td>\n",
              "      <td>Research Scientist</td>\n",
              "      <td>3</td>\n",
              "      <td>Married</td>\n",
              "      <td>2909</td>\n",
              "      <td>23159</td>\n",
              "      <td>1</td>\n",
              "      <td>Y</td>\n",
              "      <td>Yes</td>\n",
              "      <td>11</td>\n",
              "      <td>3</td>\n",
              "      <td>3</td>\n",
              "      <td>80</td>\n",
              "      <td>0</td>\n",
              "      <td>8</td>\n",
              "      <td>3</td>\n",
              "      <td>3</td>\n",
              "      <td>8</td>\n",
              "      <td>7</td>\n",
              "      <td>3</td>\n",
              "      <td>0</td>\n",
              "    </tr>\n",
              "    <tr>\n",
              "      <th>4</th>\n",
              "      <td>27</td>\n",
              "      <td>0</td>\n",
              "      <td>Travel_Rarely</td>\n",
              "      <td>591</td>\n",
              "      <td>Research &amp; Development</td>\n",
              "      <td>2</td>\n",
              "      <td>1</td>\n",
              "      <td>Medical</td>\n",
              "      <td>1</td>\n",
              "      <td>7</td>\n",
              "      <td>1</td>\n",
              "      <td>Male</td>\n",
              "      <td>40</td>\n",
              "      <td>3</td>\n",
              "      <td>1</td>\n",
              "      <td>Laboratory Technician</td>\n",
              "      <td>2</td>\n",
              "      <td>Married</td>\n",
              "      <td>3468</td>\n",
              "      <td>16632</td>\n",
              "      <td>9</td>\n",
              "      <td>Y</td>\n",
              "      <td>No</td>\n",
              "      <td>12</td>\n",
              "      <td>3</td>\n",
              "      <td>4</td>\n",
              "      <td>80</td>\n",
              "      <td>1</td>\n",
              "      <td>6</td>\n",
              "      <td>3</td>\n",
              "      <td>3</td>\n",
              "      <td>2</td>\n",
              "      <td>2</td>\n",
              "      <td>2</td>\n",
              "      <td>2</td>\n",
              "    </tr>\n",
              "    <tr>\n",
              "      <th>5</th>\n",
              "      <td>32</td>\n",
              "      <td>0</td>\n",
              "      <td>Travel_Frequently</td>\n",
              "      <td>1005</td>\n",
              "      <td>Research &amp; Development</td>\n",
              "      <td>2</td>\n",
              "      <td>2</td>\n",
              "      <td>Life Sciences</td>\n",
              "      <td>1</td>\n",
              "      <td>8</td>\n",
              "      <td>4</td>\n",
              "      <td>Male</td>\n",
              "      <td>79</td>\n",
              "      <td>3</td>\n",
              "      <td>1</td>\n",
              "      <td>Laboratory Technician</td>\n",
              "      <td>4</td>\n",
              "      <td>Single</td>\n",
              "      <td>3068</td>\n",
              "      <td>11864</td>\n",
              "      <td>0</td>\n",
              "      <td>Y</td>\n",
              "      <td>No</td>\n",
              "      <td>13</td>\n",
              "      <td>3</td>\n",
              "      <td>3</td>\n",
              "      <td>80</td>\n",
              "      <td>0</td>\n",
              "      <td>8</td>\n",
              "      <td>2</td>\n",
              "      <td>2</td>\n",
              "      <td>7</td>\n",
              "      <td>7</td>\n",
              "      <td>3</td>\n",
              "      <td>6</td>\n",
              "    </tr>\n",
              "    <tr>\n",
              "      <th>6</th>\n",
              "      <td>59</td>\n",
              "      <td>0</td>\n",
              "      <td>Travel_Rarely</td>\n",
              "      <td>1324</td>\n",
              "      <td>Research &amp; Development</td>\n",
              "      <td>3</td>\n",
              "      <td>3</td>\n",
              "      <td>Medical</td>\n",
              "      <td>1</td>\n",
              "      <td>10</td>\n",
              "      <td>3</td>\n",
              "      <td>Female</td>\n",
              "      <td>81</td>\n",
              "      <td>4</td>\n",
              "      <td>1</td>\n",
              "      <td>Laboratory Technician</td>\n",
              "      <td>1</td>\n",
              "      <td>Married</td>\n",
              "      <td>2670</td>\n",
              "      <td>9964</td>\n",
              "      <td>4</td>\n",
              "      <td>Y</td>\n",
              "      <td>Yes</td>\n",
              "      <td>20</td>\n",
              "      <td>4</td>\n",
              "      <td>1</td>\n",
              "      <td>80</td>\n",
              "      <td>3</td>\n",
              "      <td>12</td>\n",
              "      <td>3</td>\n",
              "      <td>2</td>\n",
              "      <td>1</td>\n",
              "      <td>0</td>\n",
              "      <td>0</td>\n",
              "      <td>0</td>\n",
              "    </tr>\n",
              "    <tr>\n",
              "      <th>7</th>\n",
              "      <td>30</td>\n",
              "      <td>0</td>\n",
              "      <td>Travel_Rarely</td>\n",
              "      <td>1358</td>\n",
              "      <td>Research &amp; Development</td>\n",
              "      <td>24</td>\n",
              "      <td>1</td>\n",
              "      <td>Life Sciences</td>\n",
              "      <td>1</td>\n",
              "      <td>11</td>\n",
              "      <td>4</td>\n",
              "      <td>Male</td>\n",
              "      <td>67</td>\n",
              "      <td>3</td>\n",
              "      <td>1</td>\n",
              "      <td>Laboratory Technician</td>\n",
              "      <td>3</td>\n",
              "      <td>Divorced</td>\n",
              "      <td>2693</td>\n",
              "      <td>13335</td>\n",
              "      <td>1</td>\n",
              "      <td>Y</td>\n",
              "      <td>No</td>\n",
              "      <td>22</td>\n",
              "      <td>4</td>\n",
              "      <td>2</td>\n",
              "      <td>80</td>\n",
              "      <td>1</td>\n",
              "      <td>1</td>\n",
              "      <td>2</td>\n",
              "      <td>3</td>\n",
              "      <td>1</td>\n",
              "      <td>0</td>\n",
              "      <td>0</td>\n",
              "      <td>0</td>\n",
              "    </tr>\n",
              "    <tr>\n",
              "      <th>8</th>\n",
              "      <td>38</td>\n",
              "      <td>0</td>\n",
              "      <td>Travel_Frequently</td>\n",
              "      <td>216</td>\n",
              "      <td>Research &amp; Development</td>\n",
              "      <td>23</td>\n",
              "      <td>3</td>\n",
              "      <td>Life Sciences</td>\n",
              "      <td>1</td>\n",
              "      <td>12</td>\n",
              "      <td>4</td>\n",
              "      <td>Male</td>\n",
              "      <td>44</td>\n",
              "      <td>2</td>\n",
              "      <td>3</td>\n",
              "      <td>Manufacturing Director</td>\n",
              "      <td>3</td>\n",
              "      <td>Single</td>\n",
              "      <td>9526</td>\n",
              "      <td>8787</td>\n",
              "      <td>0</td>\n",
              "      <td>Y</td>\n",
              "      <td>No</td>\n",
              "      <td>21</td>\n",
              "      <td>4</td>\n",
              "      <td>2</td>\n",
              "      <td>80</td>\n",
              "      <td>0</td>\n",
              "      <td>10</td>\n",
              "      <td>2</td>\n",
              "      <td>3</td>\n",
              "      <td>9</td>\n",
              "      <td>7</td>\n",
              "      <td>1</td>\n",
              "      <td>8</td>\n",
              "    </tr>\n",
              "    <tr>\n",
              "      <th>9</th>\n",
              "      <td>36</td>\n",
              "      <td>0</td>\n",
              "      <td>Travel_Rarely</td>\n",
              "      <td>1299</td>\n",
              "      <td>Research &amp; Development</td>\n",
              "      <td>27</td>\n",
              "      <td>3</td>\n",
              "      <td>Medical</td>\n",
              "      <td>1</td>\n",
              "      <td>13</td>\n",
              "      <td>3</td>\n",
              "      <td>Male</td>\n",
              "      <td>94</td>\n",
              "      <td>3</td>\n",
              "      <td>2</td>\n",
              "      <td>Healthcare Representative</td>\n",
              "      <td>3</td>\n",
              "      <td>Married</td>\n",
              "      <td>5237</td>\n",
              "      <td>16577</td>\n",
              "      <td>6</td>\n",
              "      <td>Y</td>\n",
              "      <td>No</td>\n",
              "      <td>13</td>\n",
              "      <td>3</td>\n",
              "      <td>2</td>\n",
              "      <td>80</td>\n",
              "      <td>2</td>\n",
              "      <td>17</td>\n",
              "      <td>3</td>\n",
              "      <td>2</td>\n",
              "      <td>7</td>\n",
              "      <td>7</td>\n",
              "      <td>7</td>\n",
              "      <td>7</td>\n",
              "    </tr>\n",
              "  </tbody>\n",
              "</table>\n",
              "</div>"
            ],
            "text/plain": [
              "   age  attrition  ... yearssincelastpromotion  yearswithcurrmanager\n",
              "0   41          1  ...                       0                     5\n",
              "1   49          0  ...                       1                     7\n",
              "2   37          1  ...                       0                     0\n",
              "3   33          0  ...                       3                     0\n",
              "4   27          0  ...                       2                     2\n",
              "5   32          0  ...                       3                     6\n",
              "6   59          0  ...                       0                     0\n",
              "7   30          0  ...                       0                     0\n",
              "8   38          0  ...                       1                     8\n",
              "9   36          0  ...                       7                     7\n",
              "\n",
              "[10 rows x 35 columns]"
            ]
          },
          "metadata": {
            "tags": []
          },
          "execution_count": 3
        }
      ]
    },
    {
      "cell_type": "code",
      "metadata": {
        "id": "0FH-4xqVEDdf",
        "colab": {
          "base_uri": "https://localhost:8080/",
          "height": 1000
        },
        "outputId": "544f5c8d-5ef0-4e11-fd2d-c1c6d843013f"
      },
      "source": [
        "# split the dataframe in to 2: attrited and not attrited\n",
        "attrited_yes = hr_eap[(hr_eap['attrition'] == 1)]\n",
        "attrited_yes.info()\n",
        "\n",
        "attrited_no = hr_eap[(hr_eap['attrition'] == 0)]\n",
        "attrited_no.info()"
      ],
      "execution_count": null,
      "outputs": [
        {
          "output_type": "stream",
          "text": [
            "<class 'pandas.core.frame.DataFrame'>\n",
            "Int64Index: 237 entries, 0 to 1461\n",
            "Data columns (total 35 columns):\n",
            "age                         237 non-null int64\n",
            "attrition                   237 non-null int64\n",
            "businesstravel              237 non-null object\n",
            "dailyrate                   237 non-null int64\n",
            "department                  237 non-null object\n",
            "distancefromhome            237 non-null int64\n",
            "education                   237 non-null int64\n",
            "educationfield              237 non-null object\n",
            "employeecount               237 non-null int64\n",
            "employeenumber              237 non-null int64\n",
            "environmentsatisfaction     237 non-null int64\n",
            "gender                      237 non-null object\n",
            "hourlyrate                  237 non-null int64\n",
            "jobinvolvement              237 non-null int64\n",
            "joblevel                    237 non-null int64\n",
            "jobrole                     237 non-null object\n",
            "jobsatisfaction             237 non-null int64\n",
            "maritalstatus               237 non-null object\n",
            "monthlyincome               237 non-null int64\n",
            "monthlyrate                 237 non-null int64\n",
            "numcompaniesworked          237 non-null int64\n",
            "over18                      237 non-null object\n",
            "overtime                    237 non-null object\n",
            "percentsalaryhike           237 non-null int64\n",
            "performancerating           237 non-null int64\n",
            "relationshipsatisfaction    237 non-null int64\n",
            "standardhours               237 non-null int64\n",
            "stockoptionlevel            237 non-null int64\n",
            "totalworkingyears           237 non-null int64\n",
            "trainingtimeslastyear       237 non-null int64\n",
            "worklifebalance             237 non-null int64\n",
            "yearsatcompany              237 non-null int64\n",
            "yearsincurrentrole          237 non-null int64\n",
            "yearssincelastpromotion     237 non-null int64\n",
            "yearswithcurrmanager        237 non-null int64\n",
            "dtypes: int64(27), object(8)\n",
            "memory usage: 66.7+ KB\n",
            "<class 'pandas.core.frame.DataFrame'>\n",
            "Int64Index: 1233 entries, 1 to 1469\n",
            "Data columns (total 35 columns):\n",
            "age                         1233 non-null int64\n",
            "attrition                   1233 non-null int64\n",
            "businesstravel              1233 non-null object\n",
            "dailyrate                   1233 non-null int64\n",
            "department                  1233 non-null object\n",
            "distancefromhome            1233 non-null int64\n",
            "education                   1233 non-null int64\n",
            "educationfield              1233 non-null object\n",
            "employeecount               1233 non-null int64\n",
            "employeenumber              1233 non-null int64\n",
            "environmentsatisfaction     1233 non-null int64\n",
            "gender                      1233 non-null object\n",
            "hourlyrate                  1233 non-null int64\n",
            "jobinvolvement              1233 non-null int64\n",
            "joblevel                    1233 non-null int64\n",
            "jobrole                     1233 non-null object\n",
            "jobsatisfaction             1233 non-null int64\n",
            "maritalstatus               1233 non-null object\n",
            "monthlyincome               1233 non-null int64\n",
            "monthlyrate                 1233 non-null int64\n",
            "numcompaniesworked          1233 non-null int64\n",
            "over18                      1233 non-null object\n",
            "overtime                    1233 non-null object\n",
            "percentsalaryhike           1233 non-null int64\n",
            "performancerating           1233 non-null int64\n",
            "relationshipsatisfaction    1233 non-null int64\n",
            "standardhours               1233 non-null int64\n",
            "stockoptionlevel            1233 non-null int64\n",
            "totalworkingyears           1233 non-null int64\n",
            "trainingtimeslastyear       1233 non-null int64\n",
            "worklifebalance             1233 non-null int64\n",
            "yearsatcompany              1233 non-null int64\n",
            "yearsincurrentrole          1233 non-null int64\n",
            "yearssincelastpromotion     1233 non-null int64\n",
            "yearswithcurrmanager        1233 non-null int64\n",
            "dtypes: int64(27), object(8)\n",
            "memory usage: 346.8+ KB\n"
          ],
          "name": "stdout"
        }
      ]
    },
    {
      "cell_type": "markdown",
      "metadata": {
        "id": "ICo6k1hpnIa3"
      },
      "source": [
        "### **FIRST QUESTION: Is there no significant relationship between how far employees live from work and their attrition**"
      ]
    },
    {
      "cell_type": "code",
      "metadata": {
        "id": "ojRI5NJCNuFv",
        "colab": {
          "base_uri": "https://localhost:8080/",
          "height": 302
        },
        "outputId": "e528e32c-18e0-4e25-dcd7-cd468e6881ee"
      },
      "source": [
        "# Testing for normality\n",
        "plt.hist(attrited_yes['distancefromhome'], alpha = .5)\n",
        "plt.hist(attrited_no['distancefromhome'], alpha = .5)\n",
        "plt.show()\n",
        "\n",
        "#####ax = sns.distplot(attrited_yes['distancefromhome'], bins=30)#####\n",
        "print(stats.describe(attrited_yes['distancefromhome']))\n",
        "print(stats.describe(attrited_no['distancefromhome']))"
      ],
      "execution_count": null,
      "outputs": [
        {
          "output_type": "display_data",
          "data": {
            "image/png": "[encoded data removed]",
            "text/plain": [
              "<Figure size 432x288 with 1 Axes>"
            ]
          },
          "metadata": {
            "tags": []
          }
        },
        {
          "output_type": "stream",
          "text": [
            "DescribeResult(nobs=237, minmax=(1, 29), mean=10.632911392405063, variance=71.44518343703068, skewness=0.6318715334830777, kurtosis=-0.8674734233081853)\n",
            "DescribeResult(nobs=1233, minmax=(1, 29), mean=8.915652879156529, variance=64.2022953729158, skewness=1.0278532177701256, kurtosis=-0.049035971751739904)\n"
          ],
          "name": "stdout"
        }
      ]
    },
    {
      "cell_type": "markdown",
      "metadata": {
        "id": "EE9Zs-M84ChV"
      },
      "source": [
        "**We can see from the histogram that the distribution is not bell shaped (not normally distributed), so will proceed with Shapiro-Wilk to confirm**"
      ]
    },
    {
      "cell_type": "code",
      "metadata": {
        "id": "f9Nt1WWR-eWy",
        "colab": {
          "base_uri": "https://localhost:8080/",
          "height": 50
        },
        "outputId": "ec76042d-5480-49a0-8671-0ba690976ec7"
      },
      "source": [
        "# Confirming normality or not\n",
        "print(stats.shapiro(attrited_yes['distancefromhome']))\n",
        "print(stats.shapiro(attrited_no['distancefromhome']))"
      ],
      "execution_count": null,
      "outputs": [
        {
          "output_type": "stream",
          "text": [
            "(0.8959434628486633, 9.868997979944893e-12)\n",
            "(0.8534793257713318, 2.4682859931885524e-32)\n"
          ],
          "name": "stdout"
        }
      ]
    },
    {
      "cell_type": "markdown",
      "metadata": {
        "id": "cop4qIESJ6gg"
      },
      "source": [
        "**Since the p-value of the shapiro test is far less than 0.05 therefore the data distribution is not normally distributed**"
      ]
    },
    {
      "cell_type": "code",
      "metadata": {
        "id": "M8B76w_CYOyE",
        "colab": {
          "base_uri": "https://localhost:8080/",
          "height": 34
        },
        "outputId": "95549610-255c-440b-f8fa-aec4436e46c8"
      },
      "source": [
        "# Using Kruscal_Wallis to check if there is any relashionship\n",
        "stats.kruskal(attrited_yes['distancefromhome'], attrited_no['distancefromhome'])"
      ],
      "execution_count": null,
      "outputs": [
        {
          "output_type": "execute_result",
          "data": {
            "text/plain": [
              "KruskalResult(statistic=9.225723965000004, pvalue=0.002386383151703113)"
            ]
          },
          "metadata": {
            "tags": []
          },
          "execution_count": 7
        }
      ]
    },
    {
      "cell_type": "markdown",
      "metadata": {
        "id": "RS05h9FaFxe1"
      },
      "source": [
        "**Since the p-value is less than 0.05, we can reject the null hypothesis that there is no significant relationship between how far employees live from work and their attrition.**"
      ]
    },
    {
      "cell_type": "markdown",
      "metadata": {
        "id": "9Hdw0ZFQnzsX"
      },
      "source": [
        "### **SECOND QUESTION: Is there no significant relationship between employees monthly salaries and their attrition.**"
      ]
    },
    {
      "cell_type": "code",
      "metadata": {
        "id": "WGWtKfJJ1bpZ",
        "colab": {
          "base_uri": "https://localhost:8080/",
          "height": 302
        },
        "outputId": "122ce9ae-4ca8-45a9-c9bf-8f6c5f93638d"
      },
      "source": [
        "# Testing the second hypothesis\n",
        "# Testing for normality\n",
        "plt.hist(attrited_yes['monthlyincome'], alpha = 0.5)\n",
        "plt.hist(attrited_no['monthlyincome'], alpha = 0.5)\n",
        "plt.show()\n",
        "\n",
        "#####ax = sns.distplot(attrited_yes['monthlyincome'], bins=30)#####\n",
        "print(stats.describe(attrited_yes['monthlyincome']))\n",
        "print(stats.describe(attrited_no['monthlyincome']))"
      ],
      "execution_count": null,
      "outputs": [
        {
          "output_type": "display_data",
          "data": {
            "image/png": "[encoded data removed]",
            "text/plain": [
              "<Figure size 432x288 with 1 Axes>"
            ]
          },
          "metadata": {
            "tags": []
          }
        },
        {
          "output_type": "stream",
          "text": [
            "DescribeResult(nobs=237, minmax=(1009, 19859), mean=4787.0928270042195, variance=13251131.516770363, skewness=1.908966310070742, kurtosis=4.068929804278029)\n",
            "DescribeResult(nobs=1233, minmax=(1051, 19999), mean=6832.739659367397, variance=23215128.338823583, skewness=1.2846660875596987, kurtosis=0.664057751851538)\n"
          ],
          "name": "stdout"
        }
      ]
    },
    {
      "cell_type": "markdown",
      "metadata": {
        "id": "rlE5mUIi5CFb"
      },
      "source": [
        "**We can see from the histogram that the distribution is not bell shaped (not normally distributed), so will proceed with Shapiro-Wilk to confirm**"
      ]
    },
    {
      "cell_type": "code",
      "metadata": {
        "id": "ZJrDzylTHEo-",
        "colab": {
          "base_uri": "https://localhost:8080/",
          "height": 50
        },
        "outputId": "e33e6b89-14c7-494e-9cea-ccf7989e0cf8"
      },
      "source": [
        "# Confirming normality or not\n",
        "print(stats.shapiro(attrited_yes['monthlyincome']))\n",
        "print(stats.shapiro(attrited_no['monthlyincome']))"
      ],
      "execution_count": null,
      "outputs": [
        {
          "output_type": "stream",
          "text": [
            "(0.7798969745635986, 1.5025734172664523e-17)\n",
            "(0.8341342210769653, 5.970143412461947e-34)\n"
          ],
          "name": "stdout"
        }
      ]
    },
    {
      "cell_type": "markdown",
      "metadata": {
        "id": "asH4wWWgOedV"
      },
      "source": [
        "**Since the p-value of the shapiro test is far less than 0.05 therefore the data distribution is not normally distributed**"
      ]
    },
    {
      "cell_type": "code",
      "metadata": {
        "id": "QQzQ0abQHg-3",
        "colab": {
          "base_uri": "https://localhost:8080/",
          "height": 34
        },
        "outputId": "7ab70051-114b-4bd9-f51c-5c801937b6ee"
      },
      "source": [
        "# Using Kruscal_Wallis to check if there is any relashionship\n",
        "stats.kruskal(attrited_yes['monthlyincome'], attrited_no['monthlyincome'])"
      ],
      "execution_count": null,
      "outputs": [
        {
          "output_type": "execute_result",
          "data": {
            "text/plain": [
              "KruskalResult(statistic=57.768241263784475, pvalue=2.948926498830519e-14)"
            ]
          },
          "metadata": {
            "tags": []
          },
          "execution_count": 10
        }
      ]
    },
    {
      "cell_type": "markdown",
      "metadata": {
        "id": "2FG2dWSYH6V_"
      },
      "source": [
        "**Since the p-value is less than 0.05, we can reject the null hypothesis that there is no significant relationship between employees monthly salaries and their attrition.**"
      ]
    },
    {
      "cell_type": "markdown",
      "metadata": {
        "id": "OKvcZAjjRU_b"
      },
      "source": [
        "## **5. Results**\n",
        "Based on visual inspection and the Shapiro-Wilk test, both work distance from home and monthly income are not normally distributed therefore I used the Kruskal-Wallis test to determine if there are statistically significant relationship between both vaiables and attrition. Based on the (p-value < 0.0001) I reject both null hypotheses that there is no significant relationship between how far employees live from work or their monthly income and their attrition and can say that at a 95% confidence level there is a siginificant relationship between distance and income to attrition."
      ]
    },
    {
      "cell_type": "markdown",
      "metadata": {
        "id": "vF41C7LVevKM"
      },
      "source": [
        "## **6. Discussion and recommendation**\n",
        "As we can tell from this experiment, at a 95% confidence level there is a  significant relationship between the employees monthly income or how far they live from work and their attrition. To follow-up on this experiment we could test other variables to check if they have any significant relationships to attrition."
      ]
    }
  ]
}