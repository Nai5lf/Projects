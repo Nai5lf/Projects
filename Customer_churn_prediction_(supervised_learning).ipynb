{
  "nbformat": 4,
  "nbformat_minor": 0,
  "metadata": {
    "colab": {
      "name": "Customer churn prediction (supervised learning).ipynb",
      "provenance": [],
      "collapsed_sections": [],
      "authorship_tag": "ABX9TyPOC6Px7h8cI5PGfw9oRnO5",
      "include_colab_link": true
    },
    "kernelspec": {
      "name": "python3",
      "display_name": "Python 3"
    }
  },
  "cells": [
    {
      "cell_type": "markdown",
      "metadata": {
        "id": "view-in-github",
        "colab_type": "text"
      },
      "source": [
        "<a href=\"https://colab.research.google.com/github/Nai5lf/Projects/blob/main/Customer_churn_prediction_(supervised_learning).ipynb\" target=\"_parent\"><img src=\"https://colab.research.google.com/assets/colab-badge.svg\" alt=\"Open In Colab\"/></a>"
      ]
    },
    {
      "cell_type": "markdown",
      "metadata": {
        "id": "YJk23AtPKB2c"
      },
      "source": [
        "# **1. Introduction**\n",
        "\n",
        "---"
      ]
    },
    {
      "cell_type": "markdown",
      "metadata": {
        "id": "oM8W1jdzOecf"
      },
      "source": [
        "There are numerous telecom providers around the world and this has led to a huge rise in competition and hence customer churn (the rate at which customers stop doing business with a company). Churn occurs mainly due to customer dissatisfaction and identifying this requires a lot of parameters; a customer usually does not churn due to a single dissatisfaction scenario. Companies typically gather data from customers and this eventually builds up the customer's behavioral data. Such  data can be used to help with churn prediction.\n",
        "\n",
        "The goal of machine learning is to solve problems that humans are not capable of solving. This helps improve decision making and provides better insights or predictions.\n",
        "\n",
        "This project aims to compare and evaluate several supervised classification machine learning techniques to predict customer churn. I compare various aspects of the selected models such as differences in their performance, precision and time execusion to identify the best performing model for predicting churn.\n",
        "\n",
        "The dataset used includes data on customer churn, demographics, tenure, and services used, among others. The data comes from [Kaggle](https://www.kaggle.com/zagarsuren/telecom-churn-dataset-ibm-watson-analytics?) and contains 7,043 observations and 21 variables."
      ]
    },
    {
      "cell_type": "markdown",
      "metadata": {
        "id": "lUZYU2QLaT-I"
      },
      "source": [
        "# **2. Exploratory data analysis**\n",
        "\n",
        "---"
      ]
    },
    {
      "cell_type": "markdown",
      "metadata": {
        "id": "zRHPsCOOK48a"
      },
      "source": [
        "## **2.1 Imports and Dataframe Load**"
      ]
    },
    {
      "cell_type": "code",
      "metadata": {
        "id": "67Pd5UoCX8XC",
        "colab": {
          "base_uri": "https://localhost:8080/",
          "height": 70
        },
        "outputId": "c3c73088-755e-45aa-db74-87563a2fae12"
      },
      "source": [
        "import pandas as pd\n",
        "import numpy as np\n",
        "import math\n",
        "import time\n",
        "from datetime import timedelta\n",
        "from scipy import stats\n",
        "import matplotlib.pyplot as plt\n",
        "import seaborn as sns \n",
        "sns.set()\n",
        "from sklearn.model_selection import train_test_split \n",
        "from sklearn import ensemble\n",
        "from sklearn.model_selection import cross_val_score\n",
        "from sklearn.feature_selection import SelectKBest, chi2, f_regression\n",
        "from sklearn.metrics import  classification_report, confusion_matrix\n",
        "\n",
        "import warnings\n",
        "warnings.filterwarnings(\"ignore\")\n",
        "\n",
        "# creating a dataframe\n",
        "churn = pd.read_excel(\"https://github.com/naiel-khalaf/Think-data/raw/master/datasets_42343_72434_WA_Fn-UseC_-Telco-Customer-Churn.xlsx\")"
      ],
      "execution_count": null,
      "outputs": [
        {
          "output_type": "stream",
          "text": [
            "/usr/local/lib/python3.6/dist-packages/statsmodels/tools/_testing.py:19: FutureWarning: pandas.util.testing is deprecated. Use the functions in the public API at pandas.testing instead.\n",
            "  import pandas.util.testing as tm\n"
          ],
          "name": "stderr"
        }
      ]
    },
    {
      "cell_type": "markdown",
      "metadata": {
        "id": "gDR5uKLzT9Tz"
      },
      "source": [
        "Now that the dataset is loaded into the DataFrame `churn`, it is now time to begin the EDA. The first step of any EDA is data cleaning"
      ]
    },
    {
      "cell_type": "code",
      "metadata": {
        "id": "6fsTXAzohE67",
        "colab": {
          "base_uri": "https://localhost:8080/",
          "height": 531
        },
        "outputId": "e681c9ee-6d71-4bb7-f121-cc4eb3c95a7a"
      },
      "source": [
        "churn.head(10)"
      ],
      "execution_count": null,
      "outputs": [
        {
          "output_type": "execute_result",
          "data": {
            "text/html": [
              "<div>\n",
              "<style scoped>\n",
              "    .dataframe tbody tr th:only-of-type {\n",
              "        vertical-align: middle;\n",
              "    }\n",
              "\n",
              "    .dataframe tbody tr th {\n",
              "        vertical-align: top;\n",
              "    }\n",
              "\n",
              "    .dataframe thead th {\n",
              "        text-align: right;\n",
              "    }\n",
              "</style>\n",
              "<table border=\"1\" class=\"dataframe\">\n",
              "  <thead>\n",
              "    <tr style=\"text-align: right;\">\n",
              "      <th></th>\n",
              "      <th>customerID</th>\n",
              "      <th>gender</th>\n",
              "      <th>SeniorCitizen</th>\n",
              "      <th>Partner</th>\n",
              "      <th>Dependents</th>\n",
              "      <th>tenure</th>\n",
              "      <th>PhoneService</th>\n",
              "      <th>MultipleLines</th>\n",
              "      <th>InternetService</th>\n",
              "      <th>OnlineSecurity</th>\n",
              "      <th>OnlineBackup</th>\n",
              "      <th>DeviceProtection</th>\n",
              "      <th>TechSupport</th>\n",
              "      <th>StreamingTV</th>\n",
              "      <th>StreamingMovies</th>\n",
              "      <th>Contract</th>\n",
              "      <th>PaperlessBilling</th>\n",
              "      <th>PaymentMethod</th>\n",
              "      <th>MonthlyCharges</th>\n",
              "      <th>TotalCharges</th>\n",
              "      <th>Churn</th>\n",
              "    </tr>\n",
              "  </thead>\n",
              "  <tbody>\n",
              "    <tr>\n",
              "      <th>0</th>\n",
              "      <td>7590-VHVEG</td>\n",
              "      <td>Female</td>\n",
              "      <td>0</td>\n",
              "      <td>Yes</td>\n",
              "      <td>No</td>\n",
              "      <td>1</td>\n",
              "      <td>No</td>\n",
              "      <td>No phone service</td>\n",
              "      <td>DSL</td>\n",
              "      <td>No</td>\n",
              "      <td>Yes</td>\n",
              "      <td>No</td>\n",
              "      <td>No</td>\n",
              "      <td>No</td>\n",
              "      <td>No</td>\n",
              "      <td>Month-to-month</td>\n",
              "      <td>Yes</td>\n",
              "      <td>Electronic check</td>\n",
              "      <td>29.85</td>\n",
              "      <td>29.85</td>\n",
              "      <td>No</td>\n",
              "    </tr>\n",
              "    <tr>\n",
              "      <th>1</th>\n",
              "      <td>5575-GNVDE</td>\n",
              "      <td>Male</td>\n",
              "      <td>0</td>\n",
              "      <td>No</td>\n",
              "      <td>No</td>\n",
              "      <td>34</td>\n",
              "      <td>Yes</td>\n",
              "      <td>No</td>\n",
              "      <td>DSL</td>\n",
              "      <td>Yes</td>\n",
              "      <td>No</td>\n",
              "      <td>Yes</td>\n",
              "      <td>No</td>\n",
              "      <td>No</td>\n",
              "      <td>No</td>\n",
              "      <td>One year</td>\n",
              "      <td>No</td>\n",
              "      <td>Mailed check</td>\n",
              "      <td>56.95</td>\n",
              "      <td>1889.5</td>\n",
              "      <td>No</td>\n",
              "    </tr>\n",
              "    <tr>\n",
              "      <th>2</th>\n",
              "      <td>3668-QPYBK</td>\n",
              "      <td>Male</td>\n",
              "      <td>0</td>\n",
              "      <td>No</td>\n",
              "      <td>No</td>\n",
              "      <td>2</td>\n",
              "      <td>Yes</td>\n",
              "      <td>No</td>\n",
              "      <td>DSL</td>\n",
              "      <td>Yes</td>\n",
              "      <td>Yes</td>\n",
              "      <td>No</td>\n",
              "      <td>No</td>\n",
              "      <td>No</td>\n",
              "      <td>No</td>\n",
              "      <td>Month-to-month</td>\n",
              "      <td>Yes</td>\n",
              "      <td>Mailed check</td>\n",
              "      <td>53.85</td>\n",
              "      <td>108.15</td>\n",
              "      <td>Yes</td>\n",
              "    </tr>\n",
              "    <tr>\n",
              "      <th>3</th>\n",
              "      <td>7795-CFOCW</td>\n",
              "      <td>Male</td>\n",
              "      <td>0</td>\n",
              "      <td>No</td>\n",
              "      <td>No</td>\n",
              "      <td>45</td>\n",
              "      <td>No</td>\n",
              "      <td>No phone service</td>\n",
              "      <td>DSL</td>\n",
              "      <td>Yes</td>\n",
              "      <td>No</td>\n",
              "      <td>Yes</td>\n",
              "      <td>Yes</td>\n",
              "      <td>No</td>\n",
              "      <td>No</td>\n",
              "      <td>One year</td>\n",
              "      <td>No</td>\n",
              "      <td>Bank transfer (automatic)</td>\n",
              "      <td>42.30</td>\n",
              "      <td>1840.75</td>\n",
              "      <td>No</td>\n",
              "    </tr>\n",
              "    <tr>\n",
              "      <th>4</th>\n",
              "      <td>9237-HQITU</td>\n",
              "      <td>Female</td>\n",
              "      <td>0</td>\n",
              "      <td>No</td>\n",
              "      <td>No</td>\n",
              "      <td>2</td>\n",
              "      <td>Yes</td>\n",
              "      <td>No</td>\n",
              "      <td>Fiber optic</td>\n",
              "      <td>No</td>\n",
              "      <td>No</td>\n",
              "      <td>No</td>\n",
              "      <td>No</td>\n",
              "      <td>No</td>\n",
              "      <td>No</td>\n",
              "      <td>Month-to-month</td>\n",
              "      <td>Yes</td>\n",
              "      <td>Electronic check</td>\n",
              "      <td>70.70</td>\n",
              "      <td>151.65</td>\n",
              "      <td>Yes</td>\n",
              "    </tr>\n",
              "    <tr>\n",
              "      <th>5</th>\n",
              "      <td>9305-CDSKC</td>\n",
              "      <td>Female</td>\n",
              "      <td>0</td>\n",
              "      <td>No</td>\n",
              "      <td>No</td>\n",
              "      <td>8</td>\n",
              "      <td>Yes</td>\n",
              "      <td>Yes</td>\n",
              "      <td>Fiber optic</td>\n",
              "      <td>No</td>\n",
              "      <td>No</td>\n",
              "      <td>Yes</td>\n",
              "      <td>No</td>\n",
              "      <td>Yes</td>\n",
              "      <td>Yes</td>\n",
              "      <td>Month-to-month</td>\n",
              "      <td>Yes</td>\n",
              "      <td>Electronic check</td>\n",
              "      <td>99.65</td>\n",
              "      <td>820.5</td>\n",
              "      <td>Yes</td>\n",
              "    </tr>\n",
              "    <tr>\n",
              "      <th>6</th>\n",
              "      <td>1452-KIOVK</td>\n",
              "      <td>Male</td>\n",
              "      <td>0</td>\n",
              "      <td>No</td>\n",
              "      <td>Yes</td>\n",
              "      <td>22</td>\n",
              "      <td>Yes</td>\n",
              "      <td>Yes</td>\n",
              "      <td>Fiber optic</td>\n",
              "      <td>No</td>\n",
              "      <td>Yes</td>\n",
              "      <td>No</td>\n",
              "      <td>No</td>\n",
              "      <td>Yes</td>\n",
              "      <td>No</td>\n",
              "      <td>Month-to-month</td>\n",
              "      <td>Yes</td>\n",
              "      <td>Credit card (automatic)</td>\n",
              "      <td>89.10</td>\n",
              "      <td>1949.4</td>\n",
              "      <td>No</td>\n",
              "    </tr>\n",
              "    <tr>\n",
              "      <th>7</th>\n",
              "      <td>6713-OKOMC</td>\n",
              "      <td>Female</td>\n",
              "      <td>0</td>\n",
              "      <td>No</td>\n",
              "      <td>No</td>\n",
              "      <td>10</td>\n",
              "      <td>No</td>\n",
              "      <td>No phone service</td>\n",
              "      <td>DSL</td>\n",
              "      <td>Yes</td>\n",
              "      <td>No</td>\n",
              "      <td>No</td>\n",
              "      <td>No</td>\n",
              "      <td>No</td>\n",
              "      <td>No</td>\n",
              "      <td>Month-to-month</td>\n",
              "      <td>No</td>\n",
              "      <td>Mailed check</td>\n",
              "      <td>29.75</td>\n",
              "      <td>301.9</td>\n",
              "      <td>No</td>\n",
              "    </tr>\n",
              "    <tr>\n",
              "      <th>8</th>\n",
              "      <td>7892-POOKP</td>\n",
              "      <td>Female</td>\n",
              "      <td>0</td>\n",
              "      <td>Yes</td>\n",
              "      <td>No</td>\n",
              "      <td>28</td>\n",
              "      <td>Yes</td>\n",
              "      <td>Yes</td>\n",
              "      <td>Fiber optic</td>\n",
              "      <td>No</td>\n",
              "      <td>No</td>\n",
              "      <td>Yes</td>\n",
              "      <td>Yes</td>\n",
              "      <td>Yes</td>\n",
              "      <td>Yes</td>\n",
              "      <td>Month-to-month</td>\n",
              "      <td>Yes</td>\n",
              "      <td>Electronic check</td>\n",
              "      <td>104.80</td>\n",
              "      <td>3046.05</td>\n",
              "      <td>Yes</td>\n",
              "    </tr>\n",
              "    <tr>\n",
              "      <th>9</th>\n",
              "      <td>6388-TABGU</td>\n",
              "      <td>Male</td>\n",
              "      <td>0</td>\n",
              "      <td>No</td>\n",
              "      <td>Yes</td>\n",
              "      <td>62</td>\n",
              "      <td>Yes</td>\n",
              "      <td>No</td>\n",
              "      <td>DSL</td>\n",
              "      <td>Yes</td>\n",
              "      <td>Yes</td>\n",
              "      <td>No</td>\n",
              "      <td>No</td>\n",
              "      <td>No</td>\n",
              "      <td>No</td>\n",
              "      <td>One year</td>\n",
              "      <td>No</td>\n",
              "      <td>Bank transfer (automatic)</td>\n",
              "      <td>56.15</td>\n",
              "      <td>3487.95</td>\n",
              "      <td>No</td>\n",
              "    </tr>\n",
              "  </tbody>\n",
              "</table>\n",
              "</div>"
            ],
            "text/plain": [
              "   customerID  gender  SeniorCitizen  ... MonthlyCharges TotalCharges  Churn\n",
              "0  7590-VHVEG  Female              0  ...          29.85        29.85     No\n",
              "1  5575-GNVDE    Male              0  ...          56.95       1889.5     No\n",
              "2  3668-QPYBK    Male              0  ...          53.85       108.15    Yes\n",
              "3  7795-CFOCW    Male              0  ...          42.30      1840.75     No\n",
              "4  9237-HQITU  Female              0  ...          70.70       151.65    Yes\n",
              "5  9305-CDSKC  Female              0  ...          99.65        820.5    Yes\n",
              "6  1452-KIOVK    Male              0  ...          89.10       1949.4     No\n",
              "7  6713-OKOMC  Female              0  ...          29.75        301.9     No\n",
              "8  7892-POOKP  Female              0  ...         104.80      3046.05    Yes\n",
              "9  6388-TABGU    Male              0  ...          56.15      3487.95     No\n",
              "\n",
              "[10 rows x 21 columns]"
            ]
          },
          "metadata": {
            "tags": []
          },
          "execution_count": 3
        }
      ]
    },
    {
      "cell_type": "code",
      "metadata": {
        "id": "edDWcxrMxrXJ",
        "colab": {
          "base_uri": "https://localhost:8080/",
          "height": 531
        },
        "outputId": "884e1575-14b1-4e72-9cdd-4dc8db2e90b3"
      },
      "source": [
        "churn.tail(10)"
      ],
      "execution_count": null,
      "outputs": [
        {
          "output_type": "execute_result",
          "data": {
            "text/html": [
              "<div>\n",
              "<style scoped>\n",
              "    .dataframe tbody tr th:only-of-type {\n",
              "        vertical-align: middle;\n",
              "    }\n",
              "\n",
              "    .dataframe tbody tr th {\n",
              "        vertical-align: top;\n",
              "    }\n",
              "\n",
              "    .dataframe thead th {\n",
              "        text-align: right;\n",
              "    }\n",
              "</style>\n",
              "<table border=\"1\" class=\"dataframe\">\n",
              "  <thead>\n",
              "    <tr style=\"text-align: right;\">\n",
              "      <th></th>\n",
              "      <th>customerID</th>\n",
              "      <th>gender</th>\n",
              "      <th>SeniorCitizen</th>\n",
              "      <th>Partner</th>\n",
              "      <th>Dependents</th>\n",
              "      <th>tenure</th>\n",
              "      <th>PhoneService</th>\n",
              "      <th>MultipleLines</th>\n",
              "      <th>InternetService</th>\n",
              "      <th>OnlineSecurity</th>\n",
              "      <th>OnlineBackup</th>\n",
              "      <th>DeviceProtection</th>\n",
              "      <th>TechSupport</th>\n",
              "      <th>StreamingTV</th>\n",
              "      <th>StreamingMovies</th>\n",
              "      <th>Contract</th>\n",
              "      <th>PaperlessBilling</th>\n",
              "      <th>PaymentMethod</th>\n",
              "      <th>MonthlyCharges</th>\n",
              "      <th>TotalCharges</th>\n",
              "      <th>Churn</th>\n",
              "    </tr>\n",
              "  </thead>\n",
              "  <tbody>\n",
              "    <tr>\n",
              "      <th>7033</th>\n",
              "      <td>9767-FFLEM</td>\n",
              "      <td>Male</td>\n",
              "      <td>0</td>\n",
              "      <td>No</td>\n",
              "      <td>No</td>\n",
              "      <td>38</td>\n",
              "      <td>Yes</td>\n",
              "      <td>No</td>\n",
              "      <td>Fiber optic</td>\n",
              "      <td>No</td>\n",
              "      <td>No</td>\n",
              "      <td>No</td>\n",
              "      <td>No</td>\n",
              "      <td>No</td>\n",
              "      <td>No</td>\n",
              "      <td>Month-to-month</td>\n",
              "      <td>Yes</td>\n",
              "      <td>Credit card (automatic)</td>\n",
              "      <td>69.50</td>\n",
              "      <td>2625.25</td>\n",
              "      <td>No</td>\n",
              "    </tr>\n",
              "    <tr>\n",
              "      <th>7034</th>\n",
              "      <td>0639-TSIQW</td>\n",
              "      <td>Female</td>\n",
              "      <td>0</td>\n",
              "      <td>No</td>\n",
              "      <td>No</td>\n",
              "      <td>67</td>\n",
              "      <td>Yes</td>\n",
              "      <td>Yes</td>\n",
              "      <td>Fiber optic</td>\n",
              "      <td>Yes</td>\n",
              "      <td>Yes</td>\n",
              "      <td>Yes</td>\n",
              "      <td>No</td>\n",
              "      <td>Yes</td>\n",
              "      <td>No</td>\n",
              "      <td>Month-to-month</td>\n",
              "      <td>Yes</td>\n",
              "      <td>Credit card (automatic)</td>\n",
              "      <td>102.95</td>\n",
              "      <td>6886.25</td>\n",
              "      <td>Yes</td>\n",
              "    </tr>\n",
              "    <tr>\n",
              "      <th>7035</th>\n",
              "      <td>8456-QDAVC</td>\n",
              "      <td>Male</td>\n",
              "      <td>0</td>\n",
              "      <td>No</td>\n",
              "      <td>No</td>\n",
              "      <td>19</td>\n",
              "      <td>Yes</td>\n",
              "      <td>No</td>\n",
              "      <td>Fiber optic</td>\n",
              "      <td>No</td>\n",
              "      <td>No</td>\n",
              "      <td>No</td>\n",
              "      <td>No</td>\n",
              "      <td>Yes</td>\n",
              "      <td>No</td>\n",
              "      <td>Month-to-month</td>\n",
              "      <td>Yes</td>\n",
              "      <td>Bank transfer (automatic)</td>\n",
              "      <td>78.70</td>\n",
              "      <td>1495.1</td>\n",
              "      <td>No</td>\n",
              "    </tr>\n",
              "    <tr>\n",
              "      <th>7036</th>\n",
              "      <td>7750-EYXWZ</td>\n",
              "      <td>Female</td>\n",
              "      <td>0</td>\n",
              "      <td>No</td>\n",
              "      <td>No</td>\n",
              "      <td>12</td>\n",
              "      <td>No</td>\n",
              "      <td>No phone service</td>\n",
              "      <td>DSL</td>\n",
              "      <td>No</td>\n",
              "      <td>Yes</td>\n",
              "      <td>Yes</td>\n",
              "      <td>Yes</td>\n",
              "      <td>Yes</td>\n",
              "      <td>Yes</td>\n",
              "      <td>One year</td>\n",
              "      <td>No</td>\n",
              "      <td>Electronic check</td>\n",
              "      <td>60.65</td>\n",
              "      <td>743.3</td>\n",
              "      <td>No</td>\n",
              "    </tr>\n",
              "    <tr>\n",
              "      <th>7037</th>\n",
              "      <td>2569-WGERO</td>\n",
              "      <td>Female</td>\n",
              "      <td>0</td>\n",
              "      <td>No</td>\n",
              "      <td>No</td>\n",
              "      <td>72</td>\n",
              "      <td>Yes</td>\n",
              "      <td>No</td>\n",
              "      <td>No</td>\n",
              "      <td>No internet service</td>\n",
              "      <td>No internet service</td>\n",
              "      <td>No internet service</td>\n",
              "      <td>No internet service</td>\n",
              "      <td>No internet service</td>\n",
              "      <td>No internet service</td>\n",
              "      <td>Two year</td>\n",
              "      <td>Yes</td>\n",
              "      <td>Bank transfer (automatic)</td>\n",
              "      <td>21.15</td>\n",
              "      <td>1419.4</td>\n",
              "      <td>No</td>\n",
              "    </tr>\n",
              "    <tr>\n",
              "      <th>7038</th>\n",
              "      <td>6840-RESVB</td>\n",
              "      <td>Male</td>\n",
              "      <td>0</td>\n",
              "      <td>Yes</td>\n",
              "      <td>Yes</td>\n",
              "      <td>24</td>\n",
              "      <td>Yes</td>\n",
              "      <td>Yes</td>\n",
              "      <td>DSL</td>\n",
              "      <td>Yes</td>\n",
              "      <td>No</td>\n",
              "      <td>Yes</td>\n",
              "      <td>Yes</td>\n",
              "      <td>Yes</td>\n",
              "      <td>Yes</td>\n",
              "      <td>One year</td>\n",
              "      <td>Yes</td>\n",
              "      <td>Mailed check</td>\n",
              "      <td>84.80</td>\n",
              "      <td>1990.5</td>\n",
              "      <td>No</td>\n",
              "    </tr>\n",
              "    <tr>\n",
              "      <th>7039</th>\n",
              "      <td>2234-XADUH</td>\n",
              "      <td>Female</td>\n",
              "      <td>0</td>\n",
              "      <td>Yes</td>\n",
              "      <td>Yes</td>\n",
              "      <td>72</td>\n",
              "      <td>Yes</td>\n",
              "      <td>Yes</td>\n",
              "      <td>Fiber optic</td>\n",
              "      <td>No</td>\n",
              "      <td>Yes</td>\n",
              "      <td>Yes</td>\n",
              "      <td>No</td>\n",
              "      <td>Yes</td>\n",
              "      <td>Yes</td>\n",
              "      <td>One year</td>\n",
              "      <td>Yes</td>\n",
              "      <td>Credit card (automatic)</td>\n",
              "      <td>103.20</td>\n",
              "      <td>7362.9</td>\n",
              "      <td>No</td>\n",
              "    </tr>\n",
              "    <tr>\n",
              "      <th>7040</th>\n",
              "      <td>4801-JZAZL</td>\n",
              "      <td>Female</td>\n",
              "      <td>0</td>\n",
              "      <td>Yes</td>\n",
              "      <td>Yes</td>\n",
              "      <td>11</td>\n",
              "      <td>No</td>\n",
              "      <td>No phone service</td>\n",
              "      <td>DSL</td>\n",
              "      <td>Yes</td>\n",
              "      <td>No</td>\n",
              "      <td>No</td>\n",
              "      <td>No</td>\n",
              "      <td>No</td>\n",
              "      <td>No</td>\n",
              "      <td>Month-to-month</td>\n",
              "      <td>Yes</td>\n",
              "      <td>Electronic check</td>\n",
              "      <td>29.60</td>\n",
              "      <td>346.45</td>\n",
              "      <td>No</td>\n",
              "    </tr>\n",
              "    <tr>\n",
              "      <th>7041</th>\n",
              "      <td>8361-LTMKD</td>\n",
              "      <td>Male</td>\n",
              "      <td>1</td>\n",
              "      <td>Yes</td>\n",
              "      <td>No</td>\n",
              "      <td>4</td>\n",
              "      <td>Yes</td>\n",
              "      <td>Yes</td>\n",
              "      <td>Fiber optic</td>\n",
              "      <td>No</td>\n",
              "      <td>No</td>\n",
              "      <td>No</td>\n",
              "      <td>No</td>\n",
              "      <td>No</td>\n",
              "      <td>No</td>\n",
              "      <td>Month-to-month</td>\n",
              "      <td>Yes</td>\n",
              "      <td>Mailed check</td>\n",
              "      <td>74.40</td>\n",
              "      <td>306.6</td>\n",
              "      <td>Yes</td>\n",
              "    </tr>\n",
              "    <tr>\n",
              "      <th>7042</th>\n",
              "      <td>3186-AJIEK</td>\n",
              "      <td>Male</td>\n",
              "      <td>0</td>\n",
              "      <td>No</td>\n",
              "      <td>No</td>\n",
              "      <td>66</td>\n",
              "      <td>Yes</td>\n",
              "      <td>No</td>\n",
              "      <td>Fiber optic</td>\n",
              "      <td>Yes</td>\n",
              "      <td>No</td>\n",
              "      <td>Yes</td>\n",
              "      <td>Yes</td>\n",
              "      <td>Yes</td>\n",
              "      <td>Yes</td>\n",
              "      <td>Two year</td>\n",
              "      <td>Yes</td>\n",
              "      <td>Bank transfer (automatic)</td>\n",
              "      <td>105.65</td>\n",
              "      <td>6844.5</td>\n",
              "      <td>No</td>\n",
              "    </tr>\n",
              "  </tbody>\n",
              "</table>\n",
              "</div>"
            ],
            "text/plain": [
              "      customerID  gender  SeniorCitizen  ... MonthlyCharges TotalCharges  Churn\n",
              "7033  9767-FFLEM    Male              0  ...          69.50      2625.25     No\n",
              "7034  0639-TSIQW  Female              0  ...         102.95      6886.25    Yes\n",
              "7035  8456-QDAVC    Male              0  ...          78.70       1495.1     No\n",
              "7036  7750-EYXWZ  Female              0  ...          60.65        743.3     No\n",
              "7037  2569-WGERO  Female              0  ...          21.15       1419.4     No\n",
              "7038  6840-RESVB    Male              0  ...          84.80       1990.5     No\n",
              "7039  2234-XADUH  Female              0  ...         103.20       7362.9     No\n",
              "7040  4801-JZAZL  Female              0  ...          29.60       346.45     No\n",
              "7041  8361-LTMKD    Male              1  ...          74.40        306.6    Yes\n",
              "7042  3186-AJIEK    Male              0  ...         105.65       6844.5     No\n",
              "\n",
              "[10 rows x 21 columns]"
            ]
          },
          "metadata": {
            "tags": []
          },
          "execution_count": 4
        }
      ]
    },
    {
      "cell_type": "code",
      "metadata": {
        "id": "dvzDJvO3ktOr",
        "colab": {
          "base_uri": "https://localhost:8080/",
          "height": 386
        },
        "outputId": "5baadcea-8e28-4635-97c6-b2affa23c224"
      },
      "source": [
        "# getting count of unique values for our varibales in our dataframe\n",
        "churn.nunique()"
      ],
      "execution_count": null,
      "outputs": [
        {
          "output_type": "execute_result",
          "data": {
            "text/plain": [
              "customerID          7043\n",
              "gender                 2\n",
              "SeniorCitizen          2\n",
              "Partner                2\n",
              "Dependents             2\n",
              "tenure                73\n",
              "PhoneService           2\n",
              "MultipleLines          3\n",
              "InternetService        3\n",
              "OnlineSecurity         3\n",
              "OnlineBackup           3\n",
              "DeviceProtection       3\n",
              "TechSupport            3\n",
              "StreamingTV            3\n",
              "StreamingMovies        3\n",
              "Contract               3\n",
              "PaperlessBilling       2\n",
              "PaymentMethod          4\n",
              "MonthlyCharges      1585\n",
              "TotalCharges        6531\n",
              "Churn                  2\n",
              "dtype: int64"
            ]
          },
          "metadata": {
            "tags": []
          },
          "execution_count": 5
        }
      ]
    },
    {
      "cell_type": "code",
      "metadata": {
        "id": "-70L85c5forv",
        "colab": {
          "base_uri": "https://localhost:8080/",
          "height": 487
        },
        "outputId": "698970be-30eb-4eff-ef23-d649fd0a0fbc"
      },
      "source": [
        "churn.info()"
      ],
      "execution_count": null,
      "outputs": [
        {
          "output_type": "stream",
          "text": [
            "<class 'pandas.core.frame.DataFrame'>\n",
            "RangeIndex: 7043 entries, 0 to 7042\n",
            "Data columns (total 21 columns):\n",
            " #   Column            Non-Null Count  Dtype  \n",
            "---  ------            --------------  -----  \n",
            " 0   customerID        7043 non-null   object \n",
            " 1   gender            7043 non-null   object \n",
            " 2   SeniorCitizen     7043 non-null   int64  \n",
            " 3   Partner           7043 non-null   object \n",
            " 4   Dependents        7043 non-null   object \n",
            " 5   tenure            7043 non-null   int64  \n",
            " 6   PhoneService      7043 non-null   object \n",
            " 7   MultipleLines     7043 non-null   object \n",
            " 8   InternetService   7043 non-null   object \n",
            " 9   OnlineSecurity    7043 non-null   object \n",
            " 10  OnlineBackup      7043 non-null   object \n",
            " 11  DeviceProtection  7043 non-null   object \n",
            " 12  TechSupport       7043 non-null   object \n",
            " 13  StreamingTV       7043 non-null   object \n",
            " 14  StreamingMovies   7043 non-null   object \n",
            " 15  Contract          7043 non-null   object \n",
            " 16  PaperlessBilling  7043 non-null   object \n",
            " 17  PaymentMethod     7043 non-null   object \n",
            " 18  MonthlyCharges    7043 non-null   float64\n",
            " 19  TotalCharges      7043 non-null   object \n",
            " 20  Churn             7043 non-null   object \n",
            "dtypes: float64(1), int64(2), object(18)\n",
            "memory usage: 1.1+ MB\n"
          ],
          "name": "stdout"
        }
      ]
    },
    {
      "cell_type": "code",
      "metadata": {
        "id": "mA8ux4KATsmG",
        "colab": {
          "base_uri": "https://localhost:8080/",
          "height": 84
        },
        "outputId": "22005acc-eb29-441e-8247-3b93cb2fc6b8"
      },
      "source": [
        "# checking unique values and their count\n",
        "churn['InternetService'].value_counts()"
      ],
      "execution_count": null,
      "outputs": [
        {
          "output_type": "execute_result",
          "data": {
            "text/plain": [
              "Fiber optic    3096\n",
              "DSL            2421\n",
              "No             1526\n",
              "Name: InternetService, dtype: int64"
            ]
          },
          "metadata": {
            "tags": []
          },
          "execution_count": 6
        }
      ]
    },
    {
      "cell_type": "code",
      "metadata": {
        "id": "ackvzSt65vJX",
        "colab": {
          "base_uri": "https://localhost:8080/",
          "height": 84
        },
        "outputId": "edb2f2ba-1b2b-4235-cc2d-e5bcda4ed91d"
      },
      "source": [
        "# checking unique values and their count\n",
        "churn['Contract'].value_counts()"
      ],
      "execution_count": null,
      "outputs": [
        {
          "output_type": "execute_result",
          "data": {
            "text/plain": [
              "Month-to-month    3875\n",
              "Two year          1695\n",
              "One year          1473\n",
              "Name: Contract, dtype: int64"
            ]
          },
          "metadata": {
            "tags": []
          },
          "execution_count": 7
        }
      ]
    },
    {
      "cell_type": "code",
      "metadata": {
        "id": "-jDsmofq7KI-",
        "colab": {
          "base_uri": "https://localhost:8080/",
          "height": 101
        },
        "outputId": "c8cec0a8-5eb1-436c-d359-f43dd95e7977"
      },
      "source": [
        "# checking unique values and their count\n",
        "churn['PaymentMethod'].value_counts()"
      ],
      "execution_count": null,
      "outputs": [
        {
          "output_type": "execute_result",
          "data": {
            "text/plain": [
              "Electronic check             2365\n",
              "Mailed check                 1612\n",
              "Bank transfer (automatic)    1544\n",
              "Credit card (automatic)      1522\n",
              "Name: PaymentMethod, dtype: int64"
            ]
          },
          "metadata": {
            "tags": []
          },
          "execution_count": 8
        }
      ]
    },
    {
      "cell_type": "code",
      "metadata": {
        "id": "dmaHbfWLzNld",
        "colab": {
          "base_uri": "https://localhost:8080/",
          "height": 67
        },
        "outputId": "3e60a3cf-ea5d-498d-92d7-3a4205c5324f"
      },
      "source": [
        "# checking unique values and their count\n",
        "churn['Churn'].value_counts()"
      ],
      "execution_count": null,
      "outputs": [
        {
          "output_type": "execute_result",
          "data": {
            "text/plain": [
              "No     5174\n",
              "Yes    1869\n",
              "Name: Churn, dtype: int64"
            ]
          },
          "metadata": {
            "tags": []
          },
          "execution_count": 9
        }
      ]
    },
    {
      "cell_type": "markdown",
      "metadata": {
        "id": "QpykUgr9yHt2"
      },
      "source": [
        "**After the data exploration we can see the following:**\n",
        "- There are 21 columns (features) and 7043 rows (obsevations)\n",
        "- There is no missing data\n",
        "- There are 18 columns with categorical variables as follows: \n",
        "\n",
        "\n",
        "> 1.   7 of which have values of 'yes', 'no' or a third 'No phone service/No internet service'. *We can use Dummy coding here*\n",
        "2.   'Partner' and 'Dependents' both have 2 values 'yes' or 'no'. *We can use Dummy coding here*\n",
        "3.   'PhoneService' has 2 values 'yes' or 'no'. *We can use Dummy coding here*\n",
        "4.   'InternetService' has 3 values 'Fiber optic', 'DSL' or 'No'. *We can use Dummy coding here*\n",
        "5.   'gender' has 2 values 'Male' or 'Female'. *We can use Dummy coding here*\n",
        "6.   'SeniorCitizen' is already '1' or '0'. *Nothing to be done here* \n",
        "7.   'Contract' has 3 values. *We can use Dummy coding here*\n",
        "8.   'PaperlessBilling' has 2 values 'yes' or 'no'. *We can use Dummy coding here*\n",
        "9.   'PaymentMethod' has 4 values. *We can use Dummy coding here*\n",
        "10.   'Churn' has 2 values 'yes' or 'no'. \n",
        "11.   WE will drop the 'customerID' column since it will not be used in our study\n",
        "\n",
        "- There are 3 columns with continuous variables\n",
        "\n",
        "> 1. 'tenure'\n",
        "2. 'MonthlyCharges'\n",
        "3. 'TotalCharges'\n",
        "\n",
        "\n",
        "\n"
      ]
    },
    {
      "cell_type": "markdown",
      "metadata": {
        "id": "tVmrI_S5Eut7"
      },
      "source": [
        "## **2.2 Data cleaning**"
      ]
    },
    {
      "cell_type": "code",
      "metadata": {
        "id": "GBpeuZ6DOcY7",
        "colab": {
          "base_uri": "https://localhost:8080/",
          "height": 386
        },
        "outputId": "a8bf4f25-2503-4196-ec1f-0cda661c74b2"
      },
      "source": [
        "# Making sure there is no missing data\n",
        "churn.isna().any()"
      ],
      "execution_count": null,
      "outputs": [
        {
          "output_type": "execute_result",
          "data": {
            "text/plain": [
              "customerID          False\n",
              "gender              False\n",
              "SeniorCitizen       False\n",
              "Partner             False\n",
              "Dependents          False\n",
              "tenure              False\n",
              "PhoneService        False\n",
              "MultipleLines       False\n",
              "InternetService     False\n",
              "OnlineSecurity      False\n",
              "OnlineBackup        False\n",
              "DeviceProtection    False\n",
              "TechSupport         False\n",
              "StreamingTV         False\n",
              "StreamingMovies     False\n",
              "Contract            False\n",
              "PaperlessBilling    False\n",
              "PaymentMethod       False\n",
              "MonthlyCharges      False\n",
              "TotalCharges        False\n",
              "Churn               False\n",
              "dtype: bool"
            ]
          },
          "metadata": {
            "tags": []
          },
          "execution_count": 10
        }
      ]
    },
    {
      "cell_type": "code",
      "metadata": {
        "id": "zNkcVS9-Oihd",
        "colab": {
          "base_uri": "https://localhost:8080/",
          "height": 386
        },
        "outputId": "74ddef7c-0ff4-44da-ca54-da9f1a8cdad8"
      },
      "source": [
        "churn.isna().sum()"
      ],
      "execution_count": null,
      "outputs": [
        {
          "output_type": "execute_result",
          "data": {
            "text/plain": [
              "customerID          0\n",
              "gender              0\n",
              "SeniorCitizen       0\n",
              "Partner             0\n",
              "Dependents          0\n",
              "tenure              0\n",
              "PhoneService        0\n",
              "MultipleLines       0\n",
              "InternetService     0\n",
              "OnlineSecurity      0\n",
              "OnlineBackup        0\n",
              "DeviceProtection    0\n",
              "TechSupport         0\n",
              "StreamingTV         0\n",
              "StreamingMovies     0\n",
              "Contract            0\n",
              "PaperlessBilling    0\n",
              "PaymentMethod       0\n",
              "MonthlyCharges      0\n",
              "TotalCharges        0\n",
              "Churn               0\n",
              "dtype: int64"
            ]
          },
          "metadata": {
            "tags": []
          },
          "execution_count": 11
        }
      ]
    },
    {
      "cell_type": "code",
      "metadata": {
        "id": "E2_3zR7eSs-n"
      },
      "source": [
        "# making sure there are no blanks, '?' or '--' and if there are we will convert them to NaN\n",
        "churn.replace({'?': np.nan, '--': np.nan, ' ': np.nan}, inplace=True)"
      ],
      "execution_count": null,
      "outputs": []
    },
    {
      "cell_type": "code",
      "metadata": {
        "id": "kynZFxMzTfph",
        "colab": {
          "base_uri": "https://localhost:8080/",
          "height": 578
        },
        "outputId": "5dcad7e7-70c1-4ac3-abdd-06ac9decc249"
      },
      "source": [
        "# If there were? we will make sure they were converted to Nan\n",
        "churn.loc[churn.isna().any(axis=1)]"
      ],
      "execution_count": null,
      "outputs": [
        {
          "output_type": "execute_result",
          "data": {
            "text/html": [
              "<div>\n",
              "<style scoped>\n",
              "    .dataframe tbody tr th:only-of-type {\n",
              "        vertical-align: middle;\n",
              "    }\n",
              "\n",
              "    .dataframe tbody tr th {\n",
              "        vertical-align: top;\n",
              "    }\n",
              "\n",
              "    .dataframe thead th {\n",
              "        text-align: right;\n",
              "    }\n",
              "</style>\n",
              "<table border=\"1\" class=\"dataframe\">\n",
              "  <thead>\n",
              "    <tr style=\"text-align: right;\">\n",
              "      <th></th>\n",
              "      <th>customerID</th>\n",
              "      <th>gender</th>\n",
              "      <th>SeniorCitizen</th>\n",
              "      <th>Partner</th>\n",
              "      <th>Dependents</th>\n",
              "      <th>tenure</th>\n",
              "      <th>PhoneService</th>\n",
              "      <th>MultipleLines</th>\n",
              "      <th>InternetService</th>\n",
              "      <th>OnlineSecurity</th>\n",
              "      <th>OnlineBackup</th>\n",
              "      <th>DeviceProtection</th>\n",
              "      <th>TechSupport</th>\n",
              "      <th>StreamingTV</th>\n",
              "      <th>StreamingMovies</th>\n",
              "      <th>Contract</th>\n",
              "      <th>PaperlessBilling</th>\n",
              "      <th>PaymentMethod</th>\n",
              "      <th>MonthlyCharges</th>\n",
              "      <th>TotalCharges</th>\n",
              "      <th>Churn</th>\n",
              "    </tr>\n",
              "  </thead>\n",
              "  <tbody>\n",
              "    <tr>\n",
              "      <th>488</th>\n",
              "      <td>4472-LVYGI</td>\n",
              "      <td>Female</td>\n",
              "      <td>0</td>\n",
              "      <td>Yes</td>\n",
              "      <td>Yes</td>\n",
              "      <td>0</td>\n",
              "      <td>No</td>\n",
              "      <td>No phone service</td>\n",
              "      <td>DSL</td>\n",
              "      <td>Yes</td>\n",
              "      <td>No</td>\n",
              "      <td>Yes</td>\n",
              "      <td>Yes</td>\n",
              "      <td>Yes</td>\n",
              "      <td>No</td>\n",
              "      <td>Two year</td>\n",
              "      <td>Yes</td>\n",
              "      <td>Bank transfer (automatic)</td>\n",
              "      <td>52.55</td>\n",
              "      <td>NaN</td>\n",
              "      <td>No</td>\n",
              "    </tr>\n",
              "    <tr>\n",
              "      <th>753</th>\n",
              "      <td>3115-CZMZD</td>\n",
              "      <td>Male</td>\n",
              "      <td>0</td>\n",
              "      <td>No</td>\n",
              "      <td>Yes</td>\n",
              "      <td>0</td>\n",
              "      <td>Yes</td>\n",
              "      <td>No</td>\n",
              "      <td>No</td>\n",
              "      <td>No internet service</td>\n",
              "      <td>No internet service</td>\n",
              "      <td>No internet service</td>\n",
              "      <td>No internet service</td>\n",
              "      <td>No internet service</td>\n",
              "      <td>No internet service</td>\n",
              "      <td>Two year</td>\n",
              "      <td>No</td>\n",
              "      <td>Mailed check</td>\n",
              "      <td>20.25</td>\n",
              "      <td>NaN</td>\n",
              "      <td>No</td>\n",
              "    </tr>\n",
              "    <tr>\n",
              "      <th>936</th>\n",
              "      <td>5709-LVOEQ</td>\n",
              "      <td>Female</td>\n",
              "      <td>0</td>\n",
              "      <td>Yes</td>\n",
              "      <td>Yes</td>\n",
              "      <td>0</td>\n",
              "      <td>Yes</td>\n",
              "      <td>No</td>\n",
              "      <td>DSL</td>\n",
              "      <td>Yes</td>\n",
              "      <td>Yes</td>\n",
              "      <td>Yes</td>\n",
              "      <td>No</td>\n",
              "      <td>Yes</td>\n",
              "      <td>Yes</td>\n",
              "      <td>Two year</td>\n",
              "      <td>No</td>\n",
              "      <td>Mailed check</td>\n",
              "      <td>80.85</td>\n",
              "      <td>NaN</td>\n",
              "      <td>No</td>\n",
              "    </tr>\n",
              "    <tr>\n",
              "      <th>1082</th>\n",
              "      <td>4367-NUYAO</td>\n",
              "      <td>Male</td>\n",
              "      <td>0</td>\n",
              "      <td>Yes</td>\n",
              "      <td>Yes</td>\n",
              "      <td>0</td>\n",
              "      <td>Yes</td>\n",
              "      <td>Yes</td>\n",
              "      <td>No</td>\n",
              "      <td>No internet service</td>\n",
              "      <td>No internet service</td>\n",
              "      <td>No internet service</td>\n",
              "      <td>No internet service</td>\n",
              "      <td>No internet service</td>\n",
              "      <td>No internet service</td>\n",
              "      <td>Two year</td>\n",
              "      <td>No</td>\n",
              "      <td>Mailed check</td>\n",
              "      <td>25.75</td>\n",
              "      <td>NaN</td>\n",
              "      <td>No</td>\n",
              "    </tr>\n",
              "    <tr>\n",
              "      <th>1340</th>\n",
              "      <td>1371-DWPAZ</td>\n",
              "      <td>Female</td>\n",
              "      <td>0</td>\n",
              "      <td>Yes</td>\n",
              "      <td>Yes</td>\n",
              "      <td>0</td>\n",
              "      <td>No</td>\n",
              "      <td>No phone service</td>\n",
              "      <td>DSL</td>\n",
              "      <td>Yes</td>\n",
              "      <td>Yes</td>\n",
              "      <td>Yes</td>\n",
              "      <td>Yes</td>\n",
              "      <td>Yes</td>\n",
              "      <td>No</td>\n",
              "      <td>Two year</td>\n",
              "      <td>No</td>\n",
              "      <td>Credit card (automatic)</td>\n",
              "      <td>56.05</td>\n",
              "      <td>NaN</td>\n",
              "      <td>No</td>\n",
              "    </tr>\n",
              "    <tr>\n",
              "      <th>3331</th>\n",
              "      <td>7644-OMVMY</td>\n",
              "      <td>Male</td>\n",
              "      <td>0</td>\n",
              "      <td>Yes</td>\n",
              "      <td>Yes</td>\n",
              "      <td>0</td>\n",
              "      <td>Yes</td>\n",
              "      <td>No</td>\n",
              "      <td>No</td>\n",
              "      <td>No internet service</td>\n",
              "      <td>No internet service</td>\n",
              "      <td>No internet service</td>\n",
              "      <td>No internet service</td>\n",
              "      <td>No internet service</td>\n",
              "      <td>No internet service</td>\n",
              "      <td>Two year</td>\n",
              "      <td>No</td>\n",
              "      <td>Mailed check</td>\n",
              "      <td>19.85</td>\n",
              "      <td>NaN</td>\n",
              "      <td>No</td>\n",
              "    </tr>\n",
              "    <tr>\n",
              "      <th>3826</th>\n",
              "      <td>3213-VVOLG</td>\n",
              "      <td>Male</td>\n",
              "      <td>0</td>\n",
              "      <td>Yes</td>\n",
              "      <td>Yes</td>\n",
              "      <td>0</td>\n",
              "      <td>Yes</td>\n",
              "      <td>Yes</td>\n",
              "      <td>No</td>\n",
              "      <td>No internet service</td>\n",
              "      <td>No internet service</td>\n",
              "      <td>No internet service</td>\n",
              "      <td>No internet service</td>\n",
              "      <td>No internet service</td>\n",
              "      <td>No internet service</td>\n",
              "      <td>Two year</td>\n",
              "      <td>No</td>\n",
              "      <td>Mailed check</td>\n",
              "      <td>25.35</td>\n",
              "      <td>NaN</td>\n",
              "      <td>No</td>\n",
              "    </tr>\n",
              "    <tr>\n",
              "      <th>4380</th>\n",
              "      <td>2520-SGTTA</td>\n",
              "      <td>Female</td>\n",
              "      <td>0</td>\n",
              "      <td>Yes</td>\n",
              "      <td>Yes</td>\n",
              "      <td>0</td>\n",
              "      <td>Yes</td>\n",
              "      <td>No</td>\n",
              "      <td>No</td>\n",
              "      <td>No internet service</td>\n",
              "      <td>No internet service</td>\n",
              "      <td>No internet service</td>\n",
              "      <td>No internet service</td>\n",
              "      <td>No internet service</td>\n",
              "      <td>No internet service</td>\n",
              "      <td>Two year</td>\n",
              "      <td>No</td>\n",
              "      <td>Mailed check</td>\n",
              "      <td>20.00</td>\n",
              "      <td>NaN</td>\n",
              "      <td>No</td>\n",
              "    </tr>\n",
              "    <tr>\n",
              "      <th>5218</th>\n",
              "      <td>2923-ARZLG</td>\n",
              "      <td>Male</td>\n",
              "      <td>0</td>\n",
              "      <td>Yes</td>\n",
              "      <td>Yes</td>\n",
              "      <td>0</td>\n",
              "      <td>Yes</td>\n",
              "      <td>No</td>\n",
              "      <td>No</td>\n",
              "      <td>No internet service</td>\n",
              "      <td>No internet service</td>\n",
              "      <td>No internet service</td>\n",
              "      <td>No internet service</td>\n",
              "      <td>No internet service</td>\n",
              "      <td>No internet service</td>\n",
              "      <td>One year</td>\n",
              "      <td>Yes</td>\n",
              "      <td>Mailed check</td>\n",
              "      <td>19.70</td>\n",
              "      <td>NaN</td>\n",
              "      <td>No</td>\n",
              "    </tr>\n",
              "    <tr>\n",
              "      <th>6670</th>\n",
              "      <td>4075-WKNIU</td>\n",
              "      <td>Female</td>\n",
              "      <td>0</td>\n",
              "      <td>Yes</td>\n",
              "      <td>Yes</td>\n",
              "      <td>0</td>\n",
              "      <td>Yes</td>\n",
              "      <td>Yes</td>\n",
              "      <td>DSL</td>\n",
              "      <td>No</td>\n",
              "      <td>Yes</td>\n",
              "      <td>Yes</td>\n",
              "      <td>Yes</td>\n",
              "      <td>Yes</td>\n",
              "      <td>No</td>\n",
              "      <td>Two year</td>\n",
              "      <td>No</td>\n",
              "      <td>Mailed check</td>\n",
              "      <td>73.35</td>\n",
              "      <td>NaN</td>\n",
              "      <td>No</td>\n",
              "    </tr>\n",
              "    <tr>\n",
              "      <th>6754</th>\n",
              "      <td>2775-SEFEE</td>\n",
              "      <td>Male</td>\n",
              "      <td>0</td>\n",
              "      <td>No</td>\n",
              "      <td>Yes</td>\n",
              "      <td>0</td>\n",
              "      <td>Yes</td>\n",
              "      <td>Yes</td>\n",
              "      <td>DSL</td>\n",
              "      <td>Yes</td>\n",
              "      <td>Yes</td>\n",
              "      <td>No</td>\n",
              "      <td>Yes</td>\n",
              "      <td>No</td>\n",
              "      <td>No</td>\n",
              "      <td>Two year</td>\n",
              "      <td>Yes</td>\n",
              "      <td>Bank transfer (automatic)</td>\n",
              "      <td>61.90</td>\n",
              "      <td>NaN</td>\n",
              "      <td>No</td>\n",
              "    </tr>\n",
              "  </tbody>\n",
              "</table>\n",
              "</div>"
            ],
            "text/plain": [
              "      customerID  gender  SeniorCitizen  ... MonthlyCharges TotalCharges  Churn\n",
              "488   4472-LVYGI  Female              0  ...          52.55          NaN     No\n",
              "753   3115-CZMZD    Male              0  ...          20.25          NaN     No\n",
              "936   5709-LVOEQ  Female              0  ...          80.85          NaN     No\n",
              "1082  4367-NUYAO    Male              0  ...          25.75          NaN     No\n",
              "1340  1371-DWPAZ  Female              0  ...          56.05          NaN     No\n",
              "3331  7644-OMVMY    Male              0  ...          19.85          NaN     No\n",
              "3826  3213-VVOLG    Male              0  ...          25.35          NaN     No\n",
              "4380  2520-SGTTA  Female              0  ...          20.00          NaN     No\n",
              "5218  2923-ARZLG    Male              0  ...          19.70          NaN     No\n",
              "6670  4075-WKNIU  Female              0  ...          73.35          NaN     No\n",
              "6754  2775-SEFEE    Male              0  ...          61.90          NaN     No\n",
              "\n",
              "[11 rows x 21 columns]"
            ]
          },
          "metadata": {
            "tags": []
          },
          "execution_count": 13
        }
      ]
    },
    {
      "cell_type": "code",
      "metadata": {
        "id": "ezoSDi6SEwD4",
        "colab": {
          "base_uri": "https://localhost:8080/",
          "height": 282
        },
        "outputId": "71a843cd-976d-474d-bb11-e6b5acbd596d"
      },
      "source": [
        "# As we can see above 'TotalCharges' has 11 values that were changed Nan. They were probably blanks\n",
        "# Dropping Nan rows since they are only 11 rows. That is less than 0.02% of the data\n",
        "churn.dropna(axis=0, inplace=True)\n",
        "\n",
        "# Dropping the customerID column since we won't be using it\n",
        "churn.drop(['customerID'], axis = 1, inplace = True)\n",
        "\n",
        "# Checking if column was dropped\n",
        "churn.head()"
      ],
      "execution_count": null,
      "outputs": [
        {
          "output_type": "execute_result",
          "data": {
            "text/html": [
              "<div>\n",
              "<style scoped>\n",
              "    .dataframe tbody tr th:only-of-type {\n",
              "        vertical-align: middle;\n",
              "    }\n",
              "\n",
              "    .dataframe tbody tr th {\n",
              "        vertical-align: top;\n",
              "    }\n",
              "\n",
              "    .dataframe thead th {\n",
              "        text-align: right;\n",
              "    }\n",
              "</style>\n",
              "<table border=\"1\" class=\"dataframe\">\n",
              "  <thead>\n",
              "    <tr style=\"text-align: right;\">\n",
              "      <th></th>\n",
              "      <th>gender</th>\n",
              "      <th>SeniorCitizen</th>\n",
              "      <th>Partner</th>\n",
              "      <th>Dependents</th>\n",
              "      <th>tenure</th>\n",
              "      <th>PhoneService</th>\n",
              "      <th>MultipleLines</th>\n",
              "      <th>InternetService</th>\n",
              "      <th>OnlineSecurity</th>\n",
              "      <th>OnlineBackup</th>\n",
              "      <th>DeviceProtection</th>\n",
              "      <th>TechSupport</th>\n",
              "      <th>StreamingTV</th>\n",
              "      <th>StreamingMovies</th>\n",
              "      <th>Contract</th>\n",
              "      <th>PaperlessBilling</th>\n",
              "      <th>PaymentMethod</th>\n",
              "      <th>MonthlyCharges</th>\n",
              "      <th>TotalCharges</th>\n",
              "      <th>Churn</th>\n",
              "    </tr>\n",
              "  </thead>\n",
              "  <tbody>\n",
              "    <tr>\n",
              "      <th>0</th>\n",
              "      <td>Female</td>\n",
              "      <td>0</td>\n",
              "      <td>Yes</td>\n",
              "      <td>No</td>\n",
              "      <td>1</td>\n",
              "      <td>No</td>\n",
              "      <td>No phone service</td>\n",
              "      <td>DSL</td>\n",
              "      <td>No</td>\n",
              "      <td>Yes</td>\n",
              "      <td>No</td>\n",
              "      <td>No</td>\n",
              "      <td>No</td>\n",
              "      <td>No</td>\n",
              "      <td>Month-to-month</td>\n",
              "      <td>Yes</td>\n",
              "      <td>Electronic check</td>\n",
              "      <td>29.85</td>\n",
              "      <td>29.85</td>\n",
              "      <td>No</td>\n",
              "    </tr>\n",
              "    <tr>\n",
              "      <th>1</th>\n",
              "      <td>Male</td>\n",
              "      <td>0</td>\n",
              "      <td>No</td>\n",
              "      <td>No</td>\n",
              "      <td>34</td>\n",
              "      <td>Yes</td>\n",
              "      <td>No</td>\n",
              "      <td>DSL</td>\n",
              "      <td>Yes</td>\n",
              "      <td>No</td>\n",
              "      <td>Yes</td>\n",
              "      <td>No</td>\n",
              "      <td>No</td>\n",
              "      <td>No</td>\n",
              "      <td>One year</td>\n",
              "      <td>No</td>\n",
              "      <td>Mailed check</td>\n",
              "      <td>56.95</td>\n",
              "      <td>1889.50</td>\n",
              "      <td>No</td>\n",
              "    </tr>\n",
              "    <tr>\n",
              "      <th>2</th>\n",
              "      <td>Male</td>\n",
              "      <td>0</td>\n",
              "      <td>No</td>\n",
              "      <td>No</td>\n",
              "      <td>2</td>\n",
              "      <td>Yes</td>\n",
              "      <td>No</td>\n",
              "      <td>DSL</td>\n",
              "      <td>Yes</td>\n",
              "      <td>Yes</td>\n",
              "      <td>No</td>\n",
              "      <td>No</td>\n",
              "      <td>No</td>\n",
              "      <td>No</td>\n",
              "      <td>Month-to-month</td>\n",
              "      <td>Yes</td>\n",
              "      <td>Mailed check</td>\n",
              "      <td>53.85</td>\n",
              "      <td>108.15</td>\n",
              "      <td>Yes</td>\n",
              "    </tr>\n",
              "    <tr>\n",
              "      <th>3</th>\n",
              "      <td>Male</td>\n",
              "      <td>0</td>\n",
              "      <td>No</td>\n",
              "      <td>No</td>\n",
              "      <td>45</td>\n",
              "      <td>No</td>\n",
              "      <td>No phone service</td>\n",
              "      <td>DSL</td>\n",
              "      <td>Yes</td>\n",
              "      <td>No</td>\n",
              "      <td>Yes</td>\n",
              "      <td>Yes</td>\n",
              "      <td>No</td>\n",
              "      <td>No</td>\n",
              "      <td>One year</td>\n",
              "      <td>No</td>\n",
              "      <td>Bank transfer (automatic)</td>\n",
              "      <td>42.30</td>\n",
              "      <td>1840.75</td>\n",
              "      <td>No</td>\n",
              "    </tr>\n",
              "    <tr>\n",
              "      <th>4</th>\n",
              "      <td>Female</td>\n",
              "      <td>0</td>\n",
              "      <td>No</td>\n",
              "      <td>No</td>\n",
              "      <td>2</td>\n",
              "      <td>Yes</td>\n",
              "      <td>No</td>\n",
              "      <td>Fiber optic</td>\n",
              "      <td>No</td>\n",
              "      <td>No</td>\n",
              "      <td>No</td>\n",
              "      <td>No</td>\n",
              "      <td>No</td>\n",
              "      <td>No</td>\n",
              "      <td>Month-to-month</td>\n",
              "      <td>Yes</td>\n",
              "      <td>Electronic check</td>\n",
              "      <td>70.70</td>\n",
              "      <td>151.65</td>\n",
              "      <td>Yes</td>\n",
              "    </tr>\n",
              "  </tbody>\n",
              "</table>\n",
              "</div>"
            ],
            "text/plain": [
              "   gender  SeniorCitizen Partner  ... MonthlyCharges  TotalCharges Churn\n",
              "0  Female              0     Yes  ...          29.85         29.85    No\n",
              "1    Male              0      No  ...          56.95       1889.50    No\n",
              "2    Male              0      No  ...          53.85        108.15   Yes\n",
              "3    Male              0      No  ...          42.30       1840.75    No\n",
              "4  Female              0      No  ...          70.70        151.65   Yes\n",
              "\n",
              "[5 rows x 20 columns]"
            ]
          },
          "metadata": {
            "tags": []
          },
          "execution_count": 14
        }
      ]
    },
    {
      "cell_type": "code",
      "metadata": {
        "id": "9kixGLU7B5uk",
        "colab": {
          "base_uri": "https://localhost:8080/",
          "height": 470
        },
        "outputId": "657c8647-a983-41d2-872c-f776ec4f27c8"
      },
      "source": [
        "churn.info()"
      ],
      "execution_count": null,
      "outputs": [
        {
          "output_type": "stream",
          "text": [
            "<class 'pandas.core.frame.DataFrame'>\n",
            "Int64Index: 7032 entries, 0 to 7042\n",
            "Data columns (total 20 columns):\n",
            " #   Column            Non-Null Count  Dtype  \n",
            "---  ------            --------------  -----  \n",
            " 0   gender            7032 non-null   object \n",
            " 1   SeniorCitizen     7032 non-null   int64  \n",
            " 2   Partner           7032 non-null   object \n",
            " 3   Dependents        7032 non-null   object \n",
            " 4   tenure            7032 non-null   int64  \n",
            " 5   PhoneService      7032 non-null   object \n",
            " 6   MultipleLines     7032 non-null   object \n",
            " 7   InternetService   7032 non-null   object \n",
            " 8   OnlineSecurity    7032 non-null   object \n",
            " 9   OnlineBackup      7032 non-null   object \n",
            " 10  DeviceProtection  7032 non-null   object \n",
            " 11  TechSupport       7032 non-null   object \n",
            " 12  StreamingTV       7032 non-null   object \n",
            " 13  StreamingMovies   7032 non-null   object \n",
            " 14  Contract          7032 non-null   object \n",
            " 15  PaperlessBilling  7032 non-null   object \n",
            " 16  PaymentMethod     7032 non-null   object \n",
            " 17  MonthlyCharges    7032 non-null   float64\n",
            " 18  TotalCharges      7032 non-null   float64\n",
            " 19  Churn             7032 non-null   object \n",
            "dtypes: float64(2), int64(2), object(16)\n",
            "memory usage: 1.1+ MB\n"
          ],
          "name": "stdout"
        }
      ]
    },
    {
      "cell_type": "code",
      "metadata": {
        "id": "bUV-tDS70U6l"
      },
      "source": [
        "churn['SeniorCitizen'].loc[churn['SeniorCitizen'] == 1] = 'Yes' \n",
        "churn['SeniorCitizen'].loc[churn['SeniorCitizen'] == 0] = 'No'"
      ],
      "execution_count": null,
      "outputs": []
    },
    {
      "cell_type": "code",
      "metadata": {
        "id": "jyEBUcUxy-eB",
        "colab": {
          "base_uri": "https://localhost:8080/",
          "height": 470
        },
        "outputId": "c725018f-554e-4cb0-bd9e-2f3ceb8532c6"
      },
      "source": [
        "churn.info()"
      ],
      "execution_count": null,
      "outputs": [
        {
          "output_type": "stream",
          "text": [
            "<class 'pandas.core.frame.DataFrame'>\n",
            "Int64Index: 7032 entries, 0 to 7042\n",
            "Data columns (total 20 columns):\n",
            " #   Column            Non-Null Count  Dtype  \n",
            "---  ------            --------------  -----  \n",
            " 0   gender            7032 non-null   object \n",
            " 1   SeniorCitizen     7032 non-null   object \n",
            " 2   Partner           7032 non-null   object \n",
            " 3   Dependents        7032 non-null   object \n",
            " 4   tenure            7032 non-null   int64  \n",
            " 5   PhoneService      7032 non-null   object \n",
            " 6   MultipleLines     7032 non-null   object \n",
            " 7   InternetService   7032 non-null   object \n",
            " 8   OnlineSecurity    7032 non-null   object \n",
            " 9   OnlineBackup      7032 non-null   object \n",
            " 10  DeviceProtection  7032 non-null   object \n",
            " 11  TechSupport       7032 non-null   object \n",
            " 12  StreamingTV       7032 non-null   object \n",
            " 13  StreamingMovies   7032 non-null   object \n",
            " 14  Contract          7032 non-null   object \n",
            " 15  PaperlessBilling  7032 non-null   object \n",
            " 16  PaymentMethod     7032 non-null   object \n",
            " 17  MonthlyCharges    7032 non-null   float64\n",
            " 18  TotalCharges      7032 non-null   float64\n",
            " 19  Churn             7032 non-null   object \n",
            "dtypes: float64(2), int64(1), object(17)\n",
            "memory usage: 1.1+ MB\n"
          ],
          "name": "stdout"
        }
      ]
    },
    {
      "cell_type": "markdown",
      "metadata": {
        "id": "AIExNQIAdy9a"
      },
      "source": [
        "## **2.3 Data Exploration**"
      ]
    },
    {
      "cell_type": "code",
      "metadata": {
        "id": "FXCnlhm3lJjR",
        "colab": {
          "base_uri": "https://localhost:8080/",
          "height": 284
        },
        "outputId": "b4a64b52-774b-4f74-9890-127b032cafca"
      },
      "source": [
        "# Descriptive Statistics (continuous variables)\n",
        "churn.describe()"
      ],
      "execution_count": null,
      "outputs": [
        {
          "output_type": "execute_result",
          "data": {
            "text/html": [
              "<div>\n",
              "<style scoped>\n",
              "    .dataframe tbody tr th:only-of-type {\n",
              "        vertical-align: middle;\n",
              "    }\n",
              "\n",
              "    .dataframe tbody tr th {\n",
              "        vertical-align: top;\n",
              "    }\n",
              "\n",
              "    .dataframe thead th {\n",
              "        text-align: right;\n",
              "    }\n",
              "</style>\n",
              "<table border=\"1\" class=\"dataframe\">\n",
              "  <thead>\n",
              "    <tr style=\"text-align: right;\">\n",
              "      <th></th>\n",
              "      <th>tenure</th>\n",
              "      <th>MonthlyCharges</th>\n",
              "      <th>TotalCharges</th>\n",
              "    </tr>\n",
              "  </thead>\n",
              "  <tbody>\n",
              "    <tr>\n",
              "      <th>count</th>\n",
              "      <td>7032.000000</td>\n",
              "      <td>7032.000000</td>\n",
              "      <td>7032.000000</td>\n",
              "    </tr>\n",
              "    <tr>\n",
              "      <th>mean</th>\n",
              "      <td>32.421786</td>\n",
              "      <td>64.798208</td>\n",
              "      <td>2283.300441</td>\n",
              "    </tr>\n",
              "    <tr>\n",
              "      <th>std</th>\n",
              "      <td>24.545260</td>\n",
              "      <td>30.085974</td>\n",
              "      <td>2266.771362</td>\n",
              "    </tr>\n",
              "    <tr>\n",
              "      <th>min</th>\n",
              "      <td>1.000000</td>\n",
              "      <td>18.250000</td>\n",
              "      <td>18.800000</td>\n",
              "    </tr>\n",
              "    <tr>\n",
              "      <th>25%</th>\n",
              "      <td>9.000000</td>\n",
              "      <td>35.587500</td>\n",
              "      <td>401.450000</td>\n",
              "    </tr>\n",
              "    <tr>\n",
              "      <th>50%</th>\n",
              "      <td>29.000000</td>\n",
              "      <td>70.350000</td>\n",
              "      <td>1397.475000</td>\n",
              "    </tr>\n",
              "    <tr>\n",
              "      <th>75%</th>\n",
              "      <td>55.000000</td>\n",
              "      <td>89.862500</td>\n",
              "      <td>3794.737500</td>\n",
              "    </tr>\n",
              "    <tr>\n",
              "      <th>max</th>\n",
              "      <td>72.000000</td>\n",
              "      <td>118.750000</td>\n",
              "      <td>8684.800000</td>\n",
              "    </tr>\n",
              "  </tbody>\n",
              "</table>\n",
              "</div>"
            ],
            "text/plain": [
              "            tenure  MonthlyCharges  TotalCharges\n",
              "count  7032.000000     7032.000000   7032.000000\n",
              "mean     32.421786       64.798208   2283.300441\n",
              "std      24.545260       30.085974   2266.771362\n",
              "min       1.000000       18.250000     18.800000\n",
              "25%       9.000000       35.587500    401.450000\n",
              "50%      29.000000       70.350000   1397.475000\n",
              "75%      55.000000       89.862500   3794.737500\n",
              "max      72.000000      118.750000   8684.800000"
            ]
          },
          "metadata": {
            "tags": []
          },
          "execution_count": 18
        }
      ]
    },
    {
      "cell_type": "code",
      "metadata": {
        "id": "wmd_mQ65lnje",
        "colab": {
          "base_uri": "https://localhost:8080/",
          "height": 202
        },
        "outputId": "875e5509-1480-4c07-be4e-fbb2aa3757db"
      },
      "source": [
        "# Descriptive Statistics (categorical variables)\n",
        "churn.describe(include='O')"
      ],
      "execution_count": null,
      "outputs": [
        {
          "output_type": "execute_result",
          "data": {
            "text/html": [
              "<div>\n",
              "<style scoped>\n",
              "    .dataframe tbody tr th:only-of-type {\n",
              "        vertical-align: middle;\n",
              "    }\n",
              "\n",
              "    .dataframe tbody tr th {\n",
              "        vertical-align: top;\n",
              "    }\n",
              "\n",
              "    .dataframe thead th {\n",
              "        text-align: right;\n",
              "    }\n",
              "</style>\n",
              "<table border=\"1\" class=\"dataframe\">\n",
              "  <thead>\n",
              "    <tr style=\"text-align: right;\">\n",
              "      <th></th>\n",
              "      <th>gender</th>\n",
              "      <th>SeniorCitizen</th>\n",
              "      <th>Partner</th>\n",
              "      <th>Dependents</th>\n",
              "      <th>PhoneService</th>\n",
              "      <th>MultipleLines</th>\n",
              "      <th>InternetService</th>\n",
              "      <th>OnlineSecurity</th>\n",
              "      <th>OnlineBackup</th>\n",
              "      <th>DeviceProtection</th>\n",
              "      <th>TechSupport</th>\n",
              "      <th>StreamingTV</th>\n",
              "      <th>StreamingMovies</th>\n",
              "      <th>Contract</th>\n",
              "      <th>PaperlessBilling</th>\n",
              "      <th>PaymentMethod</th>\n",
              "      <th>Churn</th>\n",
              "    </tr>\n",
              "  </thead>\n",
              "  <tbody>\n",
              "    <tr>\n",
              "      <th>count</th>\n",
              "      <td>7032</td>\n",
              "      <td>7032</td>\n",
              "      <td>7032</td>\n",
              "      <td>7032</td>\n",
              "      <td>7032</td>\n",
              "      <td>7032</td>\n",
              "      <td>7032</td>\n",
              "      <td>7032</td>\n",
              "      <td>7032</td>\n",
              "      <td>7032</td>\n",
              "      <td>7032</td>\n",
              "      <td>7032</td>\n",
              "      <td>7032</td>\n",
              "      <td>7032</td>\n",
              "      <td>7032</td>\n",
              "      <td>7032</td>\n",
              "      <td>7032</td>\n",
              "    </tr>\n",
              "    <tr>\n",
              "      <th>unique</th>\n",
              "      <td>2</td>\n",
              "      <td>2</td>\n",
              "      <td>2</td>\n",
              "      <td>2</td>\n",
              "      <td>2</td>\n",
              "      <td>3</td>\n",
              "      <td>3</td>\n",
              "      <td>3</td>\n",
              "      <td>3</td>\n",
              "      <td>3</td>\n",
              "      <td>3</td>\n",
              "      <td>3</td>\n",
              "      <td>3</td>\n",
              "      <td>3</td>\n",
              "      <td>2</td>\n",
              "      <td>4</td>\n",
              "      <td>2</td>\n",
              "    </tr>\n",
              "    <tr>\n",
              "      <th>top</th>\n",
              "      <td>Male</td>\n",
              "      <td>No</td>\n",
              "      <td>No</td>\n",
              "      <td>No</td>\n",
              "      <td>Yes</td>\n",
              "      <td>No</td>\n",
              "      <td>Fiber optic</td>\n",
              "      <td>No</td>\n",
              "      <td>No</td>\n",
              "      <td>No</td>\n",
              "      <td>No</td>\n",
              "      <td>No</td>\n",
              "      <td>No</td>\n",
              "      <td>Month-to-month</td>\n",
              "      <td>Yes</td>\n",
              "      <td>Electronic check</td>\n",
              "      <td>No</td>\n",
              "    </tr>\n",
              "    <tr>\n",
              "      <th>freq</th>\n",
              "      <td>3549</td>\n",
              "      <td>5890</td>\n",
              "      <td>3639</td>\n",
              "      <td>4933</td>\n",
              "      <td>6352</td>\n",
              "      <td>3385</td>\n",
              "      <td>3096</td>\n",
              "      <td>3497</td>\n",
              "      <td>3087</td>\n",
              "      <td>3094</td>\n",
              "      <td>3472</td>\n",
              "      <td>2809</td>\n",
              "      <td>2781</td>\n",
              "      <td>3875</td>\n",
              "      <td>4168</td>\n",
              "      <td>2365</td>\n",
              "      <td>5163</td>\n",
              "    </tr>\n",
              "  </tbody>\n",
              "</table>\n",
              "</div>"
            ],
            "text/plain": [
              "       gender SeniorCitizen Partner  ... PaperlessBilling     PaymentMethod Churn\n",
              "count    7032          7032    7032  ...             7032              7032  7032\n",
              "unique      2             2       2  ...                2                 4     2\n",
              "top      Male            No      No  ...              Yes  Electronic check    No\n",
              "freq     3549          5890    3639  ...             4168              2365  5163\n",
              "\n",
              "[4 rows x 17 columns]"
            ]
          },
          "metadata": {
            "tags": []
          },
          "execution_count": 19
        }
      ]
    },
    {
      "cell_type": "code",
      "metadata": {
        "id": "wn7fHqCu6Geu",
        "colab": {
          "base_uri": "https://localhost:8080/",
          "height": 118
        },
        "outputId": "8651b0ea-6c19-47de-bb4c-f0846f175cf9"
      },
      "source": [
        "columns = churn.columns\n",
        "print(columns)"
      ],
      "execution_count": null,
      "outputs": [
        {
          "output_type": "stream",
          "text": [
            "Index(['gender', 'SeniorCitizen', 'Partner', 'Dependents', 'tenure',\n",
            "       'PhoneService', 'MultipleLines', 'InternetService', 'OnlineSecurity',\n",
            "       'OnlineBackup', 'DeviceProtection', 'TechSupport', 'StreamingTV',\n",
            "       'StreamingMovies', 'Contract', 'PaperlessBilling', 'PaymentMethod',\n",
            "       'MonthlyCharges', 'TotalCharges', 'Churn'],\n",
            "      dtype='object')\n"
          ],
          "name": "stdout"
        }
      ]
    },
    {
      "cell_type": "code",
      "metadata": {
        "id": "egIB56796mzJ",
        "colab": {
          "base_uri": "https://localhost:8080/",
          "height": 610
        },
        "outputId": "c90384b2-21f3-4e73-ddd3-4aa4490442bc"
      },
      "source": [
        "# plotting continuous variables (boxplots and histograms)\n",
        "cont_vars = ['tenure', 'MonthlyCharges', 'TotalCharges']\n",
        "\n",
        "plt.figure(figsize=(20,10))\n",
        "\n",
        "i = 0\n",
        "for column in cont_vars:\n",
        "    i += 1\n",
        "    plt.subplot(2, 4, i)\n",
        "    plt.boxplot(churn[column])\n",
        "    plt.title('{} boxplot'.format(column))\n",
        "    i += 1\n",
        "    plt.subplot(2, 4, i)\n",
        "    plt.hist(churn[column])\n",
        "    plt.title('{} histogram'.format(column))\n",
        "plt.show()\n",
        "\n",
        "\n",
        "#B = plt.boxplot(data)\n",
        "#[item.get_ydata() for item in B['whiskers']]"
      ],
      "execution_count": null,
      "outputs": [
        {
          "output_type": "display_data",
          "data": {
            "image/png": "[encoded data removed]",
            "text/plain": [
              "<Figure size 1440x720 with 6 Axes>"
            ]
          },
          "metadata": {
            "tags": [],
            "needs_background": "light"
          }
        }
      ]
    },
    {
      "cell_type": "code",
      "metadata": {
        "id": "lvtzukxNQ7vF",
        "colab": {
          "base_uri": "https://localhost:8080/",
          "height": 218
        },
        "outputId": "2c30f14a-dd2a-4a59-c9bc-06d952e4e388"
      },
      "source": [
        "for column in cont_vars:\n",
        "    print(column)\n",
        "    q75, q25 = np.percentile(churn[column], [75, 25])\n",
        "    iqr = q75 - q25\n",
        "    min_val = q25 - (iqr*1.5)\n",
        "    max_val = q75 + (iqr*1.5)\n",
        "    outlier_count = len(np.where((churn[column] > max_val) | (churn[column] < min_val))[0])\n",
        "    outlier_percent = round(outlier_count/len(churn[column])*100, 2)\n",
        "    print('Number of outliers: {}'.format(outlier_count))\n",
        "    print('Percent of data that is outlier: {}%'.format(outlier_percent))\n",
        "    print(40*'-')"
      ],
      "execution_count": null,
      "outputs": [
        {
          "output_type": "stream",
          "text": [
            "tenure\n",
            "Number of outliers: 0\n",
            "Percent of data that is outlier: 0.0%\n",
            "----------------------------------------\n",
            "MonthlyCharges\n",
            "Number of outliers: 0\n",
            "Percent of data that is outlier: 0.0%\n",
            "----------------------------------------\n",
            "TotalCharges\n",
            "Number of outliers: 0\n",
            "Percent of data that is outlier: 0.0%\n",
            "----------------------------------------\n"
          ],
          "name": "stdout"
        }
      ]
    },
    {
      "cell_type": "markdown",
      "metadata": {
        "id": "1ssMJAtPWYqS"
      },
      "source": [
        "As we can see above, there are no outliers"
      ]
    },
    {
      "cell_type": "code",
      "metadata": {
        "id": "l9wmLp8YXbbl",
        "colab": {
          "base_uri": "https://localhost:8080/",
          "height": 410
        },
        "outputId": "c486449e-5845-494f-d16a-5b6716be44d5"
      },
      "source": [
        "# target variable 'Churn' w.r.t 'tenure'\n",
        "plt.figure(figsize=(6,6))\n",
        "plt.bar(churn.groupby('Churn')['Churn'].count().index,churn.groupby('Churn')['tenure'].mean())\n",
        "plt.xlabel('Churn',fontsize=12)\n",
        "plt.ylabel('tenure',fontsize=12)\n",
        "plt.title('Churn w.r.t tenure')\n",
        "plt.show()"
      ],
      "execution_count": null,
      "outputs": [
        {
          "output_type": "display_data",
          "data": {
            "image/png": "[encoded data removed]",
            "text/plain": [
              "<Figure size 432x432 with 1 Axes>"
            ]
          },
          "metadata": {
            "tags": [],
            "needs_background": "light"
          }
        }
      ]
    },
    {
      "cell_type": "code",
      "metadata": {
        "id": "yixc3LkAioP_",
        "colab": {
          "base_uri": "https://localhost:8080/",
          "height": 410
        },
        "outputId": "69f7fc60-af4a-485f-ab1a-116f2040cadf"
      },
      "source": [
        "# target variable 'Churn' w.r.t 'MonthlyCharges'\n",
        "plt.figure(figsize=(6,6))\n",
        "plt.bar(churn.groupby('Churn')['Churn'].count().index,churn.groupby('Churn')['MonthlyCharges'].mean())\n",
        "plt.xlabel('Churn',fontsize=12)\n",
        "plt.ylabel('MonthlyCharges',fontsize=12)\n",
        "plt.title('Churn w.r.t MonthlyCharges')\n",
        "plt.show()"
      ],
      "execution_count": null,
      "outputs": [
        {
          "output_type": "display_data",
          "data": {
            "image/png": "[encoded data removed]",
            "text/plain": [
              "<Figure size 432x432 with 1 Axes>"
            ]
          },
          "metadata": {
            "tags": [],
            "needs_background": "light"
          }
        }
      ]
    },
    {
      "cell_type": "code",
      "metadata": {
        "id": "V2ZygwB1iwRG",
        "colab": {
          "base_uri": "https://localhost:8080/",
          "height": 410
        },
        "outputId": "4f7c01da-3828-496d-91cb-39344f63acc5"
      },
      "source": [
        "# target variable 'Churn' w.r.t 'TotalCharges'\n",
        "plt.figure(figsize=(6,6))\n",
        "plt.bar(churn.groupby('Churn')['Churn'].count().index,churn.groupby('Churn')['TotalCharges'].mean())\n",
        "plt.xlabel('Churn',fontsize=12)\n",
        "plt.ylabel('TotalCharges',fontsize=12)\n",
        "plt.title('Churn w.r.t TotalCharges')\n",
        "plt.show()"
      ],
      "execution_count": null,
      "outputs": [
        {
          "output_type": "display_data",
          "data": {
            "image/png": "[encoded data removed]",
            "text/plain": [
              "<Figure size 432x432 with 1 Axes>"
            ]
          },
          "metadata": {
            "tags": [],
            "needs_background": "light"
          }
        }
      ]
    },
    {
      "cell_type": "code",
      "metadata": {
        "id": "QCmTI_5HwPd9",
        "colab": {
          "base_uri": "https://localhost:8080/",
          "height": 415
        },
        "outputId": "352a2193-784e-4bec-c08c-d1ae196275c8"
      },
      "source": [
        "cormat = churn.corr()\n",
        "plt.figure(figsize=(7,7))\n",
        "sns.heatmap(cormat, square=True, annot=True, linewidths=.5)\n",
        "plt.title('Correlation matrix among continuous variables')\n",
        "plt.show()"
      ],
      "execution_count": null,
      "outputs": [
        {
          "output_type": "display_data",
          "data": {
            "image/png": "[encoded data removed]",
            "text/plain": [
              "<Figure size 504x504 with 2 Axes>"
            ]
          },
          "metadata": {
            "tags": [],
            "needs_background": "light"
          }
        }
      ]
    },
    {
      "cell_type": "code",
      "metadata": {
        "id": "QOlJTEku9Lnj",
        "colab": {
          "base_uri": "https://localhost:8080/",
          "height": 758
        },
        "outputId": "ecb67d20-b057-4bd5-e40f-06a8c83964e3"
      },
      "source": [
        "churn.groupby('Churn').describe().T"
      ],
      "execution_count": null,
      "outputs": [
        {
          "output_type": "execute_result",
          "data": {
            "text/html": [
              "<div>\n",
              "<style scoped>\n",
              "    .dataframe tbody tr th:only-of-type {\n",
              "        vertical-align: middle;\n",
              "    }\n",
              "\n",
              "    .dataframe tbody tr th {\n",
              "        vertical-align: top;\n",
              "    }\n",
              "\n",
              "    .dataframe thead th {\n",
              "        text-align: right;\n",
              "    }\n",
              "</style>\n",
              "<table border=\"1\" class=\"dataframe\">\n",
              "  <thead>\n",
              "    <tr style=\"text-align: right;\">\n",
              "      <th></th>\n",
              "      <th>Churn</th>\n",
              "      <th>No</th>\n",
              "      <th>Yes</th>\n",
              "    </tr>\n",
              "  </thead>\n",
              "  <tbody>\n",
              "    <tr>\n",
              "      <th rowspan=\"8\" valign=\"top\">tenure</th>\n",
              "      <th>count</th>\n",
              "      <td>5163.000000</td>\n",
              "      <td>1869.000000</td>\n",
              "    </tr>\n",
              "    <tr>\n",
              "      <th>mean</th>\n",
              "      <td>37.650010</td>\n",
              "      <td>17.979133</td>\n",
              "    </tr>\n",
              "    <tr>\n",
              "      <th>std</th>\n",
              "      <td>24.076940</td>\n",
              "      <td>19.531123</td>\n",
              "    </tr>\n",
              "    <tr>\n",
              "      <th>min</th>\n",
              "      <td>1.000000</td>\n",
              "      <td>1.000000</td>\n",
              "    </tr>\n",
              "    <tr>\n",
              "      <th>25%</th>\n",
              "      <td>15.000000</td>\n",
              "      <td>2.000000</td>\n",
              "    </tr>\n",
              "    <tr>\n",
              "      <th>50%</th>\n",
              "      <td>38.000000</td>\n",
              "      <td>10.000000</td>\n",
              "    </tr>\n",
              "    <tr>\n",
              "      <th>75%</th>\n",
              "      <td>61.000000</td>\n",
              "      <td>29.000000</td>\n",
              "    </tr>\n",
              "    <tr>\n",
              "      <th>max</th>\n",
              "      <td>72.000000</td>\n",
              "      <td>72.000000</td>\n",
              "    </tr>\n",
              "    <tr>\n",
              "      <th rowspan=\"8\" valign=\"top\">MonthlyCharges</th>\n",
              "      <th>count</th>\n",
              "      <td>5163.000000</td>\n",
              "      <td>1869.000000</td>\n",
              "    </tr>\n",
              "    <tr>\n",
              "      <th>mean</th>\n",
              "      <td>61.307408</td>\n",
              "      <td>74.441332</td>\n",
              "    </tr>\n",
              "    <tr>\n",
              "      <th>std</th>\n",
              "      <td>31.094557</td>\n",
              "      <td>24.666053</td>\n",
              "    </tr>\n",
              "    <tr>\n",
              "      <th>min</th>\n",
              "      <td>18.250000</td>\n",
              "      <td>18.850000</td>\n",
              "    </tr>\n",
              "    <tr>\n",
              "      <th>25%</th>\n",
              "      <td>25.100000</td>\n",
              "      <td>56.150000</td>\n",
              "    </tr>\n",
              "    <tr>\n",
              "      <th>50%</th>\n",
              "      <td>64.450000</td>\n",
              "      <td>79.650000</td>\n",
              "    </tr>\n",
              "    <tr>\n",
              "      <th>75%</th>\n",
              "      <td>88.475000</td>\n",
              "      <td>94.200000</td>\n",
              "    </tr>\n",
              "    <tr>\n",
              "      <th>max</th>\n",
              "      <td>118.750000</td>\n",
              "      <td>118.350000</td>\n",
              "    </tr>\n",
              "    <tr>\n",
              "      <th rowspan=\"8\" valign=\"top\">TotalCharges</th>\n",
              "      <th>count</th>\n",
              "      <td>5163.000000</td>\n",
              "      <td>1869.000000</td>\n",
              "    </tr>\n",
              "    <tr>\n",
              "      <th>mean</th>\n",
              "      <td>2555.344141</td>\n",
              "      <td>1531.796094</td>\n",
              "    </tr>\n",
              "    <tr>\n",
              "      <th>std</th>\n",
              "      <td>2329.456984</td>\n",
              "      <td>1890.822994</td>\n",
              "    </tr>\n",
              "    <tr>\n",
              "      <th>min</th>\n",
              "      <td>18.800000</td>\n",
              "      <td>18.850000</td>\n",
              "    </tr>\n",
              "    <tr>\n",
              "      <th>25%</th>\n",
              "      <td>577.825000</td>\n",
              "      <td>134.500000</td>\n",
              "    </tr>\n",
              "    <tr>\n",
              "      <th>50%</th>\n",
              "      <td>1683.600000</td>\n",
              "      <td>703.550000</td>\n",
              "    </tr>\n",
              "    <tr>\n",
              "      <th>75%</th>\n",
              "      <td>4264.125000</td>\n",
              "      <td>2331.300000</td>\n",
              "    </tr>\n",
              "    <tr>\n",
              "      <th>max</th>\n",
              "      <td>8672.450000</td>\n",
              "      <td>8684.800000</td>\n",
              "    </tr>\n",
              "  </tbody>\n",
              "</table>\n",
              "</div>"
            ],
            "text/plain": [
              "Churn                          No          Yes\n",
              "tenure         count  5163.000000  1869.000000\n",
              "               mean     37.650010    17.979133\n",
              "               std      24.076940    19.531123\n",
              "               min       1.000000     1.000000\n",
              "               25%      15.000000     2.000000\n",
              "               50%      38.000000    10.000000\n",
              "               75%      61.000000    29.000000\n",
              "               max      72.000000    72.000000\n",
              "MonthlyCharges count  5163.000000  1869.000000\n",
              "               mean     61.307408    74.441332\n",
              "               std      31.094557    24.666053\n",
              "               min      18.250000    18.850000\n",
              "               25%      25.100000    56.150000\n",
              "               50%      64.450000    79.650000\n",
              "               75%      88.475000    94.200000\n",
              "               max     118.750000   118.350000\n",
              "TotalCharges   count  5163.000000  1869.000000\n",
              "               mean   2555.344141  1531.796094\n",
              "               std    2329.456984  1890.822994\n",
              "               min      18.800000    18.850000\n",
              "               25%     577.825000   134.500000\n",
              "               50%    1683.600000   703.550000\n",
              "               75%    4264.125000  2331.300000\n",
              "               max    8672.450000  8684.800000"
            ]
          },
          "metadata": {
            "tags": []
          },
          "execution_count": 27
        }
      ]
    },
    {
      "cell_type": "code",
      "metadata": {
        "id": "2Ow195I9e3Of",
        "colab": {
          "base_uri": "https://localhost:8080/",
          "height": 118
        },
        "outputId": "ec9c239b-e49d-40c9-c72a-5915c5d45942"
      },
      "source": [
        "cat_vars = churn.select_dtypes(['object']).columns\n",
        "print(cat_vars)\n",
        "print(\"The number of non-numerical columns is {}\".format(len(cat_vars)))"
      ],
      "execution_count": null,
      "outputs": [
        {
          "output_type": "stream",
          "text": [
            "Index(['gender', 'SeniorCitizen', 'Partner', 'Dependents', 'PhoneService',\n",
            "       'MultipleLines', 'InternetService', 'OnlineSecurity', 'OnlineBackup',\n",
            "       'DeviceProtection', 'TechSupport', 'StreamingTV', 'StreamingMovies',\n",
            "       'Contract', 'PaperlessBilling', 'PaymentMethod', 'Churn'],\n",
            "      dtype='object')\n",
            "The number of non-numerical columns is 17\n"
          ],
          "name": "stdout"
        }
      ]
    },
    {
      "cell_type": "code",
      "metadata": {
        "id": "gs5YsKeBj3F4",
        "colab": {
          "base_uri": "https://localhost:8080/",
          "height": 1000
        },
        "outputId": "3eb72971-19df-49bc-fd63-392c9f5c9e1f"
      },
      "source": [
        "# plotting categorical variables (bar plots)\n",
        "fig, ax = plt.subplots(5, 4, figsize=(20, 30))\n",
        "for idx, (variable, subplot) in enumerate(zip(cat_vars, ax.flatten())):\n",
        "    sns.countplot(churn[variable], ax=subplot)\n",
        "    plt.subplots_adjust(wspace=.3, hspace=.9)\n",
        "    for label in subplot.get_xticklabels():\n",
        "        label.set_rotation(90)\n",
        "else:\n",
        "    [ax.set_visible(False) for ax in ax.flatten()[idx+1:]]"
      ],
      "execution_count": null,
      "outputs": [
        {
          "output_type": "display_data",
          "data": {
            "image/png": "[encoded data removed]",
            "text/plain": [
              "<Figure size 1440x2160 with 20 Axes>"
            ]
          },
          "metadata": {
            "tags": [],
            "needs_background": "light"
          }
        }
      ]
    },
    {
      "cell_type": "markdown",
      "metadata": {
        "id": "6lWsZB7lonZZ"
      },
      "source": [
        "# **3. Hold-out (splitting the data)**\n",
        "\n",
        "---"
      ]
    },
    {
      "cell_type": "code",
      "metadata": {
        "id": "UpcFGuvtfeH7"
      },
      "source": [
        "# y is the target variable\n",
        "y = churn['Churn']\n",
        "# X is the feature set\n",
        "X = churn.drop('Churn', 1)\n",
        "X = pd.get_dummies(X)\n",
        "X = X.dropna(axis=1)"
      ],
      "execution_count": null,
      "outputs": []
    },
    {
      "cell_type": "code",
      "metadata": {
        "id": "8MGMwXKEkhxs"
      },
      "source": [
        "# Split (hold-out)\n",
        "X_train, X_test, y_train, y_test = train_test_split(X, y, test_size=0.20, random_state=40)"
      ],
      "execution_count": null,
      "outputs": []
    },
    {
      "cell_type": "code",
      "metadata": {
        "id": "Krj49-H9zuka",
        "colab": {
          "base_uri": "https://localhost:8080/",
          "height": 907
        },
        "outputId": "ced4b1b1-a4b4-41ca-ae10-d295bcae44f4"
      },
      "source": [
        "X.info()"
      ],
      "execution_count": null,
      "outputs": [
        {
          "output_type": "stream",
          "text": [
            "<class 'pandas.core.frame.DataFrame'>\n",
            "Int64Index: 7032 entries, 0 to 7042\n",
            "Data columns (total 46 columns):\n",
            " #   Column                                   Non-Null Count  Dtype  \n",
            "---  ------                                   --------------  -----  \n",
            " 0   tenure                                   7032 non-null   int64  \n",
            " 1   MonthlyCharges                           7032 non-null   float64\n",
            " 2   TotalCharges                             7032 non-null   float64\n",
            " 3   gender_Female                            7032 non-null   uint8  \n",
            " 4   gender_Male                              7032 non-null   uint8  \n",
            " 5   SeniorCitizen_No                         7032 non-null   uint8  \n",
            " 6   SeniorCitizen_Yes                        7032 non-null   uint8  \n",
            " 7   Partner_No                               7032 non-null   uint8  \n",
            " 8   Partner_Yes                              7032 non-null   uint8  \n",
            " 9   Dependents_No                            7032 non-null   uint8  \n",
            " 10  Dependents_Yes                           7032 non-null   uint8  \n",
            " 11  PhoneService_No                          7032 non-null   uint8  \n",
            " 12  PhoneService_Yes                         7032 non-null   uint8  \n",
            " 13  MultipleLines_No                         7032 non-null   uint8  \n",
            " 14  MultipleLines_No phone service           7032 non-null   uint8  \n",
            " 15  MultipleLines_Yes                        7032 non-null   uint8  \n",
            " 16  InternetService_DSL                      7032 non-null   uint8  \n",
            " 17  InternetService_Fiber optic              7032 non-null   uint8  \n",
            " 18  InternetService_No                       7032 non-null   uint8  \n",
            " 19  OnlineSecurity_No                        7032 non-null   uint8  \n",
            " 20  OnlineSecurity_No internet service       7032 non-null   uint8  \n",
            " 21  OnlineSecurity_Yes                       7032 non-null   uint8  \n",
            " 22  OnlineBackup_No                          7032 non-null   uint8  \n",
            " 23  OnlineBackup_No internet service         7032 non-null   uint8  \n",
            " 24  OnlineBackup_Yes                         7032 non-null   uint8  \n",
            " 25  DeviceProtection_No                      7032 non-null   uint8  \n",
            " 26  DeviceProtection_No internet service     7032 non-null   uint8  \n",
            " 27  DeviceProtection_Yes                     7032 non-null   uint8  \n",
            " 28  TechSupport_No                           7032 non-null   uint8  \n",
            " 29  TechSupport_No internet service          7032 non-null   uint8  \n",
            " 30  TechSupport_Yes                          7032 non-null   uint8  \n",
            " 31  StreamingTV_No                           7032 non-null   uint8  \n",
            " 32  StreamingTV_No internet service          7032 non-null   uint8  \n",
            " 33  StreamingTV_Yes                          7032 non-null   uint8  \n",
            " 34  StreamingMovies_No                       7032 non-null   uint8  \n",
            " 35  StreamingMovies_No internet service      7032 non-null   uint8  \n",
            " 36  StreamingMovies_Yes                      7032 non-null   uint8  \n",
            " 37  Contract_Month-to-month                  7032 non-null   uint8  \n",
            " 38  Contract_One year                        7032 non-null   uint8  \n",
            " 39  Contract_Two year                        7032 non-null   uint8  \n",
            " 40  PaperlessBilling_No                      7032 non-null   uint8  \n",
            " 41  PaperlessBilling_Yes                     7032 non-null   uint8  \n",
            " 42  PaymentMethod_Bank transfer (automatic)  7032 non-null   uint8  \n",
            " 43  PaymentMethod_Credit card (automatic)    7032 non-null   uint8  \n",
            " 44  PaymentMethod_Electronic check           7032 non-null   uint8  \n",
            " 45  PaymentMethod_Mailed check               7032 non-null   uint8  \n",
            "dtypes: float64(2), int64(1), uint8(43)\n",
            "memory usage: 835.0 KB\n"
          ],
          "name": "stdout"
        }
      ]
    },
    {
      "cell_type": "markdown",
      "metadata": {
        "id": "Sxj8i_SYegig"
      },
      "source": [
        "# **4. Feature Engineering**\n",
        "\n",
        "---"
      ]
    },
    {
      "cell_type": "markdown",
      "metadata": {
        "id": "HNEfX6epbVsj"
      },
      "source": [
        "Here, I will try feature selection using SelectKbest vs dimensionality reduction using PCA."
      ]
    },
    {
      "cell_type": "markdown",
      "metadata": {
        "id": "y4JAqhRcmbkB"
      },
      "source": [
        "## **4.1 SelectKBest**"
      ]
    },
    {
      "cell_type": "code",
      "metadata": {
        "id": "8LeSa2-FqZVv"
      },
      "source": [
        "# Create the object for SelectKBest and fit and transform the classification data (K=15 the best 15 features)\n",
        "selector = SelectKBest(score_func=chi2, k=15)\n",
        "selector.fit_transform(X_test,y_test)\n",
        "# Get columns to keep and create new dataframe with those only\n",
        "cols = selector.get_support(indices=True)\n",
        "X_test_Kbest = X_test.iloc[:,cols]"
      ],
      "execution_count": null,
      "outputs": []
    },
    {
      "cell_type": "code",
      "metadata": {
        "id": "IsujNVlukkt8",
        "colab": {
          "base_uri": "https://localhost:8080/",
          "height": 249
        },
        "outputId": "bbc10b88-a3d6-42c0-e25e-bb33946b5044"
      },
      "source": [
        "X_test_Kbest.head()"
      ],
      "execution_count": null,
      "outputs": [
        {
          "output_type": "execute_result",
          "data": {
            "text/html": [
              "<div>\n",
              "<style scoped>\n",
              "    .dataframe tbody tr th:only-of-type {\n",
              "        vertical-align: middle;\n",
              "    }\n",
              "\n",
              "    .dataframe tbody tr th {\n",
              "        vertical-align: top;\n",
              "    }\n",
              "\n",
              "    .dataframe thead th {\n",
              "        text-align: right;\n",
              "    }\n",
              "</style>\n",
              "<table border=\"1\" class=\"dataframe\">\n",
              "  <thead>\n",
              "    <tr style=\"text-align: right;\">\n",
              "      <th></th>\n",
              "      <th>tenure</th>\n",
              "      <th>MonthlyCharges</th>\n",
              "      <th>TotalCharges</th>\n",
              "      <th>InternetService_Fiber optic</th>\n",
              "      <th>OnlineSecurity_No</th>\n",
              "      <th>OnlineSecurity_No internet service</th>\n",
              "      <th>OnlineBackup_No internet service</th>\n",
              "      <th>DeviceProtection_No internet service</th>\n",
              "      <th>TechSupport_No</th>\n",
              "      <th>TechSupport_No internet service</th>\n",
              "      <th>StreamingTV_No internet service</th>\n",
              "      <th>StreamingMovies_No internet service</th>\n",
              "      <th>Contract_Month-to-month</th>\n",
              "      <th>Contract_Two year</th>\n",
              "      <th>PaymentMethod_Electronic check</th>\n",
              "    </tr>\n",
              "  </thead>\n",
              "  <tbody>\n",
              "    <tr>\n",
              "      <th>5414</th>\n",
              "      <td>64</td>\n",
              "      <td>105.65</td>\n",
              "      <td>6903.10</td>\n",
              "      <td>1</td>\n",
              "      <td>1</td>\n",
              "      <td>0</td>\n",
              "      <td>0</td>\n",
              "      <td>0</td>\n",
              "      <td>0</td>\n",
              "      <td>0</td>\n",
              "      <td>0</td>\n",
              "      <td>0</td>\n",
              "      <td>0</td>\n",
              "      <td>0</td>\n",
              "      <td>0</td>\n",
              "    </tr>\n",
              "    <tr>\n",
              "      <th>1251</th>\n",
              "      <td>1</td>\n",
              "      <td>75.80</td>\n",
              "      <td>75.80</td>\n",
              "      <td>1</td>\n",
              "      <td>1</td>\n",
              "      <td>0</td>\n",
              "      <td>0</td>\n",
              "      <td>0</td>\n",
              "      <td>1</td>\n",
              "      <td>0</td>\n",
              "      <td>0</td>\n",
              "      <td>0</td>\n",
              "      <td>1</td>\n",
              "      <td>0</td>\n",
              "      <td>1</td>\n",
              "    </tr>\n",
              "    <tr>\n",
              "      <th>5423</th>\n",
              "      <td>13</td>\n",
              "      <td>80.85</td>\n",
              "      <td>1008.70</td>\n",
              "      <td>1</td>\n",
              "      <td>1</td>\n",
              "      <td>0</td>\n",
              "      <td>0</td>\n",
              "      <td>0</td>\n",
              "      <td>1</td>\n",
              "      <td>0</td>\n",
              "      <td>0</td>\n",
              "      <td>0</td>\n",
              "      <td>1</td>\n",
              "      <td>0</td>\n",
              "      <td>1</td>\n",
              "    </tr>\n",
              "    <tr>\n",
              "      <th>6676</th>\n",
              "      <td>41</td>\n",
              "      <td>94.30</td>\n",
              "      <td>3893.60</td>\n",
              "      <td>1</td>\n",
              "      <td>0</td>\n",
              "      <td>0</td>\n",
              "      <td>0</td>\n",
              "      <td>0</td>\n",
              "      <td>1</td>\n",
              "      <td>0</td>\n",
              "      <td>0</td>\n",
              "      <td>0</td>\n",
              "      <td>1</td>\n",
              "      <td>0</td>\n",
              "      <td>0</td>\n",
              "    </tr>\n",
              "    <tr>\n",
              "      <th>4080</th>\n",
              "      <td>29</td>\n",
              "      <td>26.10</td>\n",
              "      <td>692.55</td>\n",
              "      <td>0</td>\n",
              "      <td>0</td>\n",
              "      <td>1</td>\n",
              "      <td>1</td>\n",
              "      <td>1</td>\n",
              "      <td>0</td>\n",
              "      <td>1</td>\n",
              "      <td>1</td>\n",
              "      <td>1</td>\n",
              "      <td>0</td>\n",
              "      <td>1</td>\n",
              "      <td>0</td>\n",
              "    </tr>\n",
              "  </tbody>\n",
              "</table>\n",
              "</div>"
            ],
            "text/plain": [
              "      tenure  MonthlyCharges  ...  Contract_Two year  PaymentMethod_Electronic check\n",
              "5414      64          105.65  ...                  0                               0\n",
              "1251       1           75.80  ...                  0                               1\n",
              "5423      13           80.85  ...                  0                               1\n",
              "6676      41           94.30  ...                  0                               0\n",
              "4080      29           26.10  ...                  1                               0\n",
              "\n",
              "[5 rows x 15 columns]"
            ]
          },
          "metadata": {
            "tags": []
          },
          "execution_count": 34
        }
      ]
    },
    {
      "cell_type": "markdown",
      "metadata": {
        "id": "vTfAJbzFAEt-"
      },
      "source": [
        "## **4.2 PCA**"
      ]
    },
    {
      "cell_type": "code",
      "metadata": {
        "id": "IYU8xsXLONdo"
      },
      "source": [
        "# We will use StandardScaler to help standardize the dataset’s features onto unit scale\n",
        "from sklearn.preprocessing import StandardScaler\n",
        "\n",
        "X_test_std = StandardScaler().fit_transform(X_test)"
      ],
      "execution_count": null,
      "outputs": []
    },
    {
      "cell_type": "code",
      "metadata": {
        "id": "T6o9TlFxNkHi",
        "colab": {
          "base_uri": "https://localhost:8080/",
          "height": 302
        },
        "outputId": "71b001bd-e45f-468e-9b60-aa30786dd5f5"
      },
      "source": [
        "# We will plot explained variance ratio and choose a number of components that \"capture\" at least 90% of the variance\n",
        "from sklearn.decomposition import PCA\n",
        "\n",
        "pca = PCA().fit(X_test_std)\n",
        "plt.plot(np.cumsum(pca.explained_variance_ratio_))\n",
        "plt.xlabel('number of components')\n",
        "plt.ylabel('cumulative explained variance')"
      ],
      "execution_count": null,
      "outputs": [
        {
          "output_type": "execute_result",
          "data": {
            "text/plain": [
              "Text(0, 0.5, 'cumulative explained variance')"
            ]
          },
          "metadata": {
            "tags": []
          },
          "execution_count": 36
        },
        {
          "output_type": "display_data",
          "data": {
            "image/png": "[encoded data removed]",
            "text/plain": [
              "<Figure size 432x288 with 1 Axes>"
            ]
          },
          "metadata": {
            "tags": [],
            "needs_background": "light"
          }
        }
      ]
    },
    {
      "cell_type": "code",
      "metadata": {
        "id": "9wDGrXbG-nuW"
      },
      "source": [
        "# We will get the PCA using 15 components as per the plot above (90% of variance)\n",
        "pca = PCA(n_components = 15)\n",
        "principalComponents = pca.fit_transform(X_test_std)\n",
        "pcaDf_test_std = pd.DataFrame(data = principalComponents)"
      ],
      "execution_count": null,
      "outputs": []
    },
    {
      "cell_type": "code",
      "metadata": {
        "id": "zA_nVD1nO7I_",
        "colab": {
          "base_uri": "https://localhost:8080/",
          "height": 386
        },
        "outputId": "f77d6a6d-ca22-476a-8294-73b72a3fe637"
      },
      "source": [
        "pcaDf_test_std.info()"
      ],
      "execution_count": null,
      "outputs": [
        {
          "output_type": "stream",
          "text": [
            "<class 'pandas.core.frame.DataFrame'>\n",
            "RangeIndex: 1407 entries, 0 to 1406\n",
            "Data columns (total 15 columns):\n",
            " #   Column  Non-Null Count  Dtype  \n",
            "---  ------  --------------  -----  \n",
            " 0   0       1407 non-null   float64\n",
            " 1   1       1407 non-null   float64\n",
            " 2   2       1407 non-null   float64\n",
            " 3   3       1407 non-null   float64\n",
            " 4   4       1407 non-null   float64\n",
            " 5   5       1407 non-null   float64\n",
            " 6   6       1407 non-null   float64\n",
            " 7   7       1407 non-null   float64\n",
            " 8   8       1407 non-null   float64\n",
            " 9   9       1407 non-null   float64\n",
            " 10  10      1407 non-null   float64\n",
            " 11  11      1407 non-null   float64\n",
            " 12  12      1407 non-null   float64\n",
            " 13  13      1407 non-null   float64\n",
            " 14  14      1407 non-null   float64\n",
            "dtypes: float64(15)\n",
            "memory usage: 165.0 KB\n"
          ],
          "name": "stdout"
        }
      ]
    },
    {
      "cell_type": "markdown",
      "metadata": {
        "id": "9UUr-kso3dLo"
      },
      "source": [
        "# **5. Models**\n",
        "\n",
        "---"
      ]
    },
    {
      "cell_type": "markdown",
      "metadata": {
        "id": "FJzdwFDCF-_G"
      },
      "source": [
        "## **5.1. Models using features from SelectKbest**"
      ]
    },
    {
      "cell_type": "markdown",
      "metadata": {
        "id": "LFDoUce0Db63"
      },
      "source": [
        "### **5.1.1. Decision Tree - Classifier (SelectKbest)**\n",
        "\n"
      ]
    },
    {
      "cell_type": "markdown",
      "metadata": {
        "id": "x7Q92uPk7N_g"
      },
      "source": [
        "**Using GridSearchCV to get the best parameters**"
      ]
    },
    {
      "cell_type": "code",
      "metadata": {
        "id": "Q-GuoFL43kZD"
      },
      "source": [
        "from sklearn.tree import DecisionTreeClassifier\n",
        "from sklearn.model_selection import GridSearchCV\n",
        "from sklearn.model_selection import cross_val_score"
      ],
      "execution_count": null,
      "outputs": []
    },
    {
      "cell_type": "code",
      "metadata": {
        "id": "XIqmFyjE4hnR",
        "colab": {
          "base_uri": "https://localhost:8080/",
          "height": 34
        },
        "outputId": "842cab5e-eec9-47bf-9af5-8c338536d231"
      },
      "source": [
        "# Using GridSearchCV to get the best parameters\n",
        "tree_para = {'criterion':['gini','entropy'], 'splitter':['best','random'], 'max_depth':np.arange(3, 50)}\n",
        "dtree_model = DecisionTreeClassifier(random_state = 1)\n",
        "dt_clf = GridSearchCV(dtree_model, tree_para, cv=5)\n",
        "dt_clf.fit(X_test_Kbest, y_test)\n",
        "tree_model = dt_clf.best_estimator_\n",
        "print (dt_clf.best_score_, dt_clf.best_params_) "
      ],
      "execution_count": null,
      "outputs": [
        {
          "output_type": "stream",
          "text": [
            "0.7832184952424219 {'criterion': 'entropy', 'max_depth': 4, 'splitter': 'random'}\n"
          ],
          "name": "stdout"
        }
      ]
    },
    {
      "cell_type": "markdown",
      "metadata": {
        "id": "piN1cQLq7TAp"
      },
      "source": [
        "**Training and timing the Decision Tree - Classifier model**"
      ]
    },
    {
      "cell_type": "code",
      "metadata": {
        "id": "WzugkibWJtdI",
        "colab": {
          "base_uri": "https://localhost:8080/",
          "height": 50
        },
        "outputId": "4c1d0634-8349-4e13-9530-3629dfe125cd"
      },
      "source": [
        "# train the model (Decision Tree / SelectKbest)\n",
        "\n",
        "# Time the decision tree\n",
        "start_time = time.monotonic()\n",
        "\n",
        "tr_dt_clf = DecisionTreeClassifier(criterion = 'entropy', max_depth = 4 , splitter = 'random', random_state = 1)\n",
        "tr_dt_clf.fit(X_train, y_train)\n",
        "\n",
        "end_time = time.monotonic()\n",
        "print(\"\\n The time it took to run the decission tree: {}\".format(timedelta(seconds=end_time - start_time)))"
      ],
      "execution_count": null,
      "outputs": [
        {
          "output_type": "stream",
          "text": [
            "\n",
            " The time it took to run the decission tree: 0:00:00.020450\n"
          ],
          "name": "stdout"
        }
      ]
    },
    {
      "cell_type": "markdown",
      "metadata": {
        "id": "bHa2upsOuohC"
      },
      "source": [
        "**Decision Tree - Classifier (SelectKbest) confusion matrix**"
      ]
    },
    {
      "cell_type": "code",
      "metadata": {
        "id": "XBjejXBz2wK-",
        "colab": {
          "base_uri": "https://localhost:8080/",
          "height": 50
        },
        "outputId": "0f6f6fe8-feac-4a62-85a9-a0cb7f949715"
      },
      "source": [
        "# confusion matrix\n",
        "\n",
        "# generate predictions on the test data\n",
        "churn_dt_Kb_predicion = tr_dt_clf.predict(X_test)\n",
        "confusion = confusion_matrix(y_test, churn_dt_Kb_predicion, labels=['Yes', 'No'])\n",
        "print(confusion)"
      ],
      "execution_count": null,
      "outputs": [
        {
          "output_type": "stream",
          "text": [
            "[[146 211]\n",
            " [ 89 961]]\n"
          ],
          "name": "stdout"
        }
      ]
    },
    {
      "cell_type": "markdown",
      "metadata": {
        "id": "7h8htDl8usLH"
      },
      "source": [
        "**Decision Tree - Classifier (SelectKbest) classification report**"
      ]
    },
    {
      "cell_type": "code",
      "metadata": {
        "id": "l4BYyy91Kdj5",
        "colab": {
          "base_uri": "https://localhost:8080/",
          "height": 168
        },
        "outputId": "03a07029-3513-4f61-9451-18302511e90b"
      },
      "source": [
        "# classification report\n",
        "\n",
        "churn_dt_Kb_report = classification_report(y_test, churn_dt_Kb_predicion)\n",
        "print(churn_dt_Kb_report)"
      ],
      "execution_count": null,
      "outputs": [
        {
          "output_type": "stream",
          "text": [
            "              precision    recall  f1-score   support\n",
            "\n",
            "          No       0.82      0.92      0.86      1050\n",
            "         Yes       0.62      0.41      0.49       357\n",
            "\n",
            "    accuracy                           0.79      1407\n",
            "   macro avg       0.72      0.66      0.68      1407\n",
            "weighted avg       0.77      0.79      0.77      1407\n",
            "\n"
          ],
          "name": "stdout"
        }
      ]
    },
    {
      "cell_type": "markdown",
      "metadata": {
        "id": "4nhuLZaR0dMF"
      },
      "source": [
        "### **5.1.2. Random Forest (SelectKbest)**"
      ]
    },
    {
      "cell_type": "markdown",
      "metadata": {
        "id": "Bl02jVylqa7h"
      },
      "source": [
        "**Using GridSearchCV to get the best parameters**"
      ]
    },
    {
      "cell_type": "code",
      "metadata": {
        "id": "eGOM0DYvB8d0",
        "colab": {
          "base_uri": "https://localhost:8080/",
          "height": 286
        },
        "outputId": "c557adc5-d2d0-42b9-dd25-71b2ecd05182"
      },
      "source": [
        "from sklearn.ensemble import RandomForestClassifier\n",
        "\n",
        "# Create the parameter grid based on the results of random search \n",
        "rf_param = {\n",
        "    'bootstrap': [True, False],\n",
        "    'max_depth': [80, 90, 100, 110],\n",
        "    'max_features': [2, 3, 4],\n",
        "    'min_samples_leaf': [3, 4, 5],\n",
        "    'min_samples_split': [8, 10, 12],\n",
        "    'n_estimators': [50, 100, 150, 200, 300, 1000] \n",
        "}   \n",
        "# Create a based model\n",
        "rf_model = RandomForestClassifier(random_state = 2)\n",
        "# Instantiate the grid search model\n",
        "rf_clf = GridSearchCV(rf_model, rf_param, cv = 5, n_jobs = -1, verbose = 2)\n",
        "rf_clf.fit(X_test_Kbest, y_test)\n",
        "rfc_model = rf_clf.best_estimator_\n",
        "print (rf_clf.best_score_, rf_clf.best_params_)         "
      ],
      "execution_count": null,
      "outputs": [
        {
          "output_type": "stream",
          "text": [
            "Fitting 5 folds for each of 1296 candidates, totalling 6480 fits\n"
          ],
          "name": "stdout"
        },
        {
          "output_type": "stream",
          "text": [
            "[Parallel(n_jobs=-1)]: Using backend LokyBackend with 2 concurrent workers.\n",
            "[Parallel(n_jobs=-1)]: Done  37 tasks      | elapsed:   15.9s\n",
            "[Parallel(n_jobs=-1)]: Done 158 tasks      | elapsed:  1.2min\n",
            "[Parallel(n_jobs=-1)]: Done 361 tasks      | elapsed:  2.8min\n",
            "[Parallel(n_jobs=-1)]: Done 644 tasks      | elapsed:  5.0min\n",
            "[Parallel(n_jobs=-1)]: Done 1009 tasks      | elapsed:  7.8min\n",
            "[Parallel(n_jobs=-1)]: Done 1454 tasks      | elapsed: 11.4min\n",
            "[Parallel(n_jobs=-1)]: Done 1981 tasks      | elapsed: 15.5min\n",
            "[Parallel(n_jobs=-1)]: Done 2588 tasks      | elapsed: 20.3min\n",
            "[Parallel(n_jobs=-1)]: Done 3277 tasks      | elapsed: 25.8min\n",
            "[Parallel(n_jobs=-1)]: Done 4046 tasks      | elapsed: 31.6min\n",
            "[Parallel(n_jobs=-1)]: Done 4897 tasks      | elapsed: 37.9min\n",
            "[Parallel(n_jobs=-1)]: Done 5828 tasks      | elapsed: 44.8min\n"
          ],
          "name": "stderr"
        },
        {
          "output_type": "stream",
          "text": [
            "0.79175689659524 {'bootstrap': True, 'max_depth': 80, 'max_features': 2, 'min_samples_leaf': 3, 'min_samples_split': 10, 'n_estimators': 50}\n"
          ],
          "name": "stdout"
        },
        {
          "output_type": "stream",
          "text": [
            "[Parallel(n_jobs=-1)]: Done 6480 out of 6480 | elapsed: 49.8min finished\n"
          ],
          "name": "stderr"
        }
      ]
    },
    {
      "cell_type": "markdown",
      "metadata": {
        "id": "IHOJbq_lqsLn"
      },
      "source": [
        "**Training and timing the random forest model**"
      ]
    },
    {
      "cell_type": "code",
      "metadata": {
        "id": "bFB-7qJf0c3o",
        "colab": {
          "base_uri": "https://localhost:8080/",
          "height": 50
        },
        "outputId": "5dab86f1-2775-4a34-928c-4cb929ed0332"
      },
      "source": [
        "# train the model (Random Forest Classifier / SelectKbest)\n",
        "\n",
        "# Time the Random Forest Classifier\n",
        "start_time = time.monotonic()\n",
        "\n",
        "\n",
        "tr_rf_clf = RandomForestClassifier(bootstrap = 'True', max_depth = 80 , max_features = 2, \n",
        "                                   min_samples_leaf = 3, min_samples_split = 10, n_estimators = 50,\n",
        "                                   random_state = 2)\n",
        "tr_rf_clf.fit(X_train, y_train)\n",
        "\n",
        "end_time = time.monotonic()\n",
        "print(\"\\n The time it took to run the random forest: {}\".format(timedelta(seconds=end_time - start_time)))"
      ],
      "execution_count": null,
      "outputs": [
        {
          "output_type": "stream",
          "text": [
            "\n",
            " The time it took to run the random forest: 0:00:00.195668\n"
          ],
          "name": "stdout"
        }
      ]
    },
    {
      "cell_type": "markdown",
      "metadata": {
        "id": "_ByhOTt1q27_"
      },
      "source": [
        "**Random Forest (SelectKbest) confusion matrix**"
      ]
    },
    {
      "cell_type": "code",
      "metadata": {
        "id": "dAU9t5WbhD1T",
        "colab": {
          "base_uri": "https://localhost:8080/",
          "height": 50
        },
        "outputId": "e24b5497-5064-4f47-d87f-a2004168ee42"
      },
      "source": [
        "# confusion matrix\n",
        "\n",
        "# generate predictions on the test data\n",
        "churn_rf_Kb_predicion = tr_rf_clf.predict(X_test)\n",
        "confusion = confusion_matrix(y_test, churn_rf_Kb_predicion, labels=['Yes', 'No'])\n",
        "print(confusion)"
      ],
      "execution_count": null,
      "outputs": [
        {
          "output_type": "stream",
          "text": [
            "[[153 204]\n",
            " [ 99 951]]\n"
          ],
          "name": "stdout"
        }
      ]
    },
    {
      "cell_type": "markdown",
      "metadata": {
        "id": "_HzWNhHuq_lp"
      },
      "source": [
        "**Random Forest (SelectKbest) classification report**"
      ]
    },
    {
      "cell_type": "code",
      "metadata": {
        "id": "jZ4QVoEmhEDL",
        "colab": {
          "base_uri": "https://localhost:8080/",
          "height": 168
        },
        "outputId": "0cdcc6ab-4dd3-4654-b5e6-9c628f758aa1"
      },
      "source": [
        "# classification report\n",
        "\n",
        "churn_rf_Kb_report = classification_report(y_test, churn_rf_Kb_predicion)\n",
        "print(churn_rf_Kb_report)"
      ],
      "execution_count": null,
      "outputs": [
        {
          "output_type": "stream",
          "text": [
            "              precision    recall  f1-score   support\n",
            "\n",
            "          No       0.82      0.91      0.86      1050\n",
            "         Yes       0.61      0.43      0.50       357\n",
            "\n",
            "    accuracy                           0.78      1407\n",
            "   macro avg       0.72      0.67      0.68      1407\n",
            "weighted avg       0.77      0.78      0.77      1407\n",
            "\n"
          ],
          "name": "stdout"
        }
      ]
    },
    {
      "cell_type": "markdown",
      "metadata": {
        "id": "wMigxrRkhsNb"
      },
      "source": [
        "### **5.1.3. KNN (SelectKbest)**"
      ]
    },
    {
      "cell_type": "markdown",
      "metadata": {
        "id": "JFsElXbE7g00"
      },
      "source": [
        "**Using GridSearchCV to get the best parameters**"
      ]
    },
    {
      "cell_type": "code",
      "metadata": {
        "id": "-Nrl1IhfisX2",
        "colab": {
          "base_uri": "https://localhost:8080/",
          "height": 34
        },
        "outputId": "96707fbc-b318-4879-a73e-579cebd761b2"
      },
      "source": [
        "from sklearn.neighbors import KNeighborsClassifier\n",
        "\n",
        "k_range = list(range(1,31))\n",
        "weight_options = [\"uniform\", \"distance\"]\n",
        "\n",
        "param_grid = dict(n_neighbors = k_range, weights = weight_options)\n",
        "knn = KNeighborsClassifier()\n",
        "\n",
        "knn_clf = GridSearchCV(knn, param_grid, cv = 10, scoring = 'accuracy')\n",
        "knn_clf.fit(X_test_Kbest, y_test)\n",
        "knn_model = knn_clf.best_estimator_\n",
        "print (knn_clf.best_score_, knn_clf.best_params_) "
      ],
      "execution_count": null,
      "outputs": [
        {
          "output_type": "stream",
          "text": [
            "0.7675987841945289 {'n_neighbors': 26, 'weights': 'distance'}\n"
          ],
          "name": "stdout"
        }
      ]
    },
    {
      "cell_type": "markdown",
      "metadata": {
        "id": "21Pn7kc47pFz"
      },
      "source": [
        "**Training and timing the KNN model**"
      ]
    },
    {
      "cell_type": "code",
      "metadata": {
        "id": "NA_rJNfgt44w",
        "colab": {
          "base_uri": "https://localhost:8080/",
          "height": 50
        },
        "outputId": "b909ab4c-f9cb-4d70-ce7f-8c94ebe563be"
      },
      "source": [
        "# train the model (KNN / SelectKbest)\n",
        "\n",
        "# Time the Random Forest Classifier\n",
        "start_time = time.monotonic()\n",
        "\n",
        "\n",
        "tr_knn_clf = KNeighborsClassifier(n_neighbors = 26, weights = 'distance')\n",
        "tr_knn_clf.fit(X_train, y_train)\n",
        "\n",
        "end_time = time.monotonic()\n",
        "print(\"\\n The time it took to run the KNN: {}\".format(timedelta(seconds=end_time - start_time)))"
      ],
      "execution_count": null,
      "outputs": [
        {
          "output_type": "stream",
          "text": [
            "\n",
            " The time it took to run the KNN: 0:00:00.040414\n"
          ],
          "name": "stdout"
        }
      ]
    },
    {
      "cell_type": "markdown",
      "metadata": {
        "id": "WODiUNHMuVGK"
      },
      "source": [
        "**KNN (SelectKbest) confusion matrix**"
      ]
    },
    {
      "cell_type": "code",
      "metadata": {
        "id": "yfnjcVOkuWQq",
        "colab": {
          "base_uri": "https://localhost:8080/",
          "height": 50
        },
        "outputId": "eee50ed4-1e9e-4efa-ffe5-5cb1ec831c9c"
      },
      "source": [
        "# confusion matrix\n",
        "\n",
        "# generate predictions on the test data\n",
        "churn_knn_Kb_predicion = tr_knn_clf.predict(X_test)\n",
        "confusion = confusion_matrix(y_test, churn_knn_Kb_predicion, labels=['Yes', 'No'])\n",
        "print(confusion)"
      ],
      "execution_count": null,
      "outputs": [
        {
          "output_type": "stream",
          "text": [
            "[[154 203]\n",
            " [112 938]]\n"
          ],
          "name": "stdout"
        }
      ]
    },
    {
      "cell_type": "markdown",
      "metadata": {
        "id": "_GzkTRVIuWiB"
      },
      "source": [
        "**KNN (SelectKbest) classification report**"
      ]
    },
    {
      "cell_type": "code",
      "metadata": {
        "id": "jHnxkzELuZT1",
        "colab": {
          "base_uri": "https://localhost:8080/",
          "height": 168
        },
        "outputId": "555170dd-ec3e-4337-8aaf-35f3417a7581"
      },
      "source": [
        "# classification report\n",
        "\n",
        "churn_knn_Kb_report = classification_report(y_test, churn_knn_Kb_predicion)\n",
        "print(churn_knn_Kb_report)"
      ],
      "execution_count": null,
      "outputs": [
        {
          "output_type": "stream",
          "text": [
            "              precision    recall  f1-score   support\n",
            "\n",
            "          No       0.82      0.89      0.86      1050\n",
            "         Yes       0.58      0.43      0.49       357\n",
            "\n",
            "    accuracy                           0.78      1407\n",
            "   macro avg       0.70      0.66      0.68      1407\n",
            "weighted avg       0.76      0.78      0.76      1407\n",
            "\n"
          ],
          "name": "stdout"
        }
      ]
    },
    {
      "cell_type": "markdown",
      "metadata": {
        "id": "TecZE6xih3Ca"
      },
      "source": [
        "### **5.1.4. Linear SVC (SelectKbest)**"
      ]
    },
    {
      "cell_type": "markdown",
      "metadata": {
        "id": "yUAdbvX4v6cZ"
      },
      "source": [
        "If more computation power is available SVC would have been a better choice since it is effective in high dimensional spaces. "
      ]
    },
    {
      "cell_type": "markdown",
      "metadata": {
        "id": "IyAaCjSb7wI9"
      },
      "source": [
        "**Using GridSearchCV to get the best parameters**"
      ]
    },
    {
      "cell_type": "code",
      "metadata": {
        "id": "YaOnob7eitNa",
        "colab": {
          "base_uri": "https://localhost:8080/",
          "height": 1000
        },
        "outputId": "6d613df8-a002-4a40-8088-ebc886da2dac"
      },
      "source": [
        "from sklearn.pipeline import Pipeline\n",
        "from sklearn.preprocessing import StandardScaler\n",
        "from sklearn.svm import LinearSVC\n",
        "\n",
        "SVCpipe = Pipeline([('scale', StandardScaler()),\n",
        "                   ('SVC',LinearSVC())])\n",
        "\n",
        "param_grid = {'SVC__C':np.arange(0.01,100,10), 'SVC__loss': ['hinge', 'squared_hinge']}\n",
        "linearsvc = GridSearchCV(SVCpipe, param_grid, cv=5, return_train_score=True, verbose=2)\n",
        "linearsvc.fit(X_test_Kbest, y_test)\n",
        "linearsvc_model = linearsvc.best_estimator_\n",
        "print (linearsvc.best_score_, linearsvc.best_params_) "
      ],
      "execution_count": null,
      "outputs": [
        {
          "output_type": "stream",
          "text": [
            "Fitting 5 folds for each of 20 candidates, totalling 100 fits\n",
            "[CV] SVC__C=0.01, SVC__loss=hinge ....................................\n",
            "[CV] ..................... SVC__C=0.01, SVC__loss=hinge, total=   0.0s\n",
            "[CV] SVC__C=0.01, SVC__loss=hinge ....................................\n",
            "[CV] ..................... SVC__C=0.01, SVC__loss=hinge, total=   0.0s\n",
            "[CV] SVC__C=0.01, SVC__loss=hinge ....................................\n",
            "[CV] ..................... SVC__C=0.01, SVC__loss=hinge, total=   0.0s\n",
            "[CV] SVC__C=0.01, SVC__loss=hinge ....................................\n",
            "[CV] ..................... SVC__C=0.01, SVC__loss=hinge, total=   0.0s\n",
            "[CV] SVC__C=0.01, SVC__loss=hinge ....................................\n",
            "[CV] ..................... SVC__C=0.01, SVC__loss=hinge, total=   0.0s\n",
            "[CV] SVC__C=0.01, SVC__loss=squared_hinge ............................\n",
            "[CV] ............. SVC__C=0.01, SVC__loss=squared_hinge, total=   0.0s\n",
            "[CV] SVC__C=0.01, SVC__loss=squared_hinge ............................\n",
            "[CV] ............. SVC__C=0.01, SVC__loss=squared_hinge, total=   0.0s\n",
            "[CV] SVC__C=0.01, SVC__loss=squared_hinge ............................\n",
            "[CV] ............. SVC__C=0.01, SVC__loss=squared_hinge, total=   0.0s\n",
            "[CV] SVC__C=0.01, SVC__loss=squared_hinge ............................\n",
            "[CV] ............. SVC__C=0.01, SVC__loss=squared_hinge, total=   0.0s\n",
            "[CV] SVC__C=0.01, SVC__loss=squared_hinge ............................\n"
          ],
          "name": "stdout"
        },
        {
          "output_type": "stream",
          "text": [
            "[Parallel(n_jobs=1)]: Using backend SequentialBackend with 1 concurrent workers.\n",
            "[Parallel(n_jobs=1)]: Done   1 out of   1 | elapsed:    0.0s remaining:    0.0s\n"
          ],
          "name": "stderr"
        },
        {
          "output_type": "stream",
          "text": [
            "[CV] ............. SVC__C=0.01, SVC__loss=squared_hinge, total=   0.0s\n",
            "[CV] SVC__C=10.01, SVC__loss=hinge ...................................\n",
            "[CV] .................... SVC__C=10.01, SVC__loss=hinge, total=   0.1s\n",
            "[CV] SVC__C=10.01, SVC__loss=hinge ...................................\n",
            "[CV] .................... SVC__C=10.01, SVC__loss=hinge, total=   0.1s\n",
            "[CV] SVC__C=10.01, SVC__loss=hinge ...................................\n",
            "[CV] .................... SVC__C=10.01, SVC__loss=hinge, total=   0.0s\n",
            "[CV] SVC__C=10.01, SVC__loss=hinge ...................................\n",
            "[CV] .................... SVC__C=10.01, SVC__loss=hinge, total=   0.1s\n",
            "[CV] SVC__C=10.01, SVC__loss=hinge ...................................\n",
            "[CV] .................... SVC__C=10.01, SVC__loss=hinge, total=   0.0s\n",
            "[CV] SVC__C=10.01, SVC__loss=squared_hinge ...........................\n",
            "[CV] ............ SVC__C=10.01, SVC__loss=squared_hinge, total=   0.1s\n",
            "[CV] SVC__C=10.01, SVC__loss=squared_hinge ...........................\n",
            "[CV] ............ SVC__C=10.01, SVC__loss=squared_hinge, total=   0.1s\n",
            "[CV] SVC__C=10.01, SVC__loss=squared_hinge ...........................\n",
            "[CV] ............ SVC__C=10.01, SVC__loss=squared_hinge, total=   0.1s\n",
            "[CV] SVC__C=10.01, SVC__loss=squared_hinge ...........................\n",
            "[CV] ............ SVC__C=10.01, SVC__loss=squared_hinge, total=   0.1s\n",
            "[CV] SVC__C=10.01, SVC__loss=squared_hinge ...........................\n",
            "[CV] ............ SVC__C=10.01, SVC__loss=squared_hinge, total=   0.1s\n",
            "[CV] SVC__C=20.01, SVC__loss=hinge ...................................\n",
            "[CV] .................... SVC__C=20.01, SVC__loss=hinge, total=   0.1s\n",
            "[CV] SVC__C=20.01, SVC__loss=hinge ...................................\n",
            "[CV] .................... SVC__C=20.01, SVC__loss=hinge, total=   0.1s\n",
            "[CV] SVC__C=20.01, SVC__loss=hinge ...................................\n",
            "[CV] .................... SVC__C=20.01, SVC__loss=hinge, total=   0.1s\n",
            "[CV] SVC__C=20.01, SVC__loss=hinge ...................................\n",
            "[CV] .................... SVC__C=20.01, SVC__loss=hinge, total=   0.1s\n",
            "[CV] SVC__C=20.01, SVC__loss=hinge ...................................\n",
            "[CV] .................... SVC__C=20.01, SVC__loss=hinge, total=   0.1s\n",
            "[CV] SVC__C=20.01, SVC__loss=squared_hinge ...........................\n",
            "[CV] ............ SVC__C=20.01, SVC__loss=squared_hinge, total=   0.1s\n",
            "[CV] SVC__C=20.01, SVC__loss=squared_hinge ...........................\n",
            "[CV] ............ SVC__C=20.01, SVC__loss=squared_hinge, total=   0.1s\n",
            "[CV] SVC__C=20.01, SVC__loss=squared_hinge ...........................\n",
            "[CV] ............ SVC__C=20.01, SVC__loss=squared_hinge, total=   0.1s\n",
            "[CV] SVC__C=20.01, SVC__loss=squared_hinge ...........................\n",
            "[CV] ............ SVC__C=20.01, SVC__loss=squared_hinge, total=   0.1s\n",
            "[CV] SVC__C=20.01, SVC__loss=squared_hinge ...........................\n",
            "[CV] ............ SVC__C=20.01, SVC__loss=squared_hinge, total=   0.1s\n",
            "[CV] SVC__C=30.01, SVC__loss=hinge ...................................\n",
            "[CV] .................... SVC__C=30.01, SVC__loss=hinge, total=   0.1s\n",
            "[CV] SVC__C=30.01, SVC__loss=hinge ...................................\n",
            "[CV] .................... SVC__C=30.01, SVC__loss=hinge, total=   0.1s\n",
            "[CV] SVC__C=30.01, SVC__loss=hinge ...................................\n",
            "[CV] .................... SVC__C=30.01, SVC__loss=hinge, total=   0.1s\n",
            "[CV] SVC__C=30.01, SVC__loss=hinge ...................................\n",
            "[CV] .................... SVC__C=30.01, SVC__loss=hinge, total=   0.1s\n",
            "[CV] SVC__C=30.01, SVC__loss=hinge ...................................\n",
            "[CV] .................... SVC__C=30.01, SVC__loss=hinge, total=   0.1s\n",
            "[CV] SVC__C=30.01, SVC__loss=squared_hinge ...........................\n",
            "[CV] ............ SVC__C=30.01, SVC__loss=squared_hinge, total=   0.1s\n",
            "[CV] SVC__C=30.01, SVC__loss=squared_hinge ...........................\n",
            "[CV] ............ SVC__C=30.01, SVC__loss=squared_hinge, total=   0.1s\n",
            "[CV] SVC__C=30.01, SVC__loss=squared_hinge ...........................\n",
            "[CV] ............ SVC__C=30.01, SVC__loss=squared_hinge, total=   0.1s\n",
            "[CV] SVC__C=30.01, SVC__loss=squared_hinge ...........................\n",
            "[CV] ............ SVC__C=30.01, SVC__loss=squared_hinge, total=   0.1s\n",
            "[CV] SVC__C=30.01, SVC__loss=squared_hinge ...........................\n",
            "[CV] ............ SVC__C=30.01, SVC__loss=squared_hinge, total=   0.1s\n",
            "[CV] SVC__C=40.01, SVC__loss=hinge ...................................\n",
            "[CV] .................... SVC__C=40.01, SVC__loss=hinge, total=   0.1s\n",
            "[CV] SVC__C=40.01, SVC__loss=hinge ...................................\n",
            "[CV] .................... SVC__C=40.01, SVC__loss=hinge, total=   0.1s\n",
            "[CV] SVC__C=40.01, SVC__loss=hinge ...................................\n",
            "[CV] .................... SVC__C=40.01, SVC__loss=hinge, total=   0.1s\n",
            "[CV] SVC__C=40.01, SVC__loss=hinge ...................................\n",
            "[CV] .................... SVC__C=40.01, SVC__loss=hinge, total=   0.1s\n",
            "[CV] SVC__C=40.01, SVC__loss=hinge ...................................\n",
            "[CV] .................... SVC__C=40.01, SVC__loss=hinge, total=   0.1s\n",
            "[CV] SVC__C=40.01, SVC__loss=squared_hinge ...........................\n",
            "[CV] ............ SVC__C=40.01, SVC__loss=squared_hinge, total=   0.1s\n",
            "[CV] SVC__C=40.01, SVC__loss=squared_hinge ...........................\n",
            "[CV] ............ SVC__C=40.01, SVC__loss=squared_hinge, total=   0.1s\n",
            "[CV] SVC__C=40.01, SVC__loss=squared_hinge ...........................\n",
            "[CV] ............ SVC__C=40.01, SVC__loss=squared_hinge, total=   0.1s\n",
            "[CV] SVC__C=40.01, SVC__loss=squared_hinge ...........................\n",
            "[CV] ............ SVC__C=40.01, SVC__loss=squared_hinge, total=   0.1s\n",
            "[CV] SVC__C=40.01, SVC__loss=squared_hinge ...........................\n",
            "[CV] ............ SVC__C=40.01, SVC__loss=squared_hinge, total=   0.1s\n",
            "[CV] SVC__C=50.01, SVC__loss=hinge ...................................\n",
            "[CV] .................... SVC__C=50.01, SVC__loss=hinge, total=   0.1s\n",
            "[CV] SVC__C=50.01, SVC__loss=hinge ...................................\n",
            "[CV] .................... SVC__C=50.01, SVC__loss=hinge, total=   0.1s\n",
            "[CV] SVC__C=50.01, SVC__loss=hinge ...................................\n",
            "[CV] .................... SVC__C=50.01, SVC__loss=hinge, total=   0.1s\n",
            "[CV] SVC__C=50.01, SVC__loss=hinge ...................................\n",
            "[CV] .................... SVC__C=50.01, SVC__loss=hinge, total=   0.1s\n",
            "[CV] SVC__C=50.01, SVC__loss=hinge ...................................\n",
            "[CV] .................... SVC__C=50.01, SVC__loss=hinge, total=   0.1s\n",
            "[CV] SVC__C=50.01, SVC__loss=squared_hinge ...........................\n",
            "[CV] ............ SVC__C=50.01, SVC__loss=squared_hinge, total=   0.1s\n",
            "[CV] SVC__C=50.01, SVC__loss=squared_hinge ...........................\n",
            "[CV] ............ SVC__C=50.01, SVC__loss=squared_hinge, total=   0.1s\n",
            "[CV] SVC__C=50.01, SVC__loss=squared_hinge ...........................\n",
            "[CV] ............ SVC__C=50.01, SVC__loss=squared_hinge, total=   0.1s\n",
            "[CV] SVC__C=50.01, SVC__loss=squared_hinge ...........................\n",
            "[CV] ............ SVC__C=50.01, SVC__loss=squared_hinge, total=   0.1s\n",
            "[CV] SVC__C=50.01, SVC__loss=squared_hinge ...........................\n",
            "[CV] ............ SVC__C=50.01, SVC__loss=squared_hinge, total=   0.1s\n",
            "[CV] SVC__C=60.01, SVC__loss=hinge ...................................\n",
            "[CV] .................... SVC__C=60.01, SVC__loss=hinge, total=   0.1s\n",
            "[CV] SVC__C=60.01, SVC__loss=hinge ...................................\n",
            "[CV] .................... SVC__C=60.01, SVC__loss=hinge, total=   0.1s\n",
            "[CV] SVC__C=60.01, SVC__loss=hinge ...................................\n",
            "[CV] .................... SVC__C=60.01, SVC__loss=hinge, total=   0.1s\n",
            "[CV] SVC__C=60.01, SVC__loss=hinge ...................................\n",
            "[CV] .................... SVC__C=60.01, SVC__loss=hinge, total=   0.1s\n",
            "[CV] SVC__C=60.01, SVC__loss=hinge ...................................\n",
            "[CV] .................... SVC__C=60.01, SVC__loss=hinge, total=   0.1s\n",
            "[CV] SVC__C=60.01, SVC__loss=squared_hinge ...........................\n",
            "[CV] ............ SVC__C=60.01, SVC__loss=squared_hinge, total=   0.1s\n",
            "[CV] SVC__C=60.01, SVC__loss=squared_hinge ...........................\n",
            "[CV] ............ SVC__C=60.01, SVC__loss=squared_hinge, total=   0.1s\n",
            "[CV] SVC__C=60.01, SVC__loss=squared_hinge ...........................\n",
            "[CV] ............ SVC__C=60.01, SVC__loss=squared_hinge, total=   0.1s\n",
            "[CV] SVC__C=60.01, SVC__loss=squared_hinge ...........................\n",
            "[CV] ............ SVC__C=60.01, SVC__loss=squared_hinge, total=   0.1s\n",
            "[CV] SVC__C=60.01, SVC__loss=squared_hinge ...........................\n",
            "[CV] ............ SVC__C=60.01, SVC__loss=squared_hinge, total=   0.1s\n",
            "[CV] SVC__C=70.01, SVC__loss=hinge ...................................\n",
            "[CV] .................... SVC__C=70.01, SVC__loss=hinge, total=   0.1s\n",
            "[CV] SVC__C=70.01, SVC__loss=hinge ...................................\n",
            "[CV] .................... SVC__C=70.01, SVC__loss=hinge, total=   0.1s\n",
            "[CV] SVC__C=70.01, SVC__loss=hinge ...................................\n",
            "[CV] .................... SVC__C=70.01, SVC__loss=hinge, total=   0.1s\n",
            "[CV] SVC__C=70.01, SVC__loss=hinge ...................................\n",
            "[CV] .................... SVC__C=70.01, SVC__loss=hinge, total=   0.1s\n",
            "[CV] SVC__C=70.01, SVC__loss=hinge ...................................\n",
            "[CV] .................... SVC__C=70.01, SVC__loss=hinge, total=   0.1s\n",
            "[CV] SVC__C=70.01, SVC__loss=squared_hinge ...........................\n",
            "[CV] ............ SVC__C=70.01, SVC__loss=squared_hinge, total=   0.1s\n",
            "[CV] SVC__C=70.01, SVC__loss=squared_hinge ...........................\n",
            "[CV] ............ SVC__C=70.01, SVC__loss=squared_hinge, total=   0.1s\n",
            "[CV] SVC__C=70.01, SVC__loss=squared_hinge ...........................\n",
            "[CV] ............ SVC__C=70.01, SVC__loss=squared_hinge, total=   0.1s\n",
            "[CV] SVC__C=70.01, SVC__loss=squared_hinge ...........................\n",
            "[CV] ............ SVC__C=70.01, SVC__loss=squared_hinge, total=   0.1s\n",
            "[CV] SVC__C=70.01, SVC__loss=squared_hinge ...........................\n",
            "[CV] ............ SVC__C=70.01, SVC__loss=squared_hinge, total=   0.1s\n",
            "[CV] SVC__C=80.01, SVC__loss=hinge ...................................\n",
            "[CV] .................... SVC__C=80.01, SVC__loss=hinge, total=   0.1s\n",
            "[CV] SVC__C=80.01, SVC__loss=hinge ...................................\n",
            "[CV] .................... SVC__C=80.01, SVC__loss=hinge, total=   0.1s\n",
            "[CV] SVC__C=80.01, SVC__loss=hinge ...................................\n",
            "[CV] .................... SVC__C=80.01, SVC__loss=hinge, total=   0.1s\n",
            "[CV] SVC__C=80.01, SVC__loss=hinge ...................................\n",
            "[CV] .................... SVC__C=80.01, SVC__loss=hinge, total=   0.1s\n",
            "[CV] SVC__C=80.01, SVC__loss=hinge ...................................\n",
            "[CV] .................... SVC__C=80.01, SVC__loss=hinge, total=   0.1s\n",
            "[CV] SVC__C=80.01, SVC__loss=squared_hinge ...........................\n",
            "[CV] ............ SVC__C=80.01, SVC__loss=squared_hinge, total=   0.1s\n",
            "[CV] SVC__C=80.01, SVC__loss=squared_hinge ...........................\n",
            "[CV] ............ SVC__C=80.01, SVC__loss=squared_hinge, total=   0.1s\n",
            "[CV] SVC__C=80.01, SVC__loss=squared_hinge ...........................\n",
            "[CV] ............ SVC__C=80.01, SVC__loss=squared_hinge, total=   0.1s\n",
            "[CV] SVC__C=80.01, SVC__loss=squared_hinge ...........................\n",
            "[CV] ............ SVC__C=80.01, SVC__loss=squared_hinge, total=   0.1s\n",
            "[CV] SVC__C=80.01, SVC__loss=squared_hinge ...........................\n",
            "[CV] ............ SVC__C=80.01, SVC__loss=squared_hinge, total=   0.1s\n",
            "[CV] SVC__C=90.01, SVC__loss=hinge ...................................\n",
            "[CV] .................... SVC__C=90.01, SVC__loss=hinge, total=   0.1s\n",
            "[CV] SVC__C=90.01, SVC__loss=hinge ...................................\n",
            "[CV] .................... SVC__C=90.01, SVC__loss=hinge, total=   0.1s\n",
            "[CV] SVC__C=90.01, SVC__loss=hinge ...................................\n",
            "[CV] .................... SVC__C=90.01, SVC__loss=hinge, total=   0.1s\n",
            "[CV] SVC__C=90.01, SVC__loss=hinge ...................................\n",
            "[CV] .................... SVC__C=90.01, SVC__loss=hinge, total=   0.1s\n",
            "[CV] SVC__C=90.01, SVC__loss=hinge ...................................\n",
            "[CV] .................... SVC__C=90.01, SVC__loss=hinge, total=   0.1s\n",
            "[CV] SVC__C=90.01, SVC__loss=squared_hinge ...........................\n",
            "[CV] ............ SVC__C=90.01, SVC__loss=squared_hinge, total=   0.1s\n",
            "[CV] SVC__C=90.01, SVC__loss=squared_hinge ...........................\n",
            "[CV] ............ SVC__C=90.01, SVC__loss=squared_hinge, total=   0.1s\n",
            "[CV] SVC__C=90.01, SVC__loss=squared_hinge ...........................\n",
            "[CV] ............ SVC__C=90.01, SVC__loss=squared_hinge, total=   0.1s\n",
            "[CV] SVC__C=90.01, SVC__loss=squared_hinge ...........................\n",
            "[CV] ............ SVC__C=90.01, SVC__loss=squared_hinge, total=   0.1s\n",
            "[CV] SVC__C=90.01, SVC__loss=squared_hinge ...........................\n",
            "[CV] ............ SVC__C=90.01, SVC__loss=squared_hinge, total=   0.1s\n",
            "0.78961156962217 {'SVC__C': 10.01, 'SVC__loss': 'squared_hinge'}\n"
          ],
          "name": "stdout"
        },
        {
          "output_type": "stream",
          "text": [
            "[Parallel(n_jobs=1)]: Done 100 out of 100 | elapsed:   10.3s finished\n"
          ],
          "name": "stderr"
        }
      ]
    },
    {
      "cell_type": "markdown",
      "metadata": {
        "id": "Ez54gL_870FR"
      },
      "source": [
        "**Training and timing the Linear SVC model**"
      ]
    },
    {
      "cell_type": "code",
      "metadata": {
        "id": "N94rOsJqK6TS",
        "colab": {
          "base_uri": "https://localhost:8080/",
          "height": 50
        },
        "outputId": "8cb7c531-2b5c-4d3e-9775-0dd1aef6e455"
      },
      "source": [
        "# train the model (SVC / SelectKbest)\n",
        "\n",
        "# Time the Random Forest Classifier\n",
        "start_time = time.monotonic()\n",
        "\n",
        "\n",
        "tr_svc = LinearSVC(C = 50.01, loss = 'hinge')\n",
        "tr_svc.fit(X_train, y_train)\n",
        "\n",
        "end_time = time.monotonic()\n",
        "print(\"\\n The time it took to run the linearSVC: {}\".format(timedelta(seconds=end_time - start_time)))"
      ],
      "execution_count": null,
      "outputs": [
        {
          "output_type": "stream",
          "text": [
            "\n",
            " The time it took to run the linearSVC: 0:00:00.649122\n"
          ],
          "name": "stdout"
        }
      ]
    },
    {
      "cell_type": "markdown",
      "metadata": {
        "id": "kgT6IKF3K7fT"
      },
      "source": [
        "**Linear SVC (SelectKbest) confusion matrix**"
      ]
    },
    {
      "cell_type": "code",
      "metadata": {
        "id": "qy8v233ZK6sX",
        "colab": {
          "base_uri": "https://localhost:8080/",
          "height": 50
        },
        "outputId": "6460c258-face-46a9-ebb7-2fd453283d84"
      },
      "source": [
        "# confusion matrix\n",
        "\n",
        "# generate predictions on the test data\n",
        "churn_svc_Kb_predicion = tr_svc.predict(X_test)\n",
        "confusion = confusion_matrix(y_test, churn_svc_Kb_predicion, labels=['Yes', 'No'])\n",
        "print(confusion)"
      ],
      "execution_count": null,
      "outputs": [
        {
          "output_type": "stream",
          "text": [
            "[[292  65]\n",
            " [366 684]]\n"
          ],
          "name": "stdout"
        }
      ]
    },
    {
      "cell_type": "markdown",
      "metadata": {
        "id": "TRZOHreEK87v"
      },
      "source": [
        "**Linear SVC (SelectKbest) classification report**"
      ]
    },
    {
      "cell_type": "code",
      "metadata": {
        "id": "VgOdskFvK8cV",
        "colab": {
          "base_uri": "https://localhost:8080/",
          "height": 168
        },
        "outputId": "11361ab7-24ec-40d0-c793-b7008606b4d0"
      },
      "source": [
        "# classification report\n",
        "\n",
        "churn_svc_Kb_report = classification_report(y_test, churn_svc_Kb_predicion)\n",
        "print(churn_svc_Kb_report)"
      ],
      "execution_count": null,
      "outputs": [
        {
          "output_type": "stream",
          "text": [
            "              precision    recall  f1-score   support\n",
            "\n",
            "          No       0.91      0.65      0.76      1050\n",
            "         Yes       0.44      0.82      0.58       357\n",
            "\n",
            "    accuracy                           0.69      1407\n",
            "   macro avg       0.68      0.73      0.67      1407\n",
            "weighted avg       0.79      0.69      0.71      1407\n",
            "\n"
          ],
          "name": "stdout"
        }
      ]
    },
    {
      "cell_type": "markdown",
      "metadata": {
        "id": "e_QQ1hazh4L2"
      },
      "source": [
        "### **5.1.5. Logistic regression (SelectKbest)**"
      ]
    },
    {
      "cell_type": "markdown",
      "metadata": {
        "id": "Qjd7Jkj-8t2g"
      },
      "source": [
        "**Using GridSearchCV to get the best parameters**"
      ]
    },
    {
      "cell_type": "code",
      "metadata": {
        "id": "Bq0WZpm2iydd",
        "colab": {
          "base_uri": "https://localhost:8080/",
          "height": 34
        },
        "outputId": "480fcaeb-3d1b-4f57-a10c-0cc6ca64a43b"
      },
      "source": [
        "from sklearn.linear_model import LogisticRegression\n",
        "\n",
        "param_grid = {'C' : np.logspace(-4, 4, 20), \n",
        "              'penalty' : ['l1', 'l2']}\n",
        "              \n",
        "logreg = GridSearchCV(LogisticRegression(), param_grid, cv = 5)\n",
        "logreg.fit(X_test_Kbest, y_test)\n",
        "logreg_model = logreg.best_estimator_\n",
        "print (logreg.best_score_, logreg.best_params_)     \n"
      ],
      "execution_count": null,
      "outputs": [
        {
          "output_type": "stream",
          "text": [
            "0.7981423992327301 {'C': 0.03359818286283781, 'penalty': 'l2'}\n"
          ],
          "name": "stdout"
        }
      ]
    },
    {
      "cell_type": "markdown",
      "metadata": {
        "id": "agyciq218uq_"
      },
      "source": [
        "**Training and timing the logistic regression model**"
      ]
    },
    {
      "cell_type": "code",
      "metadata": {
        "id": "AMJIo43k7K6I",
        "colab": {
          "base_uri": "https://localhost:8080/",
          "height": 50
        },
        "outputId": "5ff4b084-6031-4f68-d5d9-20480da082ef"
      },
      "source": [
        "# train the model (logistic / SelectKbest)\n",
        "\n",
        "# Time the Random Forest Classifier\n",
        "start_time = time.monotonic()\n",
        "\n",
        "\n",
        "tr_logreg_clf = LogisticRegression(C= 0.03359818286283781, penalty= 'l2')\n",
        "tr_logreg_clf.fit(X_train, y_train)\n",
        "\n",
        "end_time = time.monotonic()\n",
        "print(\"\\n The time it took to run the logistic_regression: {}\".format(timedelta(seconds=end_time - start_time)))"
      ],
      "execution_count": null,
      "outputs": [
        {
          "output_type": "stream",
          "text": [
            "\n",
            " The time it took to run the logistic_regression: 0:00:00.173812\n"
          ],
          "name": "stdout"
        }
      ]
    },
    {
      "cell_type": "markdown",
      "metadata": {
        "id": "G9u9uBsB879w"
      },
      "source": [
        "**Logisic regression (SelectKbest) confusion matrix**"
      ]
    },
    {
      "cell_type": "code",
      "metadata": {
        "id": "mzsWFeSg7LKA",
        "colab": {
          "base_uri": "https://localhost:8080/",
          "height": 50
        },
        "outputId": "769f4d25-bbb7-41c3-8a7e-506fcdb433b0"
      },
      "source": [
        "# confusion matrix\n",
        "\n",
        "# generate predictions on the test data\n",
        "churn_logreg_Kb_predicion = tr_logreg_clf.predict(X_test)\n",
        "confusion = confusion_matrix(y_test, churn_logreg_Kb_predicion, labels=['Yes', 'No'])\n",
        "print(confusion)"
      ],
      "execution_count": null,
      "outputs": [
        {
          "output_type": "stream",
          "text": [
            "[[201 156]\n",
            " [121 929]]\n"
          ],
          "name": "stdout"
        }
      ]
    },
    {
      "cell_type": "markdown",
      "metadata": {
        "id": "xgbmGBip9JLk"
      },
      "source": [
        "**Logisic regression (SelectKbest) classification report**"
      ]
    },
    {
      "cell_type": "code",
      "metadata": {
        "id": "l3yDO2Xq7Laf",
        "colab": {
          "base_uri": "https://localhost:8080/",
          "height": 168
        },
        "outputId": "4f9586b5-bdcf-4e34-f758-4a0db527df69"
      },
      "source": [
        "# classification report\n",
        "\n",
        "churn_logreg_Kb_report = classification_report(y_test, churn_logreg_Kb_predicion)\n",
        "print(churn_logreg_Kb_report)"
      ],
      "execution_count": null,
      "outputs": [
        {
          "output_type": "stream",
          "text": [
            "              precision    recall  f1-score   support\n",
            "\n",
            "          No       0.86      0.88      0.87      1050\n",
            "         Yes       0.62      0.56      0.59       357\n",
            "\n",
            "    accuracy                           0.80      1407\n",
            "   macro avg       0.74      0.72      0.73      1407\n",
            "weighted avg       0.80      0.80      0.80      1407\n",
            "\n"
          ],
          "name": "stdout"
        }
      ]
    },
    {
      "cell_type": "markdown",
      "metadata": {
        "id": "7zJPyT1hTK2y"
      },
      "source": [
        "## **5.2. Models using features from PCA**"
      ]
    },
    {
      "cell_type": "markdown",
      "metadata": {
        "id": "cjBWZ9uFuaNc"
      },
      "source": [
        "### **5.2.1. Decision Tree (PCA)**"
      ]
    },
    {
      "cell_type": "markdown",
      "metadata": {
        "id": "u-rX3UQTFogg"
      },
      "source": [
        "**Using GridSearchCV to get the best parameters**"
      ]
    },
    {
      "cell_type": "code",
      "metadata": {
        "id": "F-qtoEnkTInb",
        "colab": {
          "base_uri": "https://localhost:8080/",
          "height": 34
        },
        "outputId": "901644e3-9664-4150-aeb6-f5a268f86894"
      },
      "source": [
        "tree_param = {'criterion':['gini','entropy'], 'splitter':['best','random'], 'max_depth':np.arange(3, 50)}\n",
        "dtree_model = DecisionTreeClassifier(random_state = 1)\n",
        "dt_clf_pca = GridSearchCV(dtree_model, tree_param, cv=5)\n",
        "dt_clf_pca.fit(pcaDf_test_std, y_test)\n",
        "tree_model = dt_clf_pca.best_estimator_\n",
        "print (dt_clf_pca.best_score_, dt_clf_pca.best_params_)"
      ],
      "execution_count": null,
      "outputs": [
        {
          "output_type": "stream",
          "text": [
            "0.7874940057040458 {'criterion': 'gini', 'max_depth': 4, 'splitter': 'random'}\n"
          ],
          "name": "stdout"
        }
      ]
    },
    {
      "cell_type": "markdown",
      "metadata": {
        "id": "PjgK-frmFo4X"
      },
      "source": [
        "**Training and timing the decision tree model**"
      ]
    },
    {
      "cell_type": "code",
      "metadata": {
        "id": "E9ul-qKTy_BF",
        "colab": {
          "base_uri": "https://localhost:8080/",
          "height": 50
        },
        "outputId": "967192c7-cd45-45c2-8c06-ede00d488289"
      },
      "source": [
        "# train the model (Decision Tree / PCA)\n",
        "\n",
        "# Time the decision tree \n",
        "start_time = time.monotonic()\n",
        "\n",
        "tr_clf_pca = DecisionTreeClassifier(criterion = 'gini', max_depth = 4 , splitter = 'random', random_state = 1)\n",
        "tr_clf_pca.fit(X_train, y_train)\n",
        "\n",
        "end_time = time.monotonic()\n",
        "print(\"\\n The time it took to run the decission tree: {}\".format(timedelta(seconds=end_time - start_time)))"
      ],
      "execution_count": null,
      "outputs": [
        {
          "output_type": "stream",
          "text": [
            "\n",
            " The time it took to run the decission tree: 0:00:00.022396\n"
          ],
          "name": "stdout"
        }
      ]
    },
    {
      "cell_type": "markdown",
      "metadata": {
        "id": "pwTTj831Fpd1"
      },
      "source": [
        "**Decision tree (PCA) confusion matrix**\n",
        "\n"
      ]
    },
    {
      "cell_type": "code",
      "metadata": {
        "id": "idOZobCDz_9i",
        "colab": {
          "base_uri": "https://localhost:8080/",
          "height": 50
        },
        "outputId": "d72ec9aa-0fea-472e-8380-a802d53118ba"
      },
      "source": [
        "# confusion matrix\n",
        "\n",
        "# generate predictions on the test data\n",
        "churn_dt_pca_predicion = tr_clf_pca.predict(X_test)\n",
        "confusion = confusion_matrix(y_test, churn_dt_pca_predicion, labels=['Yes', 'No'])\n",
        "print(confusion)"
      ],
      "execution_count": null,
      "outputs": [
        {
          "output_type": "stream",
          "text": [
            "[[146 211]\n",
            " [ 89 961]]\n"
          ],
          "name": "stdout"
        }
      ]
    },
    {
      "cell_type": "markdown",
      "metadata": {
        "id": "GYsDZIIVFp-j"
      },
      "source": [
        "**Decision tree (PCA) classification report**"
      ]
    },
    {
      "cell_type": "code",
      "metadata": {
        "id": "t1Y9vsHD0AqO",
        "colab": {
          "base_uri": "https://localhost:8080/",
          "height": 168
        },
        "outputId": "03fcad38-174a-4375-c2ba-35352e98dd17"
      },
      "source": [
        "# classification report\n",
        "\n",
        "churn_dt_pca_report = classification_report(y_test, churn_dt_pca_predicion)\n",
        "print(churn_dt_pca_report)"
      ],
      "execution_count": null,
      "outputs": [
        {
          "output_type": "stream",
          "text": [
            "              precision    recall  f1-score   support\n",
            "\n",
            "          No       0.82      0.92      0.86      1050\n",
            "         Yes       0.62      0.41      0.49       357\n",
            "\n",
            "    accuracy                           0.79      1407\n",
            "   macro avg       0.72      0.66      0.68      1407\n",
            "weighted avg       0.77      0.79      0.77      1407\n",
            "\n"
          ],
          "name": "stdout"
        }
      ]
    },
    {
      "cell_type": "markdown",
      "metadata": {
        "id": "JvTlt5J--J-D"
      },
      "source": [
        "### **5.2.2. Random Forest (PCA)**"
      ]
    },
    {
      "cell_type": "markdown",
      "metadata": {
        "id": "ZF50lxa3kJzu"
      },
      "source": [
        "**Using GridSearchCV to get the best parameters**"
      ]
    },
    {
      "cell_type": "code",
      "metadata": {
        "id": "qN-GqQUH-2Dj",
        "colab": {
          "base_uri": "https://localhost:8080/",
          "height": 286
        },
        "outputId": "f32476db-9873-4fc5-e075-25c1e9ad0ead"
      },
      "source": [
        "# Create the parameter grid based on the results of random search \n",
        "rf_param = {\n",
        "    'bootstrap': [True, False],\n",
        "    'max_depth': [80, 90, 100, 110],\n",
        "    'max_features': [2, 3, 4],\n",
        "    'min_samples_leaf': [3, 4, 5],\n",
        "    'min_samples_split': [8, 10, 12],\n",
        "    'n_estimators': [50, 100, 150, 200, 300, 1000]\n",
        "}\n",
        "# Create a based model\n",
        "rf_pca_model = RandomForestClassifier(random_state = 2)\n",
        "# Instantiate the grid search model\n",
        "rf_pca_clf = GridSearchCV(rf_pca_model, rf_param, cv = 5, n_jobs = -1, verbose = 2)\n",
        "rf_pca_clf.fit(pcaDf_test_std, y_test)\n",
        "rfc_pca_model = rf_pca_clf.best_estimator_\n",
        "print (rf_pca_clf.best_score_, rf_pca_clf.best_params_)  "
      ],
      "execution_count": null,
      "outputs": [
        {
          "output_type": "stream",
          "text": [
            "Fitting 5 folds for each of 1296 candidates, totalling 6480 fits\n"
          ],
          "name": "stdout"
        },
        {
          "output_type": "stream",
          "text": [
            "[Parallel(n_jobs=-1)]: Using backend LokyBackend with 2 concurrent workers.\n",
            "[Parallel(n_jobs=-1)]: Done  37 tasks      | elapsed:   20.0s\n",
            "[Parallel(n_jobs=-1)]: Done 158 tasks      | elapsed:  1.6min\n",
            "[Parallel(n_jobs=-1)]: Done 361 tasks      | elapsed:  4.0min\n",
            "[Parallel(n_jobs=-1)]: Done 644 tasks      | elapsed:  7.6min\n",
            "[Parallel(n_jobs=-1)]: Done 1009 tasks      | elapsed: 12.0min\n",
            "[Parallel(n_jobs=-1)]: Done 1454 tasks      | elapsed: 17.6min\n",
            "[Parallel(n_jobs=-1)]: Done 1981 tasks      | elapsed: 24.1min\n",
            "[Parallel(n_jobs=-1)]: Done 2588 tasks      | elapsed: 31.7min\n",
            "[Parallel(n_jobs=-1)]: Done 3277 tasks      | elapsed: 40.6min\n",
            "[Parallel(n_jobs=-1)]: Done 4046 tasks      | elapsed: 52.4min\n",
            "[Parallel(n_jobs=-1)]: Done 4897 tasks      | elapsed: 65.5min\n",
            "[Parallel(n_jobs=-1)]: Done 5828 tasks      | elapsed: 79.4min\n",
            "[Parallel(n_jobs=-1)]: Done 6480 out of 6480 | elapsed: 90.0min finished\n"
          ],
          "name": "stderr"
        },
        {
          "output_type": "stream",
          "text": [
            "0.788899825849928 {'bootstrap': True, 'max_depth': 80, 'max_features': 2, 'min_samples_leaf': 5, 'min_samples_split': 8, 'n_estimators': 100}\n"
          ],
          "name": "stdout"
        }
      ]
    },
    {
      "cell_type": "markdown",
      "metadata": {
        "id": "D7-2VaEikKqu"
      },
      "source": [
        "**Training and timing the random forest model**"
      ]
    },
    {
      "cell_type": "code",
      "metadata": {
        "id": "1xE78anbefcl",
        "colab": {
          "base_uri": "https://localhost:8080/",
          "height": 50
        },
        "outputId": "bd953143-e167-4f97-9e98-a7842b82c24c"
      },
      "source": [
        "# train the model (Random Forest Classifier / SelectKbest)\n",
        "\n",
        "# Time the Random Forest Classifier\n",
        "start_time = time.monotonic()\n",
        "\n",
        "\n",
        "tr_rf_pca_clf = RandomForestClassifier(bootstrap= True, max_depth= 80, max_features= 2, \n",
        "                                        min_samples_split= 8, n_estimators= 100,\n",
        "                                        random_state = 2)\n",
        "tr_rf_pca_clf.fit(X_train, y_train)\n",
        "\n",
        "end_time = time.monotonic()\n",
        "print(\"\\n The time it took to run the random forest: {}\".format(timedelta(seconds=end_time - start_time)))"
      ],
      "execution_count": null,
      "outputs": [
        {
          "output_type": "stream",
          "text": [
            "\n",
            " The time it took to run the random forest: 0:00:00.414004\n"
          ],
          "name": "stdout"
        }
      ]
    },
    {
      "cell_type": "markdown",
      "metadata": {
        "id": "aNjSjhTHkLTi"
      },
      "source": [
        "**Random forest (PCA) confusion matrix**"
      ]
    },
    {
      "cell_type": "code",
      "metadata": {
        "id": "b7tB7qEIegIW",
        "colab": {
          "base_uri": "https://localhost:8080/",
          "height": 50
        },
        "outputId": "94e4cc58-2661-47ae-a556-2186559195e2"
      },
      "source": [
        "# confusion matrix\n",
        "\n",
        "# generate predictions on the test data\n",
        "churn_rf_pca_predicion = tr_rf_pca_clf.predict(X_test)\n",
        "confusion = confusion_matrix(y_test, churn_rf_pca_predicion, labels=['Yes', 'No'])\n",
        "print(confusion)"
      ],
      "execution_count": null,
      "outputs": [
        {
          "output_type": "stream",
          "text": [
            "[[160 197]\n",
            " [110 940]]\n"
          ],
          "name": "stdout"
        }
      ]
    },
    {
      "cell_type": "markdown",
      "metadata": {
        "id": "jD5_9qbslLZO"
      },
      "source": [
        "**Random forest (PCA) classification report**"
      ]
    },
    {
      "cell_type": "code",
      "metadata": {
        "id": "Zl6U-iqXeguH",
        "colab": {
          "base_uri": "https://localhost:8080/",
          "height": 168
        },
        "outputId": "d70c9da9-046d-4ca9-f424-98f49f0b0e26"
      },
      "source": [
        "# classification report\n",
        "\n",
        "churn_rf_pca_report = classification_report(y_test, churn_rf_pca_predicion)\n",
        "print(churn_rf_pca_report)"
      ],
      "execution_count": null,
      "outputs": [
        {
          "output_type": "stream",
          "text": [
            "              precision    recall  f1-score   support\n",
            "\n",
            "          No       0.83      0.90      0.86      1050\n",
            "         Yes       0.59      0.45      0.51       357\n",
            "\n",
            "    accuracy                           0.78      1407\n",
            "   macro avg       0.71      0.67      0.68      1407\n",
            "weighted avg       0.77      0.78      0.77      1407\n",
            "\n"
          ],
          "name": "stdout"
        }
      ]
    },
    {
      "cell_type": "markdown",
      "metadata": {
        "id": "Avnqu4RH-LyK"
      },
      "source": [
        "### **5.2.3. KNN (PCA)**"
      ]
    },
    {
      "cell_type": "markdown",
      "metadata": {
        "id": "YbHHNOmzkMx5"
      },
      "source": [
        "**Using GridSearchCV to get the best parameters**"
      ]
    },
    {
      "cell_type": "code",
      "metadata": {
        "id": "9bguHcl9-21s",
        "colab": {
          "base_uri": "https://localhost:8080/",
          "height": 34
        },
        "outputId": "1e1dd331-6bbf-4465-b746-411f7860c03f"
      },
      "source": [
        "k_range = list(range(1,31))\n",
        "weight_options = [\"uniform\", \"distance\"]\n",
        "\n",
        "param_grid = dict(n_neighbors = k_range, weights = weight_options)\n",
        "knn = KNeighborsClassifier()\n",
        "\n",
        "knn_pca_clf = GridSearchCV(knn, param_grid, cv = 10, scoring = 'accuracy')\n",
        "knn_pca_clf.fit(pcaDf_test_std, y_test)\n",
        "knn_pca_model = knn_pca_clf.best_estimator_\n",
        "print (knn_pca_clf.best_score_, knn_pca_clf.best_params_) "
      ],
      "execution_count": null,
      "outputs": [
        {
          "output_type": "stream",
          "text": [
            "0.7804052684903748 {'n_neighbors': 23, 'weights': 'uniform'}\n"
          ],
          "name": "stdout"
        }
      ]
    },
    {
      "cell_type": "markdown",
      "metadata": {
        "id": "1VgCVJnUkNUh"
      },
      "source": [
        "**Training and timing the KNN model**"
      ]
    },
    {
      "cell_type": "code",
      "metadata": {
        "id": "ZsI-yNL-eiXR",
        "colab": {
          "base_uri": "https://localhost:8080/",
          "height": 50
        },
        "outputId": "b1a104d8-0aa9-478e-aeb0-14cf5f650006"
      },
      "source": [
        "# train the model (KNN / SelectKbest)\n",
        "\n",
        "# Time the Random Forest Classifier\n",
        "start_time = time.monotonic()\n",
        "\n",
        "\n",
        "tr_knn_pca_clf = KNeighborsClassifier(n_neighbors = 23, weights = 'uniform')\n",
        "tr_knn_pca_clf.fit(X_train, y_train)\n",
        "\n",
        "end_time = time.monotonic()\n",
        "print(\"\\n The time it took to run the KNN: {}\".format(timedelta(seconds=end_time - start_time)))"
      ],
      "execution_count": null,
      "outputs": [
        {
          "output_type": "stream",
          "text": [
            "\n",
            " The time it took to run the KNN: 0:00:00.048023\n"
          ],
          "name": "stdout"
        }
      ]
    },
    {
      "cell_type": "markdown",
      "metadata": {
        "id": "L4WPsL5xkN0X"
      },
      "source": [
        "**KNN (PCA) confusion matrix**"
      ]
    },
    {
      "cell_type": "code",
      "metadata": {
        "id": "AM-dQiuGeir3",
        "colab": {
          "base_uri": "https://localhost:8080/",
          "height": 50
        },
        "outputId": "8454b5a6-580d-4f10-ed9f-7b4b9f0bd3e2"
      },
      "source": [
        "# confusion matrix\n",
        "\n",
        "# generate predictions on the test data\n",
        "churn_knn_pca_predicion = tr_knn_pca_clf.predict(X_test)\n",
        "confusion = confusion_matrix(y_test, churn_knn_pca_predicion, labels=['Yes', 'No'])\n",
        "print(confusion)"
      ],
      "execution_count": null,
      "outputs": [
        {
          "output_type": "stream",
          "text": [
            "[[154 203]\n",
            " [109 941]]\n"
          ],
          "name": "stdout"
        }
      ]
    },
    {
      "cell_type": "markdown",
      "metadata": {
        "id": "FKJUlwnfkOOa"
      },
      "source": [
        "**KNN (PCA) classification report**"
      ]
    },
    {
      "cell_type": "code",
      "metadata": {
        "id": "9_iECQmmeiNQ",
        "colab": {
          "base_uri": "https://localhost:8080/",
          "height": 168
        },
        "outputId": "d213cbb8-649d-4a0a-8daa-4545d11428ef"
      },
      "source": [
        "# classification report\n",
        "\n",
        "churn_knn_pca_report = classification_report(y_test, churn_knn_pca_predicion)\n",
        "print(churn_knn_pca_report)"
      ],
      "execution_count": null,
      "outputs": [
        {
          "output_type": "stream",
          "text": [
            "              precision    recall  f1-score   support\n",
            "\n",
            "          No       0.82      0.90      0.86      1050\n",
            "         Yes       0.59      0.43      0.50       357\n",
            "\n",
            "    accuracy                           0.78      1407\n",
            "   macro avg       0.70      0.66      0.68      1407\n",
            "weighted avg       0.76      0.78      0.77      1407\n",
            "\n"
          ],
          "name": "stdout"
        }
      ]
    },
    {
      "cell_type": "markdown",
      "metadata": {
        "id": "LMpZqMra-Ksf"
      },
      "source": [
        "### **5.2.4. SVC (PCA)**"
      ]
    },
    {
      "cell_type": "markdown",
      "metadata": {
        "id": "Gs4KNO9CkOsA"
      },
      "source": [
        "Using GridSearchCV to get the best parameters"
      ]
    },
    {
      "cell_type": "code",
      "metadata": {
        "id": "lwSXoYqz-3UK",
        "colab": {
          "base_uri": "https://localhost:8080/",
          "height": 1000
        },
        "outputId": "a270f8e5-5631-4c8d-e206-487413075024"
      },
      "source": [
        "SVCpipe = Pipeline([('scale', StandardScaler()),\n",
        "                   ('SVC',LinearSVC())])\n",
        "\n",
        "param_grid = {'SVC__C':np.arange(0.01,100,10), 'SVC__loss': ['hinge', 'squared_hinge']}\n",
        "linearsvc_pca = GridSearchCV(SVCpipe, param_grid, cv=5, return_train_score=True, verbose=2)\n",
        "linearsvc_pca.fit(pcaDf_test_std, y_test)\n",
        "linearsvc_pca_model = linearsvc_pca.best_estimator_\n",
        "print (linearsvc_pca.best_score_, linearsvc_pca.best_params_) "
      ],
      "execution_count": null,
      "outputs": [
        {
          "output_type": "stream",
          "text": [
            "Fitting 5 folds for each of 20 candidates, totalling 100 fits\n",
            "[CV] SVC__C=0.01, SVC__loss=hinge ....................................\n",
            "[CV] ..................... SVC__C=0.01, SVC__loss=hinge, total=   0.0s\n",
            "[CV] SVC__C=0.01, SVC__loss=hinge ....................................\n",
            "[CV] ..................... SVC__C=0.01, SVC__loss=hinge, total=   0.0s\n",
            "[CV] SVC__C=0.01, SVC__loss=hinge ....................................\n",
            "[CV] ..................... SVC__C=0.01, SVC__loss=hinge, total=   0.0s\n",
            "[CV] SVC__C=0.01, SVC__loss=hinge ....................................\n",
            "[CV] ..................... SVC__C=0.01, SVC__loss=hinge, total=   0.0s\n",
            "[CV] SVC__C=0.01, SVC__loss=hinge ....................................\n",
            "[CV] ..................... SVC__C=0.01, SVC__loss=hinge, total=   0.0s\n",
            "[CV] SVC__C=0.01, SVC__loss=squared_hinge ............................\n",
            "[CV] ............. SVC__C=0.01, SVC__loss=squared_hinge, total=   0.0s\n",
            "[CV] SVC__C=0.01, SVC__loss=squared_hinge ............................\n",
            "[CV] ............. SVC__C=0.01, SVC__loss=squared_hinge, total=   0.0s\n",
            "[CV] SVC__C=0.01, SVC__loss=squared_hinge ............................\n",
            "[CV] ............. SVC__C=0.01, SVC__loss=squared_hinge, total=   0.0s\n",
            "[CV] SVC__C=0.01, SVC__loss=squared_hinge ............................\n",
            "[CV] ............. SVC__C=0.01, SVC__loss=squared_hinge, total=   0.0s\n",
            "[CV] SVC__C=0.01, SVC__loss=squared_hinge ............................\n",
            "[CV] ............. SVC__C=0.01, SVC__loss=squared_hinge, total=   0.0s\n",
            "[CV] SVC__C=10.01, SVC__loss=hinge ...................................\n"
          ],
          "name": "stdout"
        },
        {
          "output_type": "stream",
          "text": [
            "[Parallel(n_jobs=1)]: Using backend SequentialBackend with 1 concurrent workers.\n",
            "[Parallel(n_jobs=1)]: Done   1 out of   1 | elapsed:    0.0s remaining:    0.0s\n"
          ],
          "name": "stderr"
        },
        {
          "output_type": "stream",
          "text": [
            "[CV] .................... SVC__C=10.01, SVC__loss=hinge, total=   0.1s\n",
            "[CV] SVC__C=10.01, SVC__loss=hinge ...................................\n",
            "[CV] .................... SVC__C=10.01, SVC__loss=hinge, total=   0.0s\n",
            "[CV] SVC__C=10.01, SVC__loss=hinge ...................................\n",
            "[CV] .................... SVC__C=10.01, SVC__loss=hinge, total=   0.0s\n",
            "[CV] SVC__C=10.01, SVC__loss=hinge ...................................\n",
            "[CV] .................... SVC__C=10.01, SVC__loss=hinge, total=   0.0s\n",
            "[CV] SVC__C=10.01, SVC__loss=hinge ...................................\n",
            "[CV] .................... SVC__C=10.01, SVC__loss=hinge, total=   0.0s\n",
            "[CV] SVC__C=10.01, SVC__loss=squared_hinge ...........................\n",
            "[CV] ............ SVC__C=10.01, SVC__loss=squared_hinge, total=   0.1s\n",
            "[CV] SVC__C=10.01, SVC__loss=squared_hinge ...........................\n",
            "[CV] ............ SVC__C=10.01, SVC__loss=squared_hinge, total=   0.1s\n",
            "[CV] SVC__C=10.01, SVC__loss=squared_hinge ...........................\n",
            "[CV] ............ SVC__C=10.01, SVC__loss=squared_hinge, total=   0.1s\n",
            "[CV] SVC__C=10.01, SVC__loss=squared_hinge ...........................\n",
            "[CV] ............ SVC__C=10.01, SVC__loss=squared_hinge, total=   0.1s\n",
            "[CV] SVC__C=10.01, SVC__loss=squared_hinge ...........................\n",
            "[CV] ............ SVC__C=10.01, SVC__loss=squared_hinge, total=   0.1s\n",
            "[CV] SVC__C=20.01, SVC__loss=hinge ...................................\n",
            "[CV] .................... SVC__C=20.01, SVC__loss=hinge, total=   0.1s\n",
            "[CV] SVC__C=20.01, SVC__loss=hinge ...................................\n",
            "[CV] .................... SVC__C=20.01, SVC__loss=hinge, total=   0.1s\n",
            "[CV] SVC__C=20.01, SVC__loss=hinge ...................................\n",
            "[CV] .................... SVC__C=20.01, SVC__loss=hinge, total=   0.1s\n",
            "[CV] SVC__C=20.01, SVC__loss=hinge ...................................\n",
            "[CV] .................... SVC__C=20.01, SVC__loss=hinge, total=   0.1s\n",
            "[CV] SVC__C=20.01, SVC__loss=hinge ...................................\n",
            "[CV] .................... SVC__C=20.01, SVC__loss=hinge, total=   0.1s\n",
            "[CV] SVC__C=20.01, SVC__loss=squared_hinge ...........................\n",
            "[CV] ............ SVC__C=20.01, SVC__loss=squared_hinge, total=   0.1s\n",
            "[CV] SVC__C=20.01, SVC__loss=squared_hinge ...........................\n",
            "[CV] ............ SVC__C=20.01, SVC__loss=squared_hinge, total=   0.1s\n",
            "[CV] SVC__C=20.01, SVC__loss=squared_hinge ...........................\n",
            "[CV] ............ SVC__C=20.01, SVC__loss=squared_hinge, total=   0.1s\n",
            "[CV] SVC__C=20.01, SVC__loss=squared_hinge ...........................\n",
            "[CV] ............ SVC__C=20.01, SVC__loss=squared_hinge, total=   0.1s\n",
            "[CV] SVC__C=20.01, SVC__loss=squared_hinge ...........................\n",
            "[CV] ............ SVC__C=20.01, SVC__loss=squared_hinge, total=   0.1s\n",
            "[CV] SVC__C=30.01, SVC__loss=hinge ...................................\n",
            "[CV] .................... SVC__C=30.01, SVC__loss=hinge, total=   0.1s\n",
            "[CV] SVC__C=30.01, SVC__loss=hinge ...................................\n",
            "[CV] .................... SVC__C=30.01, SVC__loss=hinge, total=   0.1s\n",
            "[CV] SVC__C=30.01, SVC__loss=hinge ...................................\n",
            "[CV] .................... SVC__C=30.01, SVC__loss=hinge, total=   0.1s\n",
            "[CV] SVC__C=30.01, SVC__loss=hinge ...................................\n",
            "[CV] .................... SVC__C=30.01, SVC__loss=hinge, total=   0.1s\n",
            "[CV] SVC__C=30.01, SVC__loss=hinge ...................................\n",
            "[CV] .................... SVC__C=30.01, SVC__loss=hinge, total=   0.1s\n",
            "[CV] SVC__C=30.01, SVC__loss=squared_hinge ...........................\n",
            "[CV] ............ SVC__C=30.01, SVC__loss=squared_hinge, total=   0.1s\n",
            "[CV] SVC__C=30.01, SVC__loss=squared_hinge ...........................\n",
            "[CV] ............ SVC__C=30.01, SVC__loss=squared_hinge, total=   0.1s\n",
            "[CV] SVC__C=30.01, SVC__loss=squared_hinge ...........................\n",
            "[CV] ............ SVC__C=30.01, SVC__loss=squared_hinge, total=   0.1s\n",
            "[CV] SVC__C=30.01, SVC__loss=squared_hinge ...........................\n",
            "[CV] ............ SVC__C=30.01, SVC__loss=squared_hinge, total=   0.1s\n",
            "[CV] SVC__C=30.01, SVC__loss=squared_hinge ...........................\n",
            "[CV] ............ SVC__C=30.01, SVC__loss=squared_hinge, total=   0.1s\n",
            "[CV] SVC__C=40.01, SVC__loss=hinge ...................................\n",
            "[CV] .................... SVC__C=40.01, SVC__loss=hinge, total=   0.1s\n",
            "[CV] SVC__C=40.01, SVC__loss=hinge ...................................\n",
            "[CV] .................... SVC__C=40.01, SVC__loss=hinge, total=   0.1s\n",
            "[CV] SVC__C=40.01, SVC__loss=hinge ...................................\n",
            "[CV] .................... SVC__C=40.01, SVC__loss=hinge, total=   0.1s\n",
            "[CV] SVC__C=40.01, SVC__loss=hinge ...................................\n",
            "[CV] .................... SVC__C=40.01, SVC__loss=hinge, total=   0.1s\n",
            "[CV] SVC__C=40.01, SVC__loss=hinge ...................................\n",
            "[CV] .................... SVC__C=40.01, SVC__loss=hinge, total=   0.1s\n",
            "[CV] SVC__C=40.01, SVC__loss=squared_hinge ...........................\n",
            "[CV] ............ SVC__C=40.01, SVC__loss=squared_hinge, total=   0.1s\n",
            "[CV] SVC__C=40.01, SVC__loss=squared_hinge ...........................\n",
            "[CV] ............ SVC__C=40.01, SVC__loss=squared_hinge, total=   0.1s\n",
            "[CV] SVC__C=40.01, SVC__loss=squared_hinge ...........................\n",
            "[CV] ............ SVC__C=40.01, SVC__loss=squared_hinge, total=   0.1s\n",
            "[CV] SVC__C=40.01, SVC__loss=squared_hinge ...........................\n",
            "[CV] ............ SVC__C=40.01, SVC__loss=squared_hinge, total=   0.1s\n",
            "[CV] SVC__C=40.01, SVC__loss=squared_hinge ...........................\n",
            "[CV] ............ SVC__C=40.01, SVC__loss=squared_hinge, total=   0.1s\n",
            "[CV] SVC__C=50.01, SVC__loss=hinge ...................................\n",
            "[CV] .................... SVC__C=50.01, SVC__loss=hinge, total=   0.1s\n",
            "[CV] SVC__C=50.01, SVC__loss=hinge ...................................\n",
            "[CV] .................... SVC__C=50.01, SVC__loss=hinge, total=   0.1s\n",
            "[CV] SVC__C=50.01, SVC__loss=hinge ...................................\n",
            "[CV] .................... SVC__C=50.01, SVC__loss=hinge, total=   0.1s\n",
            "[CV] SVC__C=50.01, SVC__loss=hinge ...................................\n",
            "[CV] .................... SVC__C=50.01, SVC__loss=hinge, total=   0.1s\n",
            "[CV] SVC__C=50.01, SVC__loss=hinge ...................................\n",
            "[CV] .................... SVC__C=50.01, SVC__loss=hinge, total=   0.1s\n",
            "[CV] SVC__C=50.01, SVC__loss=squared_hinge ...........................\n",
            "[CV] ............ SVC__C=50.01, SVC__loss=squared_hinge, total=   0.1s\n",
            "[CV] SVC__C=50.01, SVC__loss=squared_hinge ...........................\n",
            "[CV] ............ SVC__C=50.01, SVC__loss=squared_hinge, total=   0.1s\n",
            "[CV] SVC__C=50.01, SVC__loss=squared_hinge ...........................\n",
            "[CV] ............ SVC__C=50.01, SVC__loss=squared_hinge, total=   0.1s\n",
            "[CV] SVC__C=50.01, SVC__loss=squared_hinge ...........................\n",
            "[CV] ............ SVC__C=50.01, SVC__loss=squared_hinge, total=   0.1s\n",
            "[CV] SVC__C=50.01, SVC__loss=squared_hinge ...........................\n",
            "[CV] ............ SVC__C=50.01, SVC__loss=squared_hinge, total=   0.1s\n",
            "[CV] SVC__C=60.01, SVC__loss=hinge ...................................\n",
            "[CV] .................... SVC__C=60.01, SVC__loss=hinge, total=   0.1s\n",
            "[CV] SVC__C=60.01, SVC__loss=hinge ...................................\n",
            "[CV] .................... SVC__C=60.01, SVC__loss=hinge, total=   0.1s\n",
            "[CV] SVC__C=60.01, SVC__loss=hinge ...................................\n",
            "[CV] .................... SVC__C=60.01, SVC__loss=hinge, total=   0.1s\n",
            "[CV] SVC__C=60.01, SVC__loss=hinge ...................................\n",
            "[CV] .................... SVC__C=60.01, SVC__loss=hinge, total=   0.1s\n",
            "[CV] SVC__C=60.01, SVC__loss=hinge ...................................\n",
            "[CV] .................... SVC__C=60.01, SVC__loss=hinge, total=   0.1s\n",
            "[CV] SVC__C=60.01, SVC__loss=squared_hinge ...........................\n",
            "[CV] ............ SVC__C=60.01, SVC__loss=squared_hinge, total=   0.1s\n",
            "[CV] SVC__C=60.01, SVC__loss=squared_hinge ...........................\n",
            "[CV] ............ SVC__C=60.01, SVC__loss=squared_hinge, total=   0.1s\n",
            "[CV] SVC__C=60.01, SVC__loss=squared_hinge ...........................\n",
            "[CV] ............ SVC__C=60.01, SVC__loss=squared_hinge, total=   0.1s\n",
            "[CV] SVC__C=60.01, SVC__loss=squared_hinge ...........................\n",
            "[CV] ............ SVC__C=60.01, SVC__loss=squared_hinge, total=   0.1s\n",
            "[CV] SVC__C=60.01, SVC__loss=squared_hinge ...........................\n",
            "[CV] ............ SVC__C=60.01, SVC__loss=squared_hinge, total=   0.1s\n",
            "[CV] SVC__C=70.01, SVC__loss=hinge ...................................\n",
            "[CV] .................... SVC__C=70.01, SVC__loss=hinge, total=   0.1s\n",
            "[CV] SVC__C=70.01, SVC__loss=hinge ...................................\n",
            "[CV] .................... SVC__C=70.01, SVC__loss=hinge, total=   0.1s\n",
            "[CV] SVC__C=70.01, SVC__loss=hinge ...................................\n",
            "[CV] .................... SVC__C=70.01, SVC__loss=hinge, total=   0.1s\n",
            "[CV] SVC__C=70.01, SVC__loss=hinge ...................................\n",
            "[CV] .................... SVC__C=70.01, SVC__loss=hinge, total=   0.1s\n",
            "[CV] SVC__C=70.01, SVC__loss=hinge ...................................\n",
            "[CV] .................... SVC__C=70.01, SVC__loss=hinge, total=   0.1s\n",
            "[CV] SVC__C=70.01, SVC__loss=squared_hinge ...........................\n",
            "[CV] ............ SVC__C=70.01, SVC__loss=squared_hinge, total=   0.1s\n",
            "[CV] SVC__C=70.01, SVC__loss=squared_hinge ...........................\n",
            "[CV] ............ SVC__C=70.01, SVC__loss=squared_hinge, total=   0.1s\n",
            "[CV] SVC__C=70.01, SVC__loss=squared_hinge ...........................\n",
            "[CV] ............ SVC__C=70.01, SVC__loss=squared_hinge, total=   0.1s\n",
            "[CV] SVC__C=70.01, SVC__loss=squared_hinge ...........................\n",
            "[CV] ............ SVC__C=70.01, SVC__loss=squared_hinge, total=   0.1s\n",
            "[CV] SVC__C=70.01, SVC__loss=squared_hinge ...........................\n",
            "[CV] ............ SVC__C=70.01, SVC__loss=squared_hinge, total=   0.1s\n",
            "[CV] SVC__C=80.01, SVC__loss=hinge ...................................\n",
            "[CV] .................... SVC__C=80.01, SVC__loss=hinge, total=   0.1s\n",
            "[CV] SVC__C=80.01, SVC__loss=hinge ...................................\n",
            "[CV] .................... SVC__C=80.01, SVC__loss=hinge, total=   0.1s\n",
            "[CV] SVC__C=80.01, SVC__loss=hinge ...................................\n",
            "[CV] .................... SVC__C=80.01, SVC__loss=hinge, total=   0.1s\n",
            "[CV] SVC__C=80.01, SVC__loss=hinge ...................................\n",
            "[CV] .................... SVC__C=80.01, SVC__loss=hinge, total=   0.1s\n",
            "[CV] SVC__C=80.01, SVC__loss=hinge ...................................\n",
            "[CV] .................... SVC__C=80.01, SVC__loss=hinge, total=   0.1s\n",
            "[CV] SVC__C=80.01, SVC__loss=squared_hinge ...........................\n",
            "[CV] ............ SVC__C=80.01, SVC__loss=squared_hinge, total=   0.1s\n",
            "[CV] SVC__C=80.01, SVC__loss=squared_hinge ...........................\n",
            "[CV] ............ SVC__C=80.01, SVC__loss=squared_hinge, total=   0.1s\n",
            "[CV] SVC__C=80.01, SVC__loss=squared_hinge ...........................\n",
            "[CV] ............ SVC__C=80.01, SVC__loss=squared_hinge, total=   0.1s\n",
            "[CV] SVC__C=80.01, SVC__loss=squared_hinge ...........................\n",
            "[CV] ............ SVC__C=80.01, SVC__loss=squared_hinge, total=   0.1s\n",
            "[CV] SVC__C=80.01, SVC__loss=squared_hinge ...........................\n",
            "[CV] ............ SVC__C=80.01, SVC__loss=squared_hinge, total=   0.1s\n",
            "[CV] SVC__C=90.01, SVC__loss=hinge ...................................\n",
            "[CV] .................... SVC__C=90.01, SVC__loss=hinge, total=   0.1s\n",
            "[CV] SVC__C=90.01, SVC__loss=hinge ...................................\n",
            "[CV] .................... SVC__C=90.01, SVC__loss=hinge, total=   0.1s\n",
            "[CV] SVC__C=90.01, SVC__loss=hinge ...................................\n",
            "[CV] .................... SVC__C=90.01, SVC__loss=hinge, total=   0.1s\n",
            "[CV] SVC__C=90.01, SVC__loss=hinge ...................................\n",
            "[CV] .................... SVC__C=90.01, SVC__loss=hinge, total=   0.1s\n",
            "[CV] SVC__C=90.01, SVC__loss=hinge ...................................\n",
            "[CV] .................... SVC__C=90.01, SVC__loss=hinge, total=   0.1s\n",
            "[CV] SVC__C=90.01, SVC__loss=squared_hinge ...........................\n",
            "[CV] ............ SVC__C=90.01, SVC__loss=squared_hinge, total=   0.1s\n",
            "[CV] SVC__C=90.01, SVC__loss=squared_hinge ...........................\n",
            "[CV] ............ SVC__C=90.01, SVC__loss=squared_hinge, total=   0.1s\n",
            "[CV] SVC__C=90.01, SVC__loss=squared_hinge ...........................\n",
            "[CV] ............ SVC__C=90.01, SVC__loss=squared_hinge, total=   0.1s\n",
            "[CV] SVC__C=90.01, SVC__loss=squared_hinge ...........................\n",
            "[CV] ............ SVC__C=90.01, SVC__loss=squared_hinge, total=   0.1s\n",
            "[CV] SVC__C=90.01, SVC__loss=squared_hinge ...........................\n",
            "[CV] ............ SVC__C=90.01, SVC__loss=squared_hinge, total=   0.1s\n",
            "0.793177860225638 {'SVC__C': 10.01, 'SVC__loss': 'squared_hinge'}\n"
          ],
          "name": "stdout"
        },
        {
          "output_type": "stream",
          "text": [
            "[Parallel(n_jobs=1)]: Done 100 out of 100 | elapsed:   10.5s finished\n"
          ],
          "name": "stderr"
        }
      ]
    },
    {
      "cell_type": "markdown",
      "metadata": {
        "id": "AjE6FCMTmFo8"
      },
      "source": [
        "**Training and timing the SVC model**\n"
      ]
    },
    {
      "cell_type": "code",
      "metadata": {
        "id": "q5Tbr5-xejez",
        "colab": {
          "base_uri": "https://localhost:8080/",
          "height": 50
        },
        "outputId": "e866195a-1903-4216-8fd0-d983205b3d7d"
      },
      "source": [
        "# train the model (SVC / SelectKbest)\n",
        "\n",
        "# Time the Random Forest Classifier\n",
        "start_time = time.monotonic()\n",
        "\n",
        "\n",
        "tr_svc_pca = LinearSVC(C = 10.01, loss = 'squared_hinge')\n",
        "tr_svc_pca.fit(X_train, y_train)\n",
        "\n",
        "end_time = time.monotonic()\n",
        "print(\"\\n The time it took to run the linearSVC: {}\".format(timedelta(seconds=end_time - start_time)))"
      ],
      "execution_count": null,
      "outputs": [
        {
          "output_type": "stream",
          "text": [
            "\n",
            " The time it took to run the linearSVC: 0:00:00.652580\n"
          ],
          "name": "stdout"
        }
      ]
    },
    {
      "cell_type": "markdown",
      "metadata": {
        "id": "7uTMZqX1kQth"
      },
      "source": [
        "**SCV (PCA) confusion matrix**"
      ]
    },
    {
      "cell_type": "code",
      "metadata": {
        "id": "kw3dXROtejvt",
        "colab": {
          "base_uri": "https://localhost:8080/",
          "height": 50
        },
        "outputId": "f71bf841-470b-4339-9955-9ba8c6217a69"
      },
      "source": [
        "# confusion matrix\n",
        "\n",
        "# generate predictions on the test data\n",
        "churn_svc_pca_predicion = tr_svc_pca.predict(X_test)\n",
        "confusion = confusion_matrix(y_test, churn_svc_pca_predicion, labels=['Yes', 'No'])\n",
        "print(confusion)"
      ],
      "execution_count": null,
      "outputs": [
        {
          "output_type": "stream",
          "text": [
            "[[303  54]\n",
            " [464 586]]\n"
          ],
          "name": "stdout"
        }
      ]
    },
    {
      "cell_type": "markdown",
      "metadata": {
        "id": "oPFp6QkAkRRS"
      },
      "source": [
        "**SVC (PCA) classification report**"
      ]
    },
    {
      "cell_type": "code",
      "metadata": {
        "id": "KTVGqCNMejWS",
        "colab": {
          "base_uri": "https://localhost:8080/",
          "height": 168
        },
        "outputId": "c1620bd8-ebe5-4cc8-8f9e-bd9ff9b67b0e"
      },
      "source": [
        "# classification report\n",
        "\n",
        "churn_svc_pca_report = classification_report(y_test, churn_svc_pca_predicion)\n",
        "print(churn_svc_pca_report)"
      ],
      "execution_count": null,
      "outputs": [
        {
          "output_type": "stream",
          "text": [
            "              precision    recall  f1-score   support\n",
            "\n",
            "          No       0.92      0.56      0.69      1050\n",
            "         Yes       0.40      0.85      0.54       357\n",
            "\n",
            "    accuracy                           0.63      1407\n",
            "   macro avg       0.66      0.70      0.62      1407\n",
            "weighted avg       0.78      0.63      0.65      1407\n",
            "\n"
          ],
          "name": "stdout"
        }
      ]
    },
    {
      "cell_type": "markdown",
      "metadata": {
        "id": "-pbeQr-x-M4e"
      },
      "source": [
        "### **5.2.5. Logistic regression (PCA)**"
      ]
    },
    {
      "cell_type": "markdown",
      "metadata": {
        "id": "OLnagQN9kRyz"
      },
      "source": [
        "**Using GridSearchCV to get the best parameters**"
      ]
    },
    {
      "cell_type": "code",
      "metadata": {
        "id": "wPIZe_aO-3-v",
        "colab": {
          "base_uri": "https://localhost:8080/",
          "height": 34
        },
        "outputId": "456052c6-5223-4fdf-ebb2-cef73b13a7be"
      },
      "source": [
        "param_grid = {'C' : np.logspace(-4, 4, 20), \n",
        "              'penalty' : ['l1', 'l2']}\n",
        "              \n",
        "logreg_pca = GridSearchCV(LogisticRegression(), param_grid, cv = 5)\n",
        "logreg_pca.fit(pcaDf_test_std, y_test)\n",
        "logreg_pca_model = logreg_pca.best_estimator_\n",
        "print (logreg_pca.best_score_, logreg_pca.best_params_)     \n"
      ],
      "execution_count": null,
      "outputs": [
        {
          "output_type": "stream",
          "text": [
            "0.7945937760278641 {'C': 0.012742749857031334, 'penalty': 'l2'}\n"
          ],
          "name": "stdout"
        }
      ]
    },
    {
      "cell_type": "markdown",
      "metadata": {
        "id": "BQQu0w2DkSOS"
      },
      "source": [
        "**Training and timing the logistic regression model**\n"
      ]
    },
    {
      "cell_type": "code",
      "metadata": {
        "id": "6poueyu2ekaK",
        "colab": {
          "base_uri": "https://localhost:8080/",
          "height": 50
        },
        "outputId": "dc8b6fbe-5763-4982-bdd9-3cd2cd7b8755"
      },
      "source": [
        "# train the model (logistic / SelectKbest)\n",
        "\n",
        "# Time the Random Forest Classifier\n",
        "start_time = time.monotonic()\n",
        "\n",
        "\n",
        "tr_logreg_pca_clf = LogisticRegression(C= 0.012742749857031334, penalty= 'l2')\n",
        "tr_logreg_pca_clf.fit(X_train, y_train)\n",
        "\n",
        "end_time = time.monotonic()\n",
        "print(\"\\n The time it took to run the logistic_regression: {}\".format(timedelta(seconds=end_time - start_time)))"
      ],
      "execution_count": null,
      "outputs": [
        {
          "output_type": "stream",
          "text": [
            "\n",
            " The time it took to run the logistic_regression: 0:00:00.114936\n"
          ],
          "name": "stdout"
        }
      ]
    },
    {
      "cell_type": "markdown",
      "metadata": {
        "id": "0LHeDsG5kSmV"
      },
      "source": [
        "**logistic regression (PCA) confusion matrix**"
      ]
    },
    {
      "cell_type": "code",
      "metadata": {
        "id": "kwaafoHZekow",
        "colab": {
          "base_uri": "https://localhost:8080/",
          "height": 50
        },
        "outputId": "4edc798b-e84e-4321-88cd-2d2a617376ce"
      },
      "source": [
        "# confusion matrix\n",
        "\n",
        "# generate predictions on the test data\n",
        "churn_logreg_pca_predicion = tr_logreg_pca_clf.predict(X_test)\n",
        "confusion = confusion_matrix(y_test, churn_logreg_pca_predicion, labels=['Yes', 'No'])\n",
        "print(confusion)"
      ],
      "execution_count": null,
      "outputs": [
        {
          "output_type": "stream",
          "text": [
            "[[196 161]\n",
            " [115 935]]\n"
          ],
          "name": "stdout"
        }
      ]
    },
    {
      "cell_type": "markdown",
      "metadata": {
        "id": "M6xFVy1skS7U"
      },
      "source": [
        "**logistic regression (PCA) classification report**"
      ]
    },
    {
      "cell_type": "code",
      "metadata": {
        "id": "mAusw_0LekSA",
        "colab": {
          "base_uri": "https://localhost:8080/",
          "height": 168
        },
        "outputId": "8b5a67a9-6ed1-451f-f044-a4028c2e3bdc"
      },
      "source": [
        "# classification report\n",
        "\n",
        "churn_logreg_pca_report = classification_report(y_test, churn_logreg_pca_predicion)\n",
        "print(churn_logreg_pca_report)"
      ],
      "execution_count": null,
      "outputs": [
        {
          "output_type": "stream",
          "text": [
            "              precision    recall  f1-score   support\n",
            "\n",
            "          No       0.85      0.89      0.87      1050\n",
            "         Yes       0.63      0.55      0.59       357\n",
            "\n",
            "    accuracy                           0.80      1407\n",
            "   macro avg       0.74      0.72      0.73      1407\n",
            "weighted avg       0.80      0.80      0.80      1407\n",
            "\n"
          ],
          "name": "stdout"
        }
      ]
    },
    {
      "cell_type": "markdown",
      "metadata": {
        "id": "BcH_Ke1Nc8Um"
      },
      "source": [
        "# **6. Conclusion**\n",
        "\n",
        "---"
      ]
    },
    {
      "cell_type": "markdown",
      "metadata": {
        "id": "FaA-kIlsF5bn"
      },
      "source": [
        "## **6.1. Classification report summary**"
      ]
    },
    {
      "cell_type": "markdown",
      "metadata": {
        "id": "y9K5xYGCe7rl"
      },
      "source": [
        "### **6.1.1 Execution time**"
      ]
    },
    {
      "cell_type": "markdown",
      "metadata": {
        "id": "4HeQ0Bj-d2vB"
      },
      "source": [
        "In regards to model training execution time we can see that the quickest is the Decision tree - Classifier followed by KNN as shown bellow:"
      ]
    },
    {
      "cell_type": "markdown",
      "metadata": {
        "id": "i1Dr4IHKb1am"
      },
      "source": [
        "![image.png](data:image/png;base64,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)"
      ]
    },
    {
      "cell_type": "markdown",
      "metadata": {
        "id": "aaVm55Q5GLvl"
      },
      "source": [
        "### **6.1.2. Accuracy**"
      ]
    },
    {
      "cell_type": "markdown",
      "metadata": {
        "id": "QvHakLdUHS0-"
      },
      "source": [
        "![image.png](data:image/png;base64,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)"
      ]
    },
    {
      "cell_type": "markdown",
      "metadata": {
        "id": "Z_HSiXowGjW9"
      },
      "source": [
        "### **6.1.3. Precision**"
      ]
    },
    {
      "cell_type": "markdown",
      "metadata": {
        "id": "ENcbtYt8Gopg"
      },
      "source": [
        "![image.png](data:image/png;base64,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)"
      ]
    },
    {
      "cell_type": "markdown",
      "metadata": {
        "id": "3g1VEFhOIMMR"
      },
      "source": [
        "### **6.1.4. Recall**"
      ]
    },
    {
      "cell_type": "markdown",
      "metadata": {
        "id": "JSTY2cq9IoUv"
      },
      "source": [
        "![image.png](data:image/png;base64,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)"
      ]
    },
    {
      "cell_type": "markdown",
      "metadata": {
        "id": "2LDauK9zIb_T"
      },
      "source": [
        "### **6.1.5. F1-score**"
      ]
    },
    {
      "cell_type": "markdown",
      "metadata": {
        "id": "_JtGLqLbIqtz"
      },
      "source": [
        "![image.png](data:image/png;base64,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)"
      ]
    },
    {
      "cell_type": "markdown",
      "metadata": {
        "id": "EBwfyWKLGB04"
      },
      "source": [
        "## **6.2. In summary**"
      ]
    },
    {
      "cell_type": "markdown",
      "metadata": {
        "id": "PAFb5B0pf1U6"
      },
      "source": [
        "Preliminary results show that, the slected models except the linear SVC model show an accuracy of 0.78 up to 0.8 which means our models are approximately 78% - 80% accurate which may seem good at first. Accuracy is a great measure but only if we have symmetric datasets where values of positives and negatives are almost same. This is unlike our churn dataset where there are significantly more Actual Negatives (churn = no) than Actual Positives (churn = yes). Better metrics for evaluating class-imbalanced problems would be precision, recall or maybe f1-score. But at this point which of them should we prioritize.\n",
        "\n",
        "If a customer is actually leaving the company (Actual Positive) yet the system incorrectly predicted it as not leaving the company (False Negative), the customer might leave if this means their dissatisfaction or other important parameters go undetected and unimproved. There is always a high cost to losing customers (high churn rate) since that means losing market share which simply means losing money. As such, we will accept the lower cost of additional work and further tests that more False Positives might entail before churn is ruled out. In other words, we want to minimise False Negatives at the risk of increasing False Positives. Hence, we prioritize recall then maybe f1-score.\n",
        "\n",
        "When it comes to recall, Linear SVC is the highest with recall of 0.85. But if we are trying to find a balance between false positives and false negatives in this study then the Logistic regression model would be the better choice since it had the highest f1-score of 0.59.\n",
        "\n",
        "Future work will include the implementation of more machine learning algorithms with more numerical datasets. Ideally big data can be considered for the comparison of more machine learning algorithms."
      ]
    }
  ]
}